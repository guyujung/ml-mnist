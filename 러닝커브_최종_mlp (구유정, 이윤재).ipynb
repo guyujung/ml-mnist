{
  "cells": [
    {
      "cell_type": "markdown",
      "id": "Ft8Y9ohVd8pz",
      "metadata": {
        "id": "Ft8Y9ohVd8pz"
      },
      "source": [
        "98260만개 data (교수님+우리+오리지널)"
      ]
    },
    {
      "cell_type": "code",
      "execution_count": 1,
      "id": "QOqui6ABJyyt",
      "metadata": {
        "id": "QOqui6ABJyyt"
      },
      "outputs": [],
      "source": [
        "# Python ≥3.5 is required\n",
        "import sys\n",
        "assert sys.version_info >= (3, 5)\n",
        "\n",
        "# Scikit-Learn ≥0.20 is required\n",
        "import sklearn\n",
        "assert sklearn.__version__ >= \"0.20\"\n",
        "\n",
        "# Common imports\n",
        "import numpy as np\n",
        "import os\n",
        "\n",
        "# to make this notebook's output stable across runs\n",
        "np.random.seed(42)\n",
        "\n",
        "# To plot pretty figures\n",
        "%matplotlib inline\n",
        "import matplotlib as mpl\n",
        "import matplotlib.pyplot as plt\n",
        "mpl.rc('axes', labelsize=14)\n",
        "mpl.rc('xtick', labelsize=12)\n",
        "mpl.rc('ytick', labelsize=12)\n",
        "\n",
        "# Where to save the figures\n",
        "PROJECT_ROOT_DIR = \".\"\n",
        "CHAPTER_ID = \"3_classification\"\n",
        "IMAGES_PATH = os.path.join(PROJECT_ROOT_DIR, \"images\", CHAPTER_ID)\n",
        "os.makedirs(IMAGES_PATH, exist_ok=True)\n",
        "\n",
        "def save_fig(fig_id, tight_layout=True, fig_extension=\"png\", resolution=300):\n",
        "    path = os.path.join(IMAGES_PATH, fig_id + \".\" + fig_extension)\n",
        "    print(\"Saving figure\", fig_id)\n",
        "    if tight_layout:\n",
        "        plt.tight_layout()\n",
        "    plt.savefig(path, format=fig_extension, dpi=resolution)"
      ]
    },
    {
      "cell_type": "code",
      "execution_count": 2,
      "id": "0e3686ee",
      "metadata": {
        "colab": {
          "base_uri": "https://localhost:8080/"
        },
        "id": "0e3686ee",
        "outputId": "e7269690-f781-489a-d379-a7dd1b150861"
      },
      "outputs": [
        {
          "name": "stdout",
          "output_type": "stream",
          "text": [
            "(1000, 28, 28) float64 (1000,) int64\n",
            "(1000, 28, 28) float64 (1000,) int64\n",
            "(1000, 28, 28) float64 (1000,) int32\n",
            "(1000, 28, 28) float64 (1000,) int32\n",
            "(26720, 28, 28) float64 (26720,) int64\n"
          ]
        },
        {
          "data": {
            "text/plain": [
              "numpy.ndarray"
            ]
          },
          "execution_count": 2,
          "metadata": {},
          "output_type": "execute_result"
        }
      ],
      "source": [
        "%matplotlib inline\n",
        "import numpy as np\n",
        "import matplotlib.pyplot as plt\n",
        "import cv2\n",
        "import os\n",
        "import pandas as pd\n",
        "from sklearn.model_selection import train_test_split\n",
        "nd1=np.load('mnist_20211236_total.npz')#이윤재\n",
        "nd2=np.load('mnist_20201572_1.npz')#구유정\n",
        "nd3=np.load('mnist_20171372.npz')#김석우\n",
        "nd4=np.load('mnist_20170565.npz')#김성년\n",
        "nd6=np.load('H_MNIST_train.npz')\n",
        "print(nd1['img'].shape, nd1['img'].dtype, nd1['label'].shape, nd1['label'].dtype)\n",
        "print(nd2['img'].shape, nd2['img'].dtype, nd2['label'].shape, nd2['label'].dtype)\n",
        "print(nd3['img'].shape, nd3['img'].dtype, nd3['label'].shape, nd3['label'].dtype)\n",
        "print(nd4['img'].shape, nd4['img'].dtype, nd4['label'].shape, nd4['label'].dtype)\n",
        "print(nd6['img'].shape, nd6['img'].dtype, nd6['label'].shape, nd6['label'].dtype)\n",
        "\n",
        "X=np.concatenate((nd1['img'], nd2['img'],nd3['img'],nd4['img'],nd6['img']), axis=0)\n",
        "y=np.concatenate((nd1['label'], nd2['label'],nd3['label'],nd4['label'],nd6['label']), axis=0)\n",
        "np.savez_compressed('mnist_total.npz', X=X, y=y)\n",
        "nd5=np.load('mnist_total.npz')\n",
        "nd5\n",
        "X.shape\n",
        "X=X.reshape(30720,784)\n",
        "#X_new=X[23040:30720]\n",
        "#y_new=y[23040:30720]\n",
        "#X_new.shape\n",
        "#y_new.shape\n",
        "type(X)"
      ]
    },
    {
      "cell_type": "markdown",
      "id": "2rPzy19zbVmo",
      "metadata": {
        "id": "2rPzy19zbVmo"
      },
      "source": [
        "data cleaning 작업"
      ]
    },
    {
      "cell_type": "code",
      "execution_count": 3,
      "id": "0bbbf372",
      "metadata": {
        "colab": {
          "base_uri": "https://localhost:8080/"
        },
        "id": "0bbbf372",
        "outputId": "1ae53e62-c77c-4031-a591-33bedff71237"
      },
      "outputs": [
        {
          "data": {
            "text/plain": [
              "(28260,)"
            ]
          },
          "execution_count": 3,
          "metadata": {},
          "output_type": "execute_result"
        }
      ],
      "source": [
        "a_3=y[23110:23120]\n",
        "b_3=y[23230:23340]\n",
        "c_3=y[23420:23450]\n",
        "d_3=y[23520:23720]\n",
        "e_3=y[23770:23780]\n",
        "f_3=y[23900:23920]\n",
        "g_3=y[23970:24110]\n",
        "h_3=y[24140:24270]\n",
        "i_3=y[24780:28410]\n",
        "j_3=y[28460:30720]\n",
        "a_4=y[:2000]\n",
        "b_4=y[2100:2070]\n",
        "c_4=y[2210:2220]\n",
        "d_4=y[2230:2280]\n",
        "e_4=y[2410:2800]\n",
        "f_4=y[2900:6980]\n",
        "g_4=y[6900:7300]\n",
        "h_4=y[7400:7500]\n",
        "i_4=y[7600:7680]\n",
        "a_5=y[15361:18700]\n",
        "b_5=y[19120:19290]\n",
        "c_5=y[19300:19310]\n",
        "d_5=y[19320:21760]\n",
        "e_5=y[21780:21790]\n",
        "f_5=y[21800:21810]\n",
        "g_5=y[21820:21830]\n",
        "h_5=y[21840:21850]\n",
        "i_5=y[21860:21880]\n",
        "j_5=y[21890:23050]\n",
        "a_6=y[7680:8200]\n",
        "b_6=y[8220:8340]\n",
        "c_6=y[8360:9310]\n",
        "d_6=y[9520:11920]\n",
        "e_6=y[11950:12120]\n",
        "f_6=y[12220:15361]\n",
        "y_new=np.concatenate((a_3,b_3,c_3,d_3,e_3,f_3,h_3,g_3,h_3,i_3,j_3,a_4, b_4,c_4,d_4,e_4,f_4,g_4,h_4,i_4,a_5,b_5,c_5,d_5,e_5,f_5,g_5,h_5,i_5\n",
        "                     ,j_5,a_6,b_6,c_6,d_6,e_6,f_6))\n",
        "y_new.shape"
      ]
    },
    {
      "cell_type": "code",
      "execution_count": 4,
      "id": "5e5e5cb9",
      "metadata": {
        "colab": {
          "base_uri": "https://localhost:8080/"
        },
        "id": "5e5e5cb9",
        "outputId": "20d9062c-d49c-47e5-dfe3-0ab87abc850e"
      },
      "outputs": [
        {
          "data": {
            "text/plain": [
              "(28260, 784)"
            ]
          },
          "execution_count": 4,
          "metadata": {},
          "output_type": "execute_result"
        }
      ],
      "source": [
        "a=X[23110:23120]\n",
        "b=X[23230:23340]\n",
        "c=X[23420:23450]\n",
        "d=X[23520:23720]\n",
        "e=X[23770:23780]\n",
        "f=X[23900:23920]\n",
        "g=X[23970:24110]\n",
        "h=X[24140:24270]\n",
        "i=X[24780:28410]\n",
        "j=X[28460:30720]\n",
        "a_0=X[:2000]\n",
        "b_0=X[2100:2070]\n",
        "c_0=X[2210:2220]\n",
        "d_0=X[2230:2280]\n",
        "e_0=X[2410:2800]\n",
        "f_0=X[2900:6980]\n",
        "g_0=X[6900:7300]\n",
        "h_0=X[7400:7500]\n",
        "i_0=X[7600:7680]\n",
        "a_1=X[15361:18700]\n",
        "b_1=X[19120:19290]\n",
        "c_1=X[19300:19310]\n",
        "d_1=X[19320:21760]\n",
        "e_1=X[21780:21790]\n",
        "f_1=X[21800:21810]\n",
        "g_1=X[21820:21830]\n",
        "h_1=X[21840:21850]\n",
        "i_1=X[21860:21880]\n",
        "j_1= X[21890:23050]\n",
        "a_2=X[7680:8200]\n",
        "b_2=X[8220:8340]\n",
        "c_2=X[8360:9310]\n",
        "d_2=X[9520:11920]\n",
        "e_2=X[11950:12120]\n",
        "f_2=X[12220:15361]\n",
        "\n",
        "X_new=np.concatenate((a,b,c,d,e,f,h,g,h,i,j,a_0, b_0,c_0,d_0,e_0,f_0,g_0,h_0,i_0,a_1,b_1,c_1,d_1,e_1,f_1,g_1,h_1,i_1\n",
        "                     ,j_1,a_2,b_2,c_2,d_2,e_2,f_2))\n",
        "X_new=X_new.reshape(28260,784)\n",
        "X_new.shape\n"
      ]
    },
    {
      "cell_type": "code",
      "execution_count": 5,
      "id": "KX3qHqFedLoZ",
      "metadata": {
        "colab": {
          "base_uri": "https://localhost:8080/"
        },
        "id": "KX3qHqFedLoZ",
        "outputId": "b9ac4f70-7813-4e56-960f-0b0f8e5b4dc2"
      },
      "outputs": [
        {
          "data": {
            "text/plain": [
              "(30720,)"
            ]
          },
          "execution_count": 5,
          "metadata": {},
          "output_type": "execute_result"
        }
      ],
      "source": [
        "from sklearn.datasets import fetch_openml\n",
        "mnist = fetch_openml('mnist_784', version=1)\n",
        "mnist.keys()\n",
        "X_mnist, y_mnist = mnist[\"data\"], mnist[\"target\"] # X, y: pandas DataFrame\n",
        "y_mnist=y_mnist.astype(np.uint8)\n",
        "X.shape\n",
        "y.shape"
      ]
    },
    {
      "cell_type": "code",
      "execution_count": 6,
      "id": "JQZW1FQ7nxQy",
      "metadata": {
        "id": "JQZW1FQ7nxQy"
      },
      "outputs": [],
      "source": [
        "X_final=np.concatenate((X_new,X_mnist))\n",
        "y_final=np.concatenate((y_new,y_mnist))"
      ]
    },
    {
      "cell_type": "markdown",
      "id": "11X5g1YcEFOR",
      "metadata": {
        "id": "11X5g1YcEFOR"
      },
      "source": [
        "mnist를 dataframe 에서 array 로 변환(concatate 하더라도 mnist 변수 따로 쓰면 data frame 이므로.)"
      ]
    },
    {
      "cell_type": "code",
      "execution_count": 7,
      "id": "ZGva8TNFD5Jf",
      "metadata": {
        "colab": {
          "base_uri": "https://localhost:8080/"
        },
        "id": "ZGva8TNFD5Jf",
        "outputId": "658c92e8-47af-436f-a58c-bf1608002062"
      },
      "outputs": [
        {
          "name": "stdout",
          "output_type": "stream",
          "text": [
            "(70000, 784)\n",
            "<class 'numpy.ndarray'>\n",
            "(70000,)\n",
            "<class 'numpy.ndarray'>\n"
          ]
        }
      ],
      "source": [
        "X_mnist=np.array(X_mnist)\n",
        "\n",
        "\n",
        "print(X_mnist.shape)\n",
        "print(type(X_mnist))\n",
        "\n",
        "y_mnist=np.array(y_mnist)\n",
        "\n",
        "\n",
        "print(y_mnist.shape)\n",
        "print(type(y_mnist))"
      ]
    },
    {
      "cell_type": "markdown",
      "id": "CYvtJIEjcMtV",
      "metadata": {
        "id": "CYvtJIEjcMtV"
      },
      "source": [
        "# 8:1:1로 data split"
      ]
    },
    {
      "cell_type": "code",
      "execution_count": 8,
      "id": "517feafa",
      "metadata": {
        "colab": {
          "base_uri": "https://localhost:8080/"
        },
        "id": "517feafa",
        "outputId": "a28174c7-3592-4f22-d2fa-a04393ec6587"
      },
      "outputs": [
        {
          "name": "stdout",
          "output_type": "stream",
          "text": [
            "(78608, 784) (9826, 784) (9826, 784)\n",
            "(78608,) (9826,) (9826,)\n"
          ]
        }
      ],
      "source": [
        "from sklearn.model_selection import train_test_split\n",
        "X_train0, X_test, y_train0, y_test = train_test_split(X_final, y_final, test_size=0.1, shuffle =True, random_state = 8)\n",
        "X_train, X_val, y_train, y_val = train_test_split(X_train0, y_train0,test_size=float(1/9), shuffle =True,random_state= 8) # 0.25 x 0.8 = 0.2\n",
        "\n",
        "print(X_train.shape, X_val.shape, X_test.shape)\n",
        "print(y_train.shape, y_val.shape, y_test.shape)"
      ]
    },
    {
      "cell_type": "markdown",
      "id": "AVfhe7u8oIqL",
      "metadata": {
        "id": "AVfhe7u8oIqL"
      },
      "source": [
        "------------------------------------------------------\n",
        "##여기서부터 모델 학습"
      ]
    },
    {
      "cell_type": "markdown",
      "id": "7mVODr1RfM5s",
      "metadata": {
        "id": "7mVODr1RfM5s"
      },
      "source": [
        "scaling\n",
        "\n",
        "mlp fit\n"
      ]
    },
    {
      "cell_type": "code",
      "execution_count": 9,
      "id": "spsd4pjBW5wL",
      "metadata": {
        "colab": {
          "base_uri": "https://localhost:8080/"
        },
        "id": "spsd4pjBW5wL",
        "outputId": "49fb10fa-226c-4d5c-d873-94a8123e4c9e"
      },
      "outputs": [
        {
          "name": "stdout",
          "output_type": "stream",
          "text": [
            "Fit time :  179.78951406478882\n"
          ]
        }
      ],
      "source": [
        "#일반적으로 standardscaler로 scaling\n",
        "import time\n",
        "from sklearn.neural_network import MLPClassifier\n",
        "from sklearn.preprocessing import StandardScaler\n",
        "from sklearn.model_selection import cross_val_score\n",
        "\n",
        "mlp_clf=MLPClassifier(random_state=42)\n",
        "\n",
        "start_time=time.time()\n",
        "mlp_clf.fit(X_train,y_train)\n",
        "print('Fit time : ', time.time()-start_time)"
      ]
    },
    {
      "cell_type": "markdown",
      "id": "AdDEhV4QbEzu",
      "metadata": {
        "id": "AdDEhV4QbEzu"
      },
      "source": [
        "accuracy"
      ]
    },
    {
      "cell_type": "code",
      "execution_count": 10,
      "id": "nIhid_ovl-3X",
      "metadata": {
        "colab": {
          "base_uri": "https://localhost:8080/"
        },
        "id": "nIhid_ovl-3X",
        "outputId": "026dc9c5-876f-498d-c8f5-8fa750de56ad"
      },
      "outputs": [
        {
          "name": "stdout",
          "output_type": "stream",
          "text": [
            "Fit time :  0.057393789291381836\n",
            "0.8680032566659882\n"
          ]
        }
      ],
      "source": [
        "from sklearn.metrics import accuracy_score\n",
        "import time\n",
        "start_time = time.time()\n",
        "pred =mlp_clf.predict(X_val)\n",
        "print('Fit time : ', time.time() - start_time)\n",
        "print(accuracy_score(y_val, pred))"
      ]
    },
    {
      "cell_type": "code",
      "execution_count": 11,
      "id": "tI4ifz2gsL48",
      "metadata": {
        "id": "tI4ifz2gsL48"
      },
      "outputs": [],
      "source": [
        "#처음에 fit을 X_train과 y_train을 6만개 정도 넘겨줬는데 너무 오래 걸려서 10000개 가지고만 best param 찾음."
      ]
    },
    {
      "cell_type": "code",
      "execution_count": 12,
      "id": "61aEEPjVmNWa",
      "metadata": {
        "colab": {
          "base_uri": "https://localhost:8080/"
        },
        "id": "61aEEPjVmNWa",
        "outputId": "7e0fad74-ad7b-4be1-d98e-b78680e47bcb"
      },
      "outputs": [
        {
          "name": "stdout",
          "output_type": "stream",
          "text": [
            "CPU times: user 2min 32s, sys: 27.3 s, total: 2min 59s\n",
            "Wall time: 8min 20s\n"
          ]
        },
        {
          "data": {
            "text/html": [
              "<style>#sk-container-id-1 {color: black;background-color: white;}#sk-container-id-1 pre{padding: 0;}#sk-container-id-1 div.sk-toggleable {background-color: white;}#sk-container-id-1 label.sk-toggleable__label {cursor: pointer;display: block;width: 100%;margin-bottom: 0;padding: 0.3em;box-sizing: border-box;text-align: center;}#sk-container-id-1 label.sk-toggleable__label-arrow:before {content: \"▸\";float: left;margin-right: 0.25em;color: #696969;}#sk-container-id-1 label.sk-toggleable__label-arrow:hover:before {color: black;}#sk-container-id-1 div.sk-estimator:hover label.sk-toggleable__label-arrow:before {color: black;}#sk-container-id-1 div.sk-toggleable__content {max-height: 0;max-width: 0;overflow: hidden;text-align: left;background-color: #f0f8ff;}#sk-container-id-1 div.sk-toggleable__content pre {margin: 0.2em;color: black;border-radius: 0.25em;background-color: #f0f8ff;}#sk-container-id-1 input.sk-toggleable__control:checked~div.sk-toggleable__content {max-height: 200px;max-width: 100%;overflow: auto;}#sk-container-id-1 input.sk-toggleable__control:checked~label.sk-toggleable__label-arrow:before {content: \"▾\";}#sk-container-id-1 div.sk-estimator input.sk-toggleable__control:checked~label.sk-toggleable__label {background-color: #d4ebff;}#sk-container-id-1 div.sk-label input.sk-toggleable__control:checked~label.sk-toggleable__label {background-color: #d4ebff;}#sk-container-id-1 input.sk-hidden--visually {border: 0;clip: rect(1px 1px 1px 1px);clip: rect(1px, 1px, 1px, 1px);height: 1px;margin: -1px;overflow: hidden;padding: 0;position: absolute;width: 1px;}#sk-container-id-1 div.sk-estimator {font-family: monospace;background-color: #f0f8ff;border: 1px dotted black;border-radius: 0.25em;box-sizing: border-box;margin-bottom: 0.5em;}#sk-container-id-1 div.sk-estimator:hover {background-color: #d4ebff;}#sk-container-id-1 div.sk-parallel-item::after {content: \"\";width: 100%;border-bottom: 1px solid gray;flex-grow: 1;}#sk-container-id-1 div.sk-label:hover label.sk-toggleable__label {background-color: #d4ebff;}#sk-container-id-1 div.sk-serial::before {content: \"\";position: absolute;border-left: 1px solid gray;box-sizing: border-box;top: 0;bottom: 0;left: 50%;z-index: 0;}#sk-container-id-1 div.sk-serial {display: flex;flex-direction: column;align-items: center;background-color: white;padding-right: 0.2em;padding-left: 0.2em;position: relative;}#sk-container-id-1 div.sk-item {position: relative;z-index: 1;}#sk-container-id-1 div.sk-parallel {display: flex;align-items: stretch;justify-content: center;background-color: white;position: relative;}#sk-container-id-1 div.sk-item::before, #sk-container-id-1 div.sk-parallel-item::before {content: \"\";position: absolute;border-left: 1px solid gray;box-sizing: border-box;top: 0;bottom: 0;left: 50%;z-index: -1;}#sk-container-id-1 div.sk-parallel-item {display: flex;flex-direction: column;z-index: 1;position: relative;background-color: white;}#sk-container-id-1 div.sk-parallel-item:first-child::after {align-self: flex-end;width: 50%;}#sk-container-id-1 div.sk-parallel-item:last-child::after {align-self: flex-start;width: 50%;}#sk-container-id-1 div.sk-parallel-item:only-child::after {width: 0;}#sk-container-id-1 div.sk-dashed-wrapped {border: 1px dashed gray;margin: 0 0.4em 0.5em 0.4em;box-sizing: border-box;padding-bottom: 0.4em;background-color: white;}#sk-container-id-1 div.sk-label label {font-family: monospace;font-weight: bold;display: inline-block;line-height: 1.2em;}#sk-container-id-1 div.sk-label-container {text-align: center;}#sk-container-id-1 div.sk-container {/* jupyter's `normalize.less` sets `[hidden] { display: none; }` but bootstrap.min.css set `[hidden] { display: none !important; }` so we also need the `!important` here to be able to override the default hidden behavior on the sphinx rendered scikit-learn.org. See: https://github.com/scikit-learn/scikit-learn/issues/21755 */display: inline-block !important;position: relative;}#sk-container-id-1 div.sk-text-repr-fallback {display: none;}</style><div id=\"sk-container-id-1\" class=\"sk-top-container\"><div class=\"sk-text-repr-fallback\"><pre>GridSearchCV(cv=5, estimator=MLPClassifier(random_state=42), n_jobs=-1,\n",
              "             param_grid={&#x27;hidden_layer_sizes&#x27;: [300, 310, 320, 330, 340, 350,\n",
              "                                                360, 370, 380, 390]})</pre><b>In a Jupyter environment, please rerun this cell to show the HTML representation or trust the notebook. <br />On GitHub, the HTML representation is unable to render, please try loading this page with nbviewer.org.</b></div><div class=\"sk-container\" hidden><div class=\"sk-item sk-dashed-wrapped\"><div class=\"sk-label-container\"><div class=\"sk-label sk-toggleable\"><input class=\"sk-toggleable__control sk-hidden--visually\" id=\"sk-estimator-id-1\" type=\"checkbox\" ><label for=\"sk-estimator-id-1\" class=\"sk-toggleable__label sk-toggleable__label-arrow\">GridSearchCV</label><div class=\"sk-toggleable__content\"><pre>GridSearchCV(cv=5, estimator=MLPClassifier(random_state=42), n_jobs=-1,\n",
              "             param_grid={&#x27;hidden_layer_sizes&#x27;: [300, 310, 320, 330, 340, 350,\n",
              "                                                360, 370, 380, 390]})</pre></div></div></div><div class=\"sk-parallel\"><div class=\"sk-parallel-item\"><div class=\"sk-item\"><div class=\"sk-label-container\"><div class=\"sk-label sk-toggleable\"><input class=\"sk-toggleable__control sk-hidden--visually\" id=\"sk-estimator-id-2\" type=\"checkbox\" ><label for=\"sk-estimator-id-2\" class=\"sk-toggleable__label sk-toggleable__label-arrow\">estimator: MLPClassifier</label><div class=\"sk-toggleable__content\"><pre>MLPClassifier(random_state=42)</pre></div></div></div><div class=\"sk-serial\"><div class=\"sk-item\"><div class=\"sk-estimator sk-toggleable\"><input class=\"sk-toggleable__control sk-hidden--visually\" id=\"sk-estimator-id-3\" type=\"checkbox\" ><label for=\"sk-estimator-id-3\" class=\"sk-toggleable__label sk-toggleable__label-arrow\">MLPClassifier</label><div class=\"sk-toggleable__content\"><pre>MLPClassifier(random_state=42)</pre></div></div></div></div></div></div></div></div></div></div>"
            ],
            "text/plain": [
              "GridSearchCV(cv=5, estimator=MLPClassifier(random_state=42), n_jobs=-1,\n",
              "             param_grid={'hidden_layer_sizes': [300, 310, 320, 330, 340, 350,\n",
              "                                                360, 370, 380, 390]})"
            ]
          },
          "execution_count": 12,
          "metadata": {},
          "output_type": "execute_result"
        }
      ],
      "source": [
        "from sklearn.model_selection import GridSearchCV\n",
        "\n",
        "mlp_clf=MLPClassifier(random_state=42)\n",
        "params={'hidden_layer_sizes':list(range(300,400,10))}\n",
        "mlp_grid=GridSearchCV(mlp_clf,param_grid=params,cv=5,n_jobs=-1)\n",
        "%time mlp_grid.fit(X_train[:10000],y_train[:10000])"
      ]
    },
    {
      "cell_type": "code",
      "execution_count": 13,
      "id": "3thxf1eVnAlR",
      "metadata": {
        "colab": {
          "base_uri": "https://localhost:8080/"
        },
        "id": "3thxf1eVnAlR",
        "outputId": "e9851e2a-1107-4f2d-c546-1690da20cff0"
      },
      "outputs": [
        {
          "name": "stdout",
          "output_type": "stream",
          "text": [
            "CPU times: user 36min, sys: 5min 50s, total: 41min 51s\n",
            "Wall time: 5min 42s\n",
            "{'hidden_layer_sizes': 360}0.9084\n"
          ]
        }
      ],
      "source": [
        "%time mlp_grid.best_estimator_.fit(X_train,y_train)\n",
        "print(f'{mlp_grid.best_params_}{mlp_grid.best_estimator_.score(X_val,y_val):0.4f}')"
      ]
    },
    {
      "cell_type": "markdown",
      "id": "G8q2FKv9pqZl",
      "metadata": {
        "id": "G8q2FKv9pqZl"
      },
      "source": [
        "좋은 scaling 선정"
      ]
    },
    {
      "cell_type": "code",
      "execution_count": 14,
      "id": "zTutl5lzpn44",
      "metadata": {
        "id": "zTutl5lzpn44"
      },
      "outputs": [],
      "source": [
        "from sklearn.preprocessing import StandardScaler\n",
        "scaler = StandardScaler()\n",
        "scaler.fit(X_train)\n",
        "sX_train_scaled = scaler.transform(X_train)\n",
        "sX_val_scaled = scaler.transform(X_val)\n",
        "\n",
        "\n",
        "from sklearn.preprocessing import RobustScaler\n",
        "rscaler=RobustScaler()\n",
        "rscaler.fit(X_train)\n",
        "rX_train_scaled = rscaler.transform(X_train)\n",
        "rX_val_scaled = rscaler.transform(X_val)\n",
        "\n",
        "\n",
        "from sklearn.preprocessing import MinMaxScaler\n",
        "mscaler=MinMaxScaler()\n",
        "mscaler.fit(X_train)\n",
        "mX_train_scaled = mscaler.transform(X_train)\n",
        "mX_val_scaled = mscaler.transform(X_val)\n",
        "\n",
        "from sklearn.preprocessing import Normalizer\n",
        "nor=Normalizer()\n",
        "nor.fit(X_train)\n",
        "nX_train_scaled = nor.transform(X_train)\n",
        "nX_val_scaled = nor.transform(X_val)"
      ]
    },
    {
      "cell_type": "code",
      "execution_count": 15,
      "id": "TRpQZE7GpwSA",
      "metadata": {
        "id": "TRpQZE7GpwSA"
      },
      "outputs": [],
      "source": [
        "def fit_and_calScoreTime(clf,X_train,X_val,y_train,y_val):\n",
        "\n",
        "  #fit_time\n",
        "  start_time=time.time()\n",
        "  clf.fit(X_train,y_train)\n",
        "  fit_time=(time.time()-start_time)\n",
        "\n",
        "  #pred_time\n",
        "  start_time = time.time()\n",
        "  pred = clf.predict(X_val)\n",
        "  pred_time=(time.time() - start_time)\n",
        "  \n",
        "    #score\n",
        "  score=clf.score(X_val,y_val)\n",
        "  \n",
        "  return score,fit_time,pred_time"
      ]
    },
    {
      "cell_type": "code",
      "execution_count": 16,
      "id": "aNInfq7Xp65P",
      "metadata": {
        "colab": {
          "base_uri": "https://localhost:8080/"
        },
        "id": "aNInfq7Xp65P",
        "outputId": "b1a60dd1-0a91-4620-f6bb-a1ac889278eb"
      },
      "outputs": [
        {
          "name": "stderr",
          "output_type": "stream",
          "text": [
            "/Users/yoon-jaelee/opt/anaconda3/lib/python3.9/site-packages/sklearn/neural_network/_multilayer_perceptron.py:702: ConvergenceWarning: Stochastic Optimizer: Maximum iterations (200) reached and the optimization hasn't converged yet.\n",
            "  warnings.warn(\n",
            "/Users/yoon-jaelee/opt/anaconda3/lib/python3.9/site-packages/sklearn/neural_network/_multilayer_perceptron.py:702: ConvergenceWarning: Stochastic Optimizer: Maximum iterations (200) reached and the optimization hasn't converged yet.\n",
            "  warnings.warn(\n",
            "/Users/yoon-jaelee/opt/anaconda3/lib/python3.9/site-packages/sklearn/neural_network/_multilayer_perceptron.py:702: ConvergenceWarning: Stochastic Optimizer: Maximum iterations (200) reached and the optimization hasn't converged yet.\n",
            "  warnings.warn(\n",
            "/Users/yoon-jaelee/opt/anaconda3/lib/python3.9/site-packages/sklearn/neural_network/_multilayer_perceptron.py:702: ConvergenceWarning: Stochastic Optimizer: Maximum iterations (200) reached and the optimization hasn't converged yet.\n",
            "  warnings.warn(\n"
          ]
        }
      ],
      "source": [
        "names=[\"mlp\"]\n",
        "classifiers=[MLPClassifier()]\n",
        "\n",
        "for name,clf in zip(names,classifiers):\n",
        "  scaling_names=['No_scaling','StandardScaler','RobustScalar','MinmaxScalaer','Normalizer']\n",
        "  t_score=[]\n",
        "  t_fit_times=[]\n",
        "  t_pred_times=[]\n",
        "\n",
        "  #no scaling\n",
        "  score,fit_time,pred_time=fit_and_calScoreTime(clf,X_train,X_val,y_train,y_val)\n",
        "  t_score.append(score)\n",
        "  t_fit_times.append(fit_time)\n",
        "  t_pred_times.append(pred_time)\n",
        "\n",
        "\n",
        "  try:\n",
        "    #standardScaler\n",
        "    sscore,sfit_time,spred_time=fit_and_calScoreTime(clf,sX_train_scaled,sX_val_scaled,y_train,y_val)\n",
        "    t_score.append(sscore)\n",
        "    t_fit_times.append(sfit_time)\n",
        "    t_pred_times.append(spred_time)\n",
        "\n",
        "    #RobustScaler\n",
        "    rscore,rfit_time,rpred_time=fit_and_calScoreTime(clf,rX_train_scaled,rX_val_scaled,y_train,y_val)\n",
        "    t_score.append(rscore)\n",
        "    t_fit_times.append(rfit_time)\n",
        "    t_pred_times.append(rpred_time)\n",
        "\n",
        "    #MinmaxScalaer\n",
        "    mscore,mfit_time,mpred_time=fit_and_calScoreTime(clf,mX_train_scaled,mX_val_scaled,y_train,y_val)\n",
        "    t_score.append(mscore)\n",
        "    t_fit_times.append(mfit_time)\n",
        "    t_pred_times.append(mpred_time)\n",
        "\n",
        "    #Normalizer\n",
        "    nscore,nfit_time,npred_time=fit_and_calScoreTime(clf,nX_train_scaled,nX_val_scaled,y_train,y_val)\n",
        "    t_score.append(nscore)\n",
        "    t_fit_times.append(nfit_time)\n",
        "    t_pred_times.append(npred_time)\n",
        "\n",
        "  except ValueError:\n",
        "    continue"
      ]
    },
    {
      "cell_type": "code",
      "execution_count": 17,
      "id": "F9HGp1bSpy38",
      "metadata": {
        "colab": {
          "base_uri": "https://localhost:8080/"
        },
        "id": "F9HGp1bSpy38",
        "outputId": "f294275e-eafd-4802-9e12-dbd274e40007"
      },
      "outputs": [
        {
          "name": "stdout",
          "output_type": "stream",
          "text": [
            "[0.8680032566659882, 0.7713209851414614, 0.8220028495827397, 0.8378790962751883, 0.8948707510685935]\n"
          ]
        }
      ],
      "source": [
        "print(t_score)\n",
        "#print(t_fit_times)     \n",
        "#print( t_pred_times)"
      ]
    },
    {
      "cell_type": "code",
      "execution_count": 18,
      "id": "spzDnDDSUdGM",
      "metadata": {
        "id": "spzDnDDSUdGM"
      },
      "outputs": [],
      "source": [
        "def fit_and_calScoreTime(clf,X_train,X_val,y_train,y_val):\n",
        "\n",
        "  #fit_time\n",
        "  start_time=time.time()\n",
        "  %time mlp_grid.best_estimator_.fit(X_train,y_train)\n",
        "  fit_time=(time.time()-start_time)\n",
        "\n",
        "  #pred_time\n",
        "  start_time = time.time()\n",
        "  pred = clf.predict(X_val)\n",
        "  pred_time=(time.time() - start_time)\n",
        "  \n",
        "    #score\n",
        "  score=mlp_grid.best_estimator_.score(X_val,y_val)\n",
        "  \n",
        "  return score,fit_time,pred_time"
      ]
    },
    {
      "cell_type": "code",
      "execution_count": 19,
      "id": "aCYLPTgF2__s",
      "metadata": {
        "colab": {
          "base_uri": "https://localhost:8080/"
        },
        "id": "aCYLPTgF2__s",
        "outputId": "6d3545a5-0db5-4097-80bc-0c5cf4e2af9e"
      },
      "outputs": [
        {
          "name": "stdout",
          "output_type": "stream",
          "text": [
            "CPU times: user 31min 19s, sys: 5min 25s, total: 36min 45s\n",
            "Wall time: 5min 15s\n",
            "0.9215347038469367\n",
            "315.008985042572\n",
            "0.04496908187866211\n"
          ]
        }
      ],
      "source": [
        "from sklearn.preprocessing import Normalizer\n",
        "nor=Normalizer()\n",
        "nor.fit(X_train)\n",
        "nX_train_scaled = nor.transform(X_train)\n",
        "nX_val_scaled = nor.transform(X_val)\n",
        "\n",
        "nscore,nfit_time,npred_time=fit_and_calScoreTime(clf,nX_train_scaled,nX_val_scaled,y_train,y_val)\n",
        "\n",
        "print(nscore)\n",
        "print(nfit_time)     \n",
        "print( npred_time)"
      ]
    },
    {
      "cell_type": "code",
      "execution_count": 20,
      "id": "3Ii6tjZZOxqV",
      "metadata": {
        "id": "3Ii6tjZZOxqV"
      },
      "outputs": [],
      "source": [
        "import numpy as np\n",
        "import matplotlib.pyplot as plt\n",
        "from sklearn.model_selection import learning_curve\n",
        "from sklearn.model_selection import ShuffleSplit\n",
        "\n",
        "def plot_learning_curve(estimator, title, X, y, axes=None, ylim=None, cv=None,\n",
        "                        n_jobs=None, train_sizes=np.linspace(.1, 1.0, 5)):\n",
        "    if axes is None:\n",
        "        _, axes = plt.subplots(1, 1, figsize=(8, 5))\n",
        "\n",
        "    axes.set_title(title)\n",
        "    if ylim is not None:\n",
        "        axes.set_ylim(*ylim)\n",
        "    axes.set_xlabel(\"Training examples\")\n",
        "    axes.set_ylabel(\"Score\")\n",
        "\n",
        "    train_sizes, train_scores, test_scores, fit_times, _ = \\\n",
        "        learning_curve(estimator, X, y, cv=cv, n_jobs=n_jobs,\n",
        "                       train_sizes=train_sizes,\n",
        "                       return_times=True)\n",
        "    train_scores_mean = np.mean(train_scores, axis=1)\n",
        "    train_scores_std = np.std(train_scores, axis=1)\n",
        "    test_scores_mean = np.mean(test_scores, axis=1)\n",
        "    test_scores_std = np.std(test_scores, axis=1)\n",
        "    fit_times_mean = np.mean(fit_times, axis=1)\n",
        "    fit_times_std = np.std(fit_times, axis=1)\n",
        "\n",
        "    # Plot learning curve\n",
        "    axes.grid()\n",
        "    axes.fill_between(train_sizes, train_scores_mean - train_scores_std,\n",
        "                         train_scores_mean + train_scores_std, alpha=0.1,\n",
        "                         color=\"r\")\n",
        "    axes.fill_between(train_sizes, test_scores_mean - test_scores_std,\n",
        "                         test_scores_mean + test_scores_std, alpha=0.1,\n",
        "                         color=\"g\")\n",
        "    axes.plot(train_sizes, train_scores_mean, 'o-', color=\"r\",\n",
        "                 label=\"Training score\")\n",
        "    axes.plot(train_sizes, test_scores_mean, 'o-', color=\"g\",\n",
        "                 label=\"Cross-validation score\")\n",
        "    axes.legend(loc=\"best\")\n",
        "\n",
        "    return plt"
      ]
    },
    {
      "cell_type": "code",
      "execution_count": null,
      "id": "VvXWz9jyeUbs",
      "metadata": {
        "id": "VvXWz9jyeUbs"
      },
      "outputs": [],
      "source": [
        "title = \"Learning Curves (Multiple Layer Perceptron)\"\n",
        "\n",
        "# Cross validation with 5 iterations each time with 20% data \n",
        "# randomly selected as a validation set.\n",
        "cv = ShuffleSplit(n_splits=5, test_size=0.2, random_state=0)\n",
        "\n",
        "estimator = mlp_grid.best_estimator_.fit(X_train,y_train)\n",
        "plot_learning_curve(estimator, title, X, y, ylim=(0.7, 1.01),\n",
        "                    cv=cv, n_jobs=-1)\n",
        "\n",
        "plt.show()"
      ]
    },
    {
      "cell_type": "code",
      "execution_count": 22,
      "id": "6e5c643b",
      "metadata": {},
      "outputs": [
        {
          "data": {
            "image/png": "[encoded data removed]",
            "text/plain": [
              "<Figure size 432x288 with 1 Axes>"
            ]
          },
          "metadata": {
            "needs_background": "light"
          },
          "output_type": "display_data"
        }
      ],
      "source": [
        "from sklearn.model_selection import learning_curve\n",
        "def plot_learning_curve(estimator, title, X_final, y_final, ylim=None, cv=None,\n",
        "                        n_jobs=1, train_sizes=np.linspace(.1, 1.0, 5)):\n",
        "    plt.figure()\n",
        "    plt.title(title)\n",
        "    if ylim is not None:\n",
        "        plt.ylim(*ylim)\n",
        "    plt.xlabel(\"Training examples\")\n",
        "    plt.ylabel(\"Score\")\n",
        "    train_sizes, train_scores, test_scores = learning_curve(\n",
        "        estimator, X_final, y_final, cv=cv, n_jobs=n_jobs, train_sizes=train_sizes)\n",
        "    train_scores_mean = np.mean(train_scores, axis=1)\n",
        "    train_scores_std = np.std(train_scores, axis=1)\n",
        "    test_scores_mean = np.mean(test_scores, axis=1)\n",
        "    test_scores_std = np.std(test_scores, axis=1)\n",
        "    plt.grid()\n",
        "\n",
        "    plt.fill_between(train_sizes, train_scores_mean - train_scores_std,\n",
        "                     train_scores_mean + train_scores_std, alpha=0.1,\n",
        "                     color=\"r\")\n",
        "    plt.fill_between(train_sizes, test_scores_mean - test_scores_std,\n",
        "                     test_scores_mean + test_scores_std, alpha=0.1, color=\"g\")\n",
        "    plt.plot(train_sizes, train_scores_mean, 'o-', color=\"r\",\n",
        "             label=\"Training score\")\n",
        "    plt.plot(train_sizes, test_scores_mean, 'o-', color=\"g\",\n",
        "             label=\"Test score\")\n",
        "\n",
        "    plt.legend(loc=\"best\")\n",
        "    plt.show()\n",
        "\n",
        "from sklearn.pipeline import make_pipeline\n",
        "pipe_mlp = make_pipeline(MLPClassifier(random_state=1))\n",
        "plot_learning_curve(pipe_mlp,\"Crash Learning\", X_train, y_train,cv=3)"
      ]
    },
    {
      "cell_type": "code",
      "execution_count": 24,
      "id": "ae7aa1d9",
      "metadata": {},
      "outputs": [
        {
          "data": {
            "image/png": "[encoded data removed]",
            "text/plain": [
              "<Figure size 432x288 with 1 Axes>"
            ]
          },
          "metadata": {
            "needs_background": "light"
          },
          "output_type": "display_data"
        }
      ],
      "source": [
        "from sklearn.model_selection import learning_curve\n",
        "def plot_learning_curve(estimator, title, X_, y_val, ylim=None, cv=None,\n",
        "                        n_jobs=1, train_sizes=np.linspace(.1, 1.0, 5)):\n",
        "    plt.figure()\n",
        "    plt.title(title)\n",
        "    if ylim is not None:\n",
        "        plt.ylim(*ylim)\n",
        "    plt.xlabel(\"Training examples\")\n",
        "    plt.ylabel(\"Score\")\n",
        "    train_sizes, train_scores, test_scores = learning_curve(\n",
        "        estimator, X_val, y_val, cv=cv, n_jobs=n_jobs, train_sizes=train_sizes)\n",
        "    train_scores_mean = np.mean(train_scores, axis=1)\n",
        "    train_scores_std = np.std(train_scores, axis=1)\n",
        "    test_scores_mean = np.mean(test_scores, axis=1)\n",
        "    test_scores_std = np.std(test_scores, axis=1)\n",
        "    plt.grid()\n",
        "\n",
        "    plt.fill_between(train_sizes, train_scores_mean - train_scores_std,\n",
        "                     train_scores_mean + train_scores_std, alpha=0.1,\n",
        "                     color=\"r\")\n",
        "    plt.fill_between(train_sizes, test_scores_mean - test_scores_std,\n",
        "                     test_scores_mean + test_scores_std, alpha=0.1, color=\"g\")\n",
        "    plt.plot(train_sizes, train_scores_mean, 'o-', color=\"r\",\n",
        "             label=\"Training score\")\n",
        "    plt.plot(train_sizes, test_scores_mean, 'o-', color=\"g\",\n",
        "             label=\"Test score\")\n",
        "\n",
        "    plt.legend(loc=\"best\")\n",
        "    plt.show()\n",
        "\n",
        "from sklearn.pipeline import make_pipeline\n",
        "pipe_mlp = make_pipeline(MLPClassifier(random_state=1))\n",
        "plot_learning_curve(pipe_mlp,\"Crash Learning\", X_val, y_val,cv=3)"
      ]
    },
    {
      "cell_type": "code",
      "execution_count": 28,
      "id": "ffbfec46",
      "metadata": {},
      "outputs": [
        {
          "name": "stdout",
          "output_type": "stream",
          "text": [
            "Start\n"
          ]
        },
        {
          "data": {
            "application/vnd.jupyter.widget-view+json": {
              "model_id": "0296887a0cca41198deb00c7d21d4e23",
              "version_major": 2,
              "version_minor": 0
            },
            "text/plain": [
              "  0%|          | 0/25 [00:00<?, ?it/s]"
            ]
          },
          "metadata": {},
          "output_type": "display_data"
        },
        {
          "name": "stderr",
          "output_type": "stream",
          "text": [
            "/Users/yoon-jaelee/opt/anaconda3/lib/python3.9/site-packages/sklearn/neural_network/_multilayer_perceptron.py:709: UserWarning: Training interrupted by user.\n",
            "  warnings.warn(\"Training interrupted by user.\")\n"
          ]
        },
        {
          "name": "stdout",
          "output_type": "stream",
          "text": [
            "End\n",
            "Time: 8155.6900sec\n",
            "Saving figure early_stopping_plot\n"
          ]
        },
        {
          "data": {
            "image/png": "[encoded data removed]",
            "text/plain": [
              "<Figure size 432x288 with 1 Axes>"
            ]
          },
          "metadata": {
            "needs_background": "light"
          },
          "output_type": "display_data"
        }
      ],
      "source": [
        "from sklearn.base import clone\n",
        "from sklearn.metrics import mean_squared_error\n",
        "import time\n",
        "from tqdm import tqdm\n",
        "from tqdm.auto import tqdm\n",
        "from tqdm.notebook import tqdm\n",
        "from sklearn.metrics import accuracy_score\n",
        "\n",
        "minimum_val_error=float(\"inf\")\n",
        "best_epoch=None\n",
        "best_model=mlp_clf\n",
        "start_time = time.time()\n",
        "print(\"Start\")\n",
        "train_errors, val_errors = [], []\n",
        "for epoch in tqdm(range(25)):\n",
        "\n",
        "    mlp_clf=MLPClassifier(random_state=42,warm_start=True,hidden_layer_sizes=330)\n",
        "    mlp_clf.fit(nX_train_scaled,y_train)\n",
        "    y_train_predict = mlp_clf.predict(nX_train_scaled)\n",
        "    y_pred_mlp = mlp_clf.predict(nX_val_scaled)  #모델\n",
        "    val_error = mean_squared_error(y_val, y_pred_mlp)\n",
        "    train_errors.append(mean_squared_error(y_train, y_train_predict))\n",
        "    val_errors.append(mean_squared_error(y_val, y_pred_mlp))\n",
        "    if val_error < minimum_val_error:\n",
        "        minimum_val_error=val_error\n",
        "        best_model= mlp_clf #모델\n",
        "best_epoch = np.argmin(val_errors) #val_error가 최소가 되는 index\n",
        "best_val_mse = val_errors[best_epoch] #best epoch일 때 val_errer의 mse\n",
        "\n",
        "print(\"End\")\n",
        "print(\"Time: {:.4f}sec\".format((time.time() - start_time)))\n",
        "\n",
        "plt.annotate('Best model',\n",
        "             xy=(best_epoch, best_val_mse),\n",
        "             xytext=(best_epoch, best_val_mse + 1),\n",
        "             ha=\"center\",\n",
        "             arrowprops=dict(facecolor='black', shrink=0.05),\n",
        "             fontsize=16,\n",
        "            )\n",
        "plt.plot(val_errors, \"b-\", linewidth=3, label=\"Validation set\")\n",
        "plt.plot(train_errors, \"r--\", linewidth=2, label=\"Training set\")\n",
        "plt.legend(loc=\"upper right\", fontsize=14)\n",
        "plt.xlabel(\"Epoch\", fontsize=14)\n",
        "plt.ylabel(\"MSE\", fontsize=14)\n",
        "save_fig(\"early_stopping_plot\")\n",
        "plt.show() "
      ]
    },
    {
      "cell_type": "code",
      "execution_count": null,
      "id": "9b0dc474",
      "metadata": {},
      "outputs": [],
      "source": []
    }
  ],
  "metadata": {
    "colab": {
      "provenance": []
    },
    "gpuClass": "standard",
    "kernelspec": {
      "display_name": "base",
      "language": "python",
      "name": "python3"
    },
    "language_info": {
      "codemirror_mode": {
        "name": "ipython",
        "version": 3
      },
      "file_extension": ".py",
      "mimetype": "text/x-python",
      "name": "python",
      "nbconvert_exporter": "python",
      "pygments_lexer": "ipython3",
      "version": "3.9.12"
    },
    "vscode": {
      "interpreter": {
        "hash": "2ca105a93104d08d207b05991868f47186dc0a806f7cc62155dba79bba6ceb0b"
      }
    }
  },
  "nbformat": 4,
  "nbformat_minor": 5
}
