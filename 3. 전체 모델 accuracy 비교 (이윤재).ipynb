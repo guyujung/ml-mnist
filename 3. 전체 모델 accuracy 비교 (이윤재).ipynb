{
 "cells": [
  {
   "cell_type": "code",
   "execution_count": 1,
   "id": "cab777cf",
   "metadata": {},
   "outputs": [
    {
     "name": "stdout",
     "output_type": "stream",
     "text": [
      "(1000, 28, 28) float64 (1000,) int64\n",
      "(1000, 28, 28) float64 (1000,) int64\n",
      "(1000, 28, 28) float64 (1000,) int32\n",
      "(1000, 28, 28) float64 (1000,) int32\n",
      "(26720, 28, 28) float64 (26720,) int64\n"
     ]
    },
    {
     "data": {
      "text/plain": [
       "numpy.ndarray"
      ]
     },
     "execution_count": 1,
     "metadata": {},
     "output_type": "execute_result"
    }
   ],
   "source": [
    "%matplotlib inline\n",
    "import numpy as np\n",
    "import matplotlib.pyplot as plt\n",
    "import cv2\n",
    "import os\n",
    "import pandas as pd\n",
    "from sklearn.model_selection import train_test_split\n",
    "nd1=np.load('mnist_20211236_total.npz')\n",
    "nd2=np.load('mnist_20201572_1.npz')\n",
    "nd3=np.load('mnist_20171372.npz')\n",
    "nd4=np.load('mnist_20170565.npz')\n",
    "nd6=np.load('H_MNIST_train.npz')\n",
    "print(nd1['img'].shape, nd1['img'].dtype, nd1['label'].shape, nd1['label'].dtype)\n",
    "print(nd2['img'].shape, nd2['img'].dtype, nd2['label'].shape, nd2['label'].dtype)\n",
    "print(nd3['img'].shape, nd3['img'].dtype, nd3['label'].shape, nd3['label'].dtype)\n",
    "print(nd4['img'].shape, nd4['img'].dtype, nd4['label'].shape, nd4['label'].dtype)\n",
    "print(nd6['img'].shape, nd6['img'].dtype, nd6['label'].shape, nd6['label'].dtype)\n",
    "\n",
    "X=np.concatenate((nd1['img'], nd2['img'],nd3['img'],nd4['img'],nd6['img']), axis=0)\n",
    "y=np.concatenate((nd1['label'], nd2['label'],nd3['label'],nd4['label'],nd6['label']), axis=0)\n",
    "np.savez_compressed('mnist_total.npz', X=X, y=y)\n",
    "nd5=np.load('mnist_total.npz')\n",
    "nd5\n",
    "X.shape\n",
    "X=X.reshape(30720,784)\n",
    "#X_new=X[23040:30720]\n",
    "#y_new=y[23040:30720]\n",
    "#X_new.shape\n",
    "#y_new.shape\n",
    "type(X)"
   ]
  },
  {
   "cell_type": "code",
   "execution_count": 3,
   "id": "888db268",
   "metadata": {},
   "outputs": [],
   "source": [
    "#모델 불러오기\n",
    "from sklearn.datasets import fetch_openml\n",
    "from sklearn.linear_model import LogisticRegression\n",
    "from sklearn.neural_network import MLPClassifier # Neural network\n",
    "from sklearn.ensemble import RandomForestClassifier\n",
    "from sklearn.svm import SVC\n",
    "from sklearn.ensemble import ExtraTreesClassifier\n",
    "from sklearn.ensemble import RandomForestClassifier\n",
    "from sklearn.ensemble import BaggingClassifier\n",
    "from sklearn.tree import DecisionTreeClassifier\n",
    "from sklearn.model_selection import train_test_split\n",
    "from sklearn.datasets import make_moons\n",
    "from sklearn.neighbors import KNeighborsClassifier \n",
    "from sklearn.metrics import accuracy_score\n",
    "from sklearn.model_selection import cross_val_score\n",
    "from sklearn.metrics import accuracy_score\n",
    "from sklearn.ensemble import RandomForestClassifier\n",
    "from sklearn.tree import DecisionTreeClassifier\n",
    "from sklearn.neural_network import MLPClassifier # Neural network\n",
    "from sklearn.ensemble import ExtraTreesClassifier\n",
    "from sklearn.svm import SVC \n",
    "from sklearn.ensemble import BaggingClassifier\n",
    "from sklearn.linear_model import SGDClassifier\n",
    "from sklearn.metrics import confusion_matrix\n",
    "from sklearn.model_selection import cross_val_predict"
   ]
  },
  {
   "cell_type": "code",
   "execution_count": 6,
   "id": "3e352223",
   "metadata": {},
   "outputs": [
    {
     "name": "stdout",
     "output_type": "stream",
     "text": [
      "(30720, 784)\n",
      "(30720,)\n"
     ]
    }
   ],
   "source": [
    "from sklearn.datasets import fetch_openml\n",
    "mnist = fetch_openml('mnist_784', version=1)\n",
    "mnist.keys()\n",
    "X_mnist, y_mnist = mnist[\"data\"], mnist[\"target\"] # X, y: pandas DataFrame\n",
    "print(X.shape)\n",
    "print(y.shape)\n",
    "y_mnist=y_mnist.astype(np.uint8)"
   ]
  },
  {
   "cell_type": "code",
   "execution_count": 48,
   "id": "5e4bcf0a",
   "metadata": {},
   "outputs": [],
   "source": [
    "from sklearn.model_selection import train_test_split\n",
    "X_mnist_train, X_mnist_test, y_mnist_train, y_mnist_test = train_test_split(X_mnist, y_mnist,\n",
    "    test_size=0.2, shuffle = True, random_state = 8)\n",
    "\n",
    "# Use the same function above for the validation set\n",
    "X_mnist_train, X_mnist_val, y_mnist_train, y_mnist_val = train_test_split(X_mnist_train, y_mnist_train, \n",
    "    test_size=0.25, random_state= 8) # 0.25 x 0.8 = 0.2"
   ]
  },
  {
   "cell_type": "code",
   "execution_count": 49,
   "id": "e6a45777",
   "metadata": {},
   "outputs": [
    {
     "name": "stderr",
     "output_type": "stream",
     "text": [
      "/Users/yoon-jaelee/opt/anaconda3/lib/python3.9/site-packages/sklearn/linear_model/_logistic.py:444: ConvergenceWarning: lbfgs failed to converge (status=1):\n",
      "STOP: TOTAL NO. of ITERATIONS REACHED LIMIT.\n",
      "\n",
      "Increase the number of iterations (max_iter) or scale the data as shown in:\n",
      "    https://scikit-learn.org/stable/modules/preprocessing.html\n",
      "Please also refer to the documentation for alternative solver options:\n",
      "    https://scikit-learn.org/stable/modules/linear_model.html#logistic-regression\n",
      "  n_iter_i = _check_optimize_result(\n"
     ]
    },
    {
     "data": {
      "text/html": [
       "<style>#sk-container-id-5 {color: black;background-color: white;}#sk-container-id-5 pre{padding: 0;}#sk-container-id-5 div.sk-toggleable {background-color: white;}#sk-container-id-5 label.sk-toggleable__label {cursor: pointer;display: block;width: 100%;margin-bottom: 0;padding: 0.3em;box-sizing: border-box;text-align: center;}#sk-container-id-5 label.sk-toggleable__label-arrow:before {content: \"▸\";float: left;margin-right: 0.25em;color: #696969;}#sk-container-id-5 label.sk-toggleable__label-arrow:hover:before {color: black;}#sk-container-id-5 div.sk-estimator:hover label.sk-toggleable__label-arrow:before {color: black;}#sk-container-id-5 div.sk-toggleable__content {max-height: 0;max-width: 0;overflow: hidden;text-align: left;background-color: #f0f8ff;}#sk-container-id-5 div.sk-toggleable__content pre {margin: 0.2em;color: black;border-radius: 0.25em;background-color: #f0f8ff;}#sk-container-id-5 input.sk-toggleable__control:checked~div.sk-toggleable__content {max-height: 200px;max-width: 100%;overflow: auto;}#sk-container-id-5 input.sk-toggleable__control:checked~label.sk-toggleable__label-arrow:before {content: \"▾\";}#sk-container-id-5 div.sk-estimator input.sk-toggleable__control:checked~label.sk-toggleable__label {background-color: #d4ebff;}#sk-container-id-5 div.sk-label input.sk-toggleable__control:checked~label.sk-toggleable__label {background-color: #d4ebff;}#sk-container-id-5 input.sk-hidden--visually {border: 0;clip: rect(1px 1px 1px 1px);clip: rect(1px, 1px, 1px, 1px);height: 1px;margin: -1px;overflow: hidden;padding: 0;position: absolute;width: 1px;}#sk-container-id-5 div.sk-estimator {font-family: monospace;background-color: #f0f8ff;border: 1px dotted black;border-radius: 0.25em;box-sizing: border-box;margin-bottom: 0.5em;}#sk-container-id-5 div.sk-estimator:hover {background-color: #d4ebff;}#sk-container-id-5 div.sk-parallel-item::after {content: \"\";width: 100%;border-bottom: 1px solid gray;flex-grow: 1;}#sk-container-id-5 div.sk-label:hover label.sk-toggleable__label {background-color: #d4ebff;}#sk-container-id-5 div.sk-serial::before {content: \"\";position: absolute;border-left: 1px solid gray;box-sizing: border-box;top: 0;bottom: 0;left: 50%;z-index: 0;}#sk-container-id-5 div.sk-serial {display: flex;flex-direction: column;align-items: center;background-color: white;padding-right: 0.2em;padding-left: 0.2em;position: relative;}#sk-container-id-5 div.sk-item {position: relative;z-index: 1;}#sk-container-id-5 div.sk-parallel {display: flex;align-items: stretch;justify-content: center;background-color: white;position: relative;}#sk-container-id-5 div.sk-item::before, #sk-container-id-5 div.sk-parallel-item::before {content: \"\";position: absolute;border-left: 1px solid gray;box-sizing: border-box;top: 0;bottom: 0;left: 50%;z-index: -1;}#sk-container-id-5 div.sk-parallel-item {display: flex;flex-direction: column;z-index: 1;position: relative;background-color: white;}#sk-container-id-5 div.sk-parallel-item:first-child::after {align-self: flex-end;width: 50%;}#sk-container-id-5 div.sk-parallel-item:last-child::after {align-self: flex-start;width: 50%;}#sk-container-id-5 div.sk-parallel-item:only-child::after {width: 0;}#sk-container-id-5 div.sk-dashed-wrapped {border: 1px dashed gray;margin: 0 0.4em 0.5em 0.4em;box-sizing: border-box;padding-bottom: 0.4em;background-color: white;}#sk-container-id-5 div.sk-label label {font-family: monospace;font-weight: bold;display: inline-block;line-height: 1.2em;}#sk-container-id-5 div.sk-label-container {text-align: center;}#sk-container-id-5 div.sk-container {/* jupyter's `normalize.less` sets `[hidden] { display: none; }` but bootstrap.min.css set `[hidden] { display: none !important; }` so we also need the `!important` here to be able to override the default hidden behavior on the sphinx rendered scikit-learn.org. See: https://github.com/scikit-learn/scikit-learn/issues/21755 */display: inline-block !important;position: relative;}#sk-container-id-5 div.sk-text-repr-fallback {display: none;}</style><div id=\"sk-container-id-5\" class=\"sk-top-container\"><div class=\"sk-text-repr-fallback\"><pre>DecisionTreeClassifier(max_leaf_nodes=16, random_state=42)</pre><b>In a Jupyter environment, please rerun this cell to show the HTML representation or trust the notebook. <br />On GitHub, the HTML representation is unable to render, please try loading this page with nbviewer.org.</b></div><div class=\"sk-container\" hidden><div class=\"sk-item\"><div class=\"sk-estimator sk-toggleable\"><input class=\"sk-toggleable__control sk-hidden--visually\" id=\"sk-estimator-id-5\" type=\"checkbox\" checked><label for=\"sk-estimator-id-5\" class=\"sk-toggleable__label sk-toggleable__label-arrow\">DecisionTreeClassifier</label><div class=\"sk-toggleable__content\"><pre>DecisionTreeClassifier(max_leaf_nodes=16, random_state=42)</pre></div></div></div></div></div>"
      ],
      "text/plain": [
       "DecisionTreeClassifier(max_leaf_nodes=16, random_state=42)"
      ]
     },
     "execution_count": 49,
     "metadata": {},
     "output_type": "execute_result"
    }
   ],
   "source": [
    "#최종 데이터셋을 모델에 fitting 하기\n",
    "knn_clf=KNeighborsClassifier(n_jobs=-1,n_neighbors=3)\n",
    "extra_clf = ExtraTreesClassifier(n_estimators=100, max_leaf_nodes=16, random_state=42)\n",
    "svm_clf = SVC(kernel=\"poly\", degree=5, C=15)\n",
    "dt_clf=DecisionTreeClassifier(max_leaf_nodes=16, random_state=42)\n",
    "mlp_clf=MLPClassifier(random_state=42)\n",
    "rnf_clf = RandomForestClassifier(n_estimators=100, max_leaf_nodes=16, n_jobs=-1)\n",
    "softmax_clf=LogisticRegression(random_state=42 , max_iter = 100)\n",
    "knn_clf.fit(X_mnist_train,y_mnist_train)\n",
    "svm_clf.fit(X_mnist_train,y_mnist_train)\n",
    "mlp_clf.fit(X_mnist_train,y_mnist_train)\n",
    "cross_val_score(rnf_clf, X_mnist_train,y_mnist_train, cv = 10, scoring = \"accuracy\")\n",
    "rnf_clf.fit(X_mnist_train,y_mnist_train)\n",
    "softmax_clf.fit(X_mnist_train,y_mnist_train)\n",
    "extra_clf.fit(X_mnist_train,y_mnist_train)\n",
    "dt_clf.fit(X_mnist_train,y_mnist_train)"
   ]
  },
  {
   "cell_type": "code",
   "execution_count": 50,
   "id": "81ce8590",
   "metadata": {
    "scrolled": true
   },
   "outputs": [
    {
     "name": "stdout",
     "output_type": "stream",
     "text": [
      "svm train: 0.9971666666666666\n",
      "svm test: 0.9635714285714285\n",
      "rnf train: 0.8248095238095238\n",
      "rnf test: 0.8245714285714286\n",
      "softmax train: 0.9371904761904762\n",
      "softmax test: 0.9196428571428571\n",
      "knn train: 0.9850952380952381\n",
      "knn test: 0.9691428571428572\n",
      "mlp train: 0.9904047619047619\n",
      "mlp test: 0.9596428571428571\n",
      "extra train: 0.8003095238095238\n",
      "extra test: 0.7983571428571429\n",
      "dt train: 0.6406904761904761\n",
      "dt test: 0.6400714285714286\n"
     ]
    }
   ],
   "source": [
    "#최종 결과\n",
    "print('svm train:',svm_clf.score(X_mnist_train,y_mnist_train))\n",
    "print('svm test:',svm_clf.score(X_mnist_test,y_mnist_test))\n",
    "print('rnf train:',rnf_clf.score(X_mnist_train,y_mnist_train))\n",
    "print('rnf test:' ,rnf_clf.score(X_mnist_test,y_mnist_test))\n",
    "print('softmax train:', softmax_clf.score(X_mnist_train,y_mnist_train))\n",
    "print('softmax test:', softmax_clf.score(X_mnist_test,y_mnist_test))\n",
    "print('knn train:', knn_clf.score(X_mnist_train,y_mnist_train))\n",
    "print('knn test:', knn_clf.score(X_mnist_test,y_mnist_test))\n",
    "print('mlp train:', mlp_clf.score(X_mnist_train,y_mnist_train))\n",
    "print('mlp test:', mlp_clf.score(X_mnist_test,y_mnist_test))\n",
    "print('extra train:',extra_clf.score(X_mnist_train,y_mnist_train))\n",
    "print('extra test:', extra_clf.score(X_mnist_test,y_mnist_test))\n",
    "print('dt train:', dt_clf.score(X_mnist_train,y_mnist_train))\n",
    "print('dt test:', dt_clf.score(X_mnist_test,y_mnist_test))"
   ]
  }
 ],
 "metadata": {
  "kernelspec": {
   "display_name": "base",
   "language": "python",
   "name": "python3"
  },
  "language_info": {
   "codemirror_mode": {
    "name": "ipython",
    "version": 3
   },
   "file_extension": ".py",
   "mimetype": "text/x-python",
   "name": "python",
   "nbconvert_exporter": "python",
   "pygments_lexer": "ipython3",
   "version": "3.9.12"
  },
  "vscode": {
   "interpreter": {
    "hash": "2ca105a93104d08d207b05991868f47186dc0a806f7cc62155dba79bba6ceb0b"
   }
  }
 },
 "nbformat": 4,
 "nbformat_minor": 5
}
