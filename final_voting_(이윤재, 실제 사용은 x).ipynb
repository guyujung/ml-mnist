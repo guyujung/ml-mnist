{
 "cells": [
  {
   "cell_type": "code",
   "execution_count": 1,
   "id": "1b404a6d",
   "metadata": {},
   "outputs": [
    {
     "name": "stdout",
     "output_type": "stream",
     "text": [
      "(1000, 28, 28) float64 (1000,) int64\n",
      "(1000, 28, 28) float64 (1000,) int64\n",
      "(1000, 28, 28) float64 (1000,) int32\n",
      "(1000, 28, 28) float64 (1000,) int32\n",
      "(26720, 28, 28) float64 (26720,) int64\n"
     ]
    },
    {
     "data": {
      "text/plain": [
       "<numpy.lib.npyio.NpzFile at 0x7fda611f5760>"
      ]
     },
     "execution_count": 1,
     "metadata": {},
     "output_type": "execute_result"
    }
   ],
   "source": [
    "%matplotlib inline\n",
    "import numpy as np\n",
    "import matplotlib.pyplot as plt\n",
    "import cv2\n",
    "import os\n",
    "import pandas as pd \n",
    "nd1=np.load('mnist_20211236_total.npz')\n",
    "nd2=np.load('mnist_20201572_1.npz')\n",
    "nd3=np.load('mnist_20171372.npz')\n",
    "nd4=np.load('mnist_20170565.npz')\n",
    "nd6=np.load('H_MNIST_train.npz')\n",
    "print(nd1['img'].shape, nd1['img'].dtype, nd1['label'].shape, nd1['label'].dtype)\n",
    "print(nd2['img'].shape, nd2['img'].dtype, nd2['label'].shape, nd2['label'].dtype)\n",
    "print(nd3['img'].shape, nd3['img'].dtype, nd3['label'].shape, nd3['label'].dtype)\n",
    "print(nd4['img'].shape, nd4['img'].dtype, nd4['label'].shape, nd4['label'].dtype)\n",
    "print(nd6['img'].shape, nd6['img'].dtype, nd6['label'].shape, nd6['label'].dtype)\n",
    "\n",
    "X=np.concatenate((nd1['img'], nd2['img'],nd3['img'],nd4['img'],nd6['img']), axis=0)\n",
    "y=np.concatenate((nd1['label'], nd2['label'],nd3['label'],nd4['label'],nd6['label']), axis=0)\n",
    "np.savez_compressed('mnist_all.npz', X=X, y=y)\n",
    "nd5=np.load('mnist_all.npz')\n",
    "nd5"
   ]
  },
  {
   "cell_type": "code",
   "execution_count": 2,
   "id": "cdcf793c",
   "metadata": {},
   "outputs": [
    {
     "data": {
      "text/plain": [
       "(30720, 784)"
      ]
     },
     "execution_count": 2,
     "metadata": {},
     "output_type": "execute_result"
    }
   ],
   "source": [
    "X=X.reshape(30720,784)\n",
    "X.shape"
   ]
  },
  {
   "cell_type": "code",
   "execution_count": 3,
   "id": "0c361ac0",
   "metadata": {},
   "outputs": [
    {
     "data": {
      "text/plain": [
       "(28260,)"
      ]
     },
     "execution_count": 3,
     "metadata": {},
     "output_type": "execute_result"
    }
   ],
   "source": [
    "#data cleaning : 알아볼수 없는 데이터 삭제\n",
    "a=X[23110:23120]\n",
    "b=X[23230:23340]\n",
    "c=X[23420:23450]\n",
    "d=X[23520:23720]\n",
    "e=X[23770:23780]\n",
    "f=X[23900:23920]\n",
    "g=X[23970:24110]\n",
    "h=X[24140:24270]\n",
    "i=X[24780:28410]\n",
    "j=X[28460:30720]\n",
    "a_0=X[:2000]\n",
    "b_0=X[2100:2070]\n",
    "c_0=X[2210:2220]\n",
    "d_0=X[2230:2280]\n",
    "e_0=X[2410:2800]\n",
    "f_0=X[2900:6980]\n",
    "g_0=X[6900:7300]\n",
    "h_0=X[7400:7500]\n",
    "i_0=X[7600:7680]\n",
    "a_1=X[15361:18700]\n",
    "b_1=X[19120:19290]\n",
    "c_1=X[19300:19310]\n",
    "d_1=X[19320:21760]\n",
    "e_1=X[21780:21790]\n",
    "f_1=X[21800:21810]\n",
    "g_1=X[21820:21830]\n",
    "h_1=X[21840:21850]\n",
    "i_1=X[21860:21880]\n",
    "j_1= X[21890:23050]\n",
    "a_2=X[7680:8200]\n",
    "b_2=X[8220:8340]\n",
    "c_2=X[8360:9310]\n",
    "d_2=X[9520:11920]\n",
    "e_2=X[11950:12120]\n",
    "f_2=X[12220:15361]\n",
    "\n",
    "X_new=np.concatenate((a,b,c,d,e,f,h,g,h,i,j,a_0, b_0,c_0,d_0,e_0,f_0,g_0,h_0,i_0,a_1,b_1,c_1,d_1,e_1,f_1,g_1,h_1,i_1\n",
    "                     ,j_1,a_2,b_2,c_2,d_2,e_2,f_2))\n",
    "X_new=X_new.reshape(28260,784)\n",
    "X_new.shape\n",
    "\n",
    "a_3=y[23110:23120]\n",
    "b_3=y[23230:23340]\n",
    "c_3=y[23420:23450]\n",
    "d_3=y[23520:23720]\n",
    "e_3=y[23770:23780]\n",
    "f_3=y[23900:23920]\n",
    "g_3=y[23970:24110]\n",
    "h_3=y[24140:24270]\n",
    "i_3=y[24780:28410]\n",
    "j_3=y[28460:30720]\n",
    "a_4=y[:2000]\n",
    "b_4=y[2100:2070]\n",
    "c_4=y[2210:2220]\n",
    "d_4=y[2230:2280]\n",
    "e_4=y[2410:2800]\n",
    "f_4=y[2900:6980]\n",
    "g_4=y[6900:7300]\n",
    "h_4=y[7400:7500]\n",
    "i_4=y[7600:7680]\n",
    "a_5=y[15361:18700]\n",
    "b_5=y[19120:19290]\n",
    "c_5=y[19300:19310]\n",
    "d_5=y[19320:21760]\n",
    "e_5=y[21780:21790]\n",
    "f_5=y[21800:21810]\n",
    "g_5=y[21820:21830]\n",
    "h_5=y[21840:21850]\n",
    "i_5=y[21860:21880]\n",
    "j_5=y[21890:23050]\n",
    "a_6=y[7680:8200]\n",
    "b_6=y[8220:8340]\n",
    "c_6=y[8360:9310]\n",
    "d_6=y[9520:11920]\n",
    "e_6=y[11950:12120]\n",
    "f_6=y[12220:15361]\n",
    "y_new=np.concatenate((a_3,b_3,c_3,d_3,e_3,f_3,h_3,g_3,h_3,i_3,j_3,a_4, b_4,c_4,d_4,e_4,f_4,g_4,h_4,i_4,a_5,b_5,c_5,d_5,e_5,f_5,g_5,h_5,i_5\n",
    "                     ,j_5,a_6,b_6,c_6,d_6,e_6,f_6))\n",
    "y_new.shape"
   ]
  },
  {
   "cell_type": "code",
   "execution_count": 4,
   "id": "a7eae17b",
   "metadata": {},
   "outputs": [
    {
     "data": {
      "text/plain": [
       "dict_keys(['data', 'target', 'frame', 'categories', 'feature_names', 'target_names', 'DESCR', 'details', 'url'])"
      ]
     },
     "execution_count": 4,
     "metadata": {},
     "output_type": "execute_result"
    }
   ],
   "source": [
    "# original mnist dataset 불러오기\n",
    "from sklearn.datasets import fetch_openml\n",
    "mnist = fetch_openml('mnist_784',version=1)\n",
    "mnist.keys()"
   ]
  },
  {
   "cell_type": "code",
   "execution_count": 5,
   "id": "6a0f2190",
   "metadata": {},
   "outputs": [],
   "source": [
    "X_mnist, y_mnist = mnist[\"data\"], mnist[\"target\"] # X, y: pandas DataFrame\n",
    "y_mnist=y_mnist.astype(np.uint8)"
   ]
  },
  {
   "cell_type": "code",
   "execution_count": 6,
   "id": "36eea597",
   "metadata": {},
   "outputs": [],
   "source": [
    "#최종 데이터셋\n",
    "X_final=np.concatenate((X_new, X_mnist), axis=0)\n",
    "y_final=np.concatenate((y_new , y_mnist), axis=0)"
   ]
  },
  {
   "cell_type": "code",
   "execution_count": 7,
   "id": "4c410147",
   "metadata": {},
   "outputs": [
    {
     "name": "stdout",
     "output_type": "stream",
     "text": [
      "(58956, 784) (19652, 784) (19652, 784)\n",
      "(58956,) (19652,) (19652,)\n"
     ]
    }
   ],
   "source": [
    "#데이터셋 6:2:2 로 분할\n",
    "from sklearn.model_selection import train_test_split\n",
    "X_train0, X_test, y_train0, y_test = train_test_split(X_final, y_final, test_size=0.2, shuffle = True, random_state = 8)\n",
    "X_train, X_val, y_train, y_val = train_test_split(X_train0, y_train0,test_size=0.25, random_state= 8) # 0.25 x 0.8 = 0.2\n",
    "\n",
    "print(X_train.shape, X_val.shape, X_test.shape)\n",
    "print(y_train.shape, y_val.shape, y_test.shape)"
   ]
  },
  {
   "cell_type": "code",
   "execution_count": 8,
   "id": "0be90ac6",
   "metadata": {},
   "outputs": [],
   "source": [
    "# Import classifiers\n",
    "from sklearn.ensemble import RandomForestClassifier, ExtraTreesClassifier\n",
    "from sklearn.neural_network import MLPClassifier # Neural network\n",
    "from sklearn.neighbors import KNeighborsClassifier \n"
   ]
  },
  {
   "cell_type": "code",
   "execution_count": 9,
   "id": "c793d4af",
   "metadata": {},
   "outputs": [],
   "source": [
    "# classifier generation\n",
    "random_forest_clf =RandomForestClassifier(random_state = 42, n_jobs = -1, max_depth =None, n_estimators = 1200)\n",
    "extra_trees_clf = ExtraTreesClassifier(max_depth= 100, n_estimators =1500 ,random_state=42)\n",
    "mlp_clf = MLPClassifier(random_state=42,hidden_layer_sizes= 350)\n",
    "knn_clf=KNeighborsClassifier(n_jobs=-1,n_neighbors=2,metric = 'euclidean', weights= 'distance')\n"
   ]
  },
  {
   "cell_type": "code",
   "execution_count": 10,
   "id": "ade440cb",
   "metadata": {},
   "outputs": [],
   "source": [
    "from sklearn.preprocessing import Normalizer\n",
    "normalizer=Normalizer()\n",
    "X_train=normalizer.fit_transform(X_train)\n",
    "X_val=normalizer.transform(X_val)"
   ]
  },
  {
   "cell_type": "code",
   "execution_count": 11,
   "id": "14ebe028",
   "metadata": {},
   "outputs": [
    {
     "name": "stdout",
     "output_type": "stream",
     "text": [
      "Training the RandomForestClassifier(n_estimators=1200, n_jobs=-1, random_state=42)\n",
      "Training the ExtraTreesClassifier(max_depth=100, n_estimators=1500, random_state=42)\n",
      "Training the KNeighborsClassifier(metric='euclidean', n_jobs=-1, n_neighbors=2,\n",
      "                     weights='distance')\n",
      "Training the MLPClassifier(hidden_layer_sizes=350, random_state=42)\n"
     ]
    }
   ],
   "source": [
    "#fitting classifier\n",
    "estimators = [random_forest_clf, extra_trees_clf, knn_clf, mlp_clf]\n",
    "for estimator in estimators:\n",
    "    print(\"Training the\", estimator)\n",
    "    estimator.fit(X_train, y_train)"
   ]
  },
  {
   "cell_type": "code",
   "execution_count": 12,
   "id": "7b3422a2",
   "metadata": {},
   "outputs": [
    {
     "data": {
      "text/plain": [
       "[0.8909016893954814,\n",
       " 0.9025544473844901,\n",
       " 0.9002137187054753,\n",
       " 0.9122226745369428]"
      ]
     },
     "execution_count": 12,
     "metadata": {},
     "output_type": "execute_result"
    }
   ],
   "source": [
    "# Print scores\n",
    "[estimator.score(X_val, y_val) for estimator in estimators]"
   ]
  },
  {
   "cell_type": "code",
   "execution_count": 13,
   "id": "e4cc1659",
   "metadata": {},
   "outputs": [],
   "source": [
    "# Define named_estimators for ensemble learning\n",
    "from sklearn.ensemble import VotingClassifier"
   ]
  },
  {
   "cell_type": "code",
   "execution_count": 14,
   "id": "785461f2",
   "metadata": {},
   "outputs": [],
   "source": [
    "# Define voting_clf\n",
    "named_estimators = [\n",
    "    (\"random_forest_clf\", random_forest_clf),\n",
    "    (\"extra_trees_clf\", extra_trees_clf),\n",
    "    (\"knn_clf\", knn_clf),\n",
    "    (\"mlp_clf\", mlp_clf)\n",
    "]"
   ]
  },
  {
   "cell_type": "code",
   "execution_count": 15,
   "id": "5e130aa9",
   "metadata": {},
   "outputs": [],
   "source": [
    "# training classifier\n",
    "voting_clf = VotingClassifier(named_estimators)\n"
   ]
  },
  {
   "cell_type": "code",
   "execution_count": 16,
   "id": "d055d051",
   "metadata": {},
   "outputs": [
    {
     "data": {
      "text/html": [
       "<style>#sk-container-id-1 {color: black;background-color: white;}#sk-container-id-1 pre{padding: 0;}#sk-container-id-1 div.sk-toggleable {background-color: white;}#sk-container-id-1 label.sk-toggleable__label {cursor: pointer;display: block;width: 100%;margin-bottom: 0;padding: 0.3em;box-sizing: border-box;text-align: center;}#sk-container-id-1 label.sk-toggleable__label-arrow:before {content: \"▸\";float: left;margin-right: 0.25em;color: #696969;}#sk-container-id-1 label.sk-toggleable__label-arrow:hover:before {color: black;}#sk-container-id-1 div.sk-estimator:hover label.sk-toggleable__label-arrow:before {color: black;}#sk-container-id-1 div.sk-toggleable__content {max-height: 0;max-width: 0;overflow: hidden;text-align: left;background-color: #f0f8ff;}#sk-container-id-1 div.sk-toggleable__content pre {margin: 0.2em;color: black;border-radius: 0.25em;background-color: #f0f8ff;}#sk-container-id-1 input.sk-toggleable__control:checked~div.sk-toggleable__content {max-height: 200px;max-width: 100%;overflow: auto;}#sk-container-id-1 input.sk-toggleable__control:checked~label.sk-toggleable__label-arrow:before {content: \"▾\";}#sk-container-id-1 div.sk-estimator input.sk-toggleable__control:checked~label.sk-toggleable__label {background-color: #d4ebff;}#sk-container-id-1 div.sk-label input.sk-toggleable__control:checked~label.sk-toggleable__label {background-color: #d4ebff;}#sk-container-id-1 input.sk-hidden--visually {border: 0;clip: rect(1px 1px 1px 1px);clip: rect(1px, 1px, 1px, 1px);height: 1px;margin: -1px;overflow: hidden;padding: 0;position: absolute;width: 1px;}#sk-container-id-1 div.sk-estimator {font-family: monospace;background-color: #f0f8ff;border: 1px dotted black;border-radius: 0.25em;box-sizing: border-box;margin-bottom: 0.5em;}#sk-container-id-1 div.sk-estimator:hover {background-color: #d4ebff;}#sk-container-id-1 div.sk-parallel-item::after {content: \"\";width: 100%;border-bottom: 1px solid gray;flex-grow: 1;}#sk-container-id-1 div.sk-label:hover label.sk-toggleable__label {background-color: #d4ebff;}#sk-container-id-1 div.sk-serial::before {content: \"\";position: absolute;border-left: 1px solid gray;box-sizing: border-box;top: 0;bottom: 0;left: 50%;z-index: 0;}#sk-container-id-1 div.sk-serial {display: flex;flex-direction: column;align-items: center;background-color: white;padding-right: 0.2em;padding-left: 0.2em;position: relative;}#sk-container-id-1 div.sk-item {position: relative;z-index: 1;}#sk-container-id-1 div.sk-parallel {display: flex;align-items: stretch;justify-content: center;background-color: white;position: relative;}#sk-container-id-1 div.sk-item::before, #sk-container-id-1 div.sk-parallel-item::before {content: \"\";position: absolute;border-left: 1px solid gray;box-sizing: border-box;top: 0;bottom: 0;left: 50%;z-index: -1;}#sk-container-id-1 div.sk-parallel-item {display: flex;flex-direction: column;z-index: 1;position: relative;background-color: white;}#sk-container-id-1 div.sk-parallel-item:first-child::after {align-self: flex-end;width: 50%;}#sk-container-id-1 div.sk-parallel-item:last-child::after {align-self: flex-start;width: 50%;}#sk-container-id-1 div.sk-parallel-item:only-child::after {width: 0;}#sk-container-id-1 div.sk-dashed-wrapped {border: 1px dashed gray;margin: 0 0.4em 0.5em 0.4em;box-sizing: border-box;padding-bottom: 0.4em;background-color: white;}#sk-container-id-1 div.sk-label label {font-family: monospace;font-weight: bold;display: inline-block;line-height: 1.2em;}#sk-container-id-1 div.sk-label-container {text-align: center;}#sk-container-id-1 div.sk-container {/* jupyter's `normalize.less` sets `[hidden] { display: none; }` but bootstrap.min.css set `[hidden] { display: none !important; }` so we also need the `!important` here to be able to override the default hidden behavior on the sphinx rendered scikit-learn.org. See: https://github.com/scikit-learn/scikit-learn/issues/21755 */display: inline-block !important;position: relative;}#sk-container-id-1 div.sk-text-repr-fallback {display: none;}</style><div id=\"sk-container-id-1\" class=\"sk-top-container\"><div class=\"sk-text-repr-fallback\"><pre>VotingClassifier(estimators=[(&#x27;random_forest_clf&#x27;,\n",
       "                              RandomForestClassifier(n_estimators=1200,\n",
       "                                                     n_jobs=-1,\n",
       "                                                     random_state=42)),\n",
       "                             (&#x27;extra_trees_clf&#x27;,\n",
       "                              ExtraTreesClassifier(max_depth=100,\n",
       "                                                   n_estimators=1500,\n",
       "                                                   random_state=42)),\n",
       "                             (&#x27;knn_clf&#x27;,\n",
       "                              KNeighborsClassifier(metric=&#x27;euclidean&#x27;,\n",
       "                                                   n_jobs=-1, n_neighbors=2,\n",
       "                                                   weights=&#x27;distance&#x27;)),\n",
       "                             (&#x27;mlp_clf&#x27;,\n",
       "                              MLPClassifier(hidden_layer_sizes=350,\n",
       "                                            random_state=42))])</pre><b>In a Jupyter environment, please rerun this cell to show the HTML representation or trust the notebook. <br />On GitHub, the HTML representation is unable to render, please try loading this page with nbviewer.org.</b></div><div class=\"sk-container\" hidden><div class=\"sk-item sk-dashed-wrapped\"><div class=\"sk-label-container\"><div class=\"sk-label sk-toggleable\"><input class=\"sk-toggleable__control sk-hidden--visually\" id=\"sk-estimator-id-1\" type=\"checkbox\" ><label for=\"sk-estimator-id-1\" class=\"sk-toggleable__label sk-toggleable__label-arrow\">VotingClassifier</label><div class=\"sk-toggleable__content\"><pre>VotingClassifier(estimators=[(&#x27;random_forest_clf&#x27;,\n",
       "                              RandomForestClassifier(n_estimators=1200,\n",
       "                                                     n_jobs=-1,\n",
       "                                                     random_state=42)),\n",
       "                             (&#x27;extra_trees_clf&#x27;,\n",
       "                              ExtraTreesClassifier(max_depth=100,\n",
       "                                                   n_estimators=1500,\n",
       "                                                   random_state=42)),\n",
       "                             (&#x27;knn_clf&#x27;,\n",
       "                              KNeighborsClassifier(metric=&#x27;euclidean&#x27;,\n",
       "                                                   n_jobs=-1, n_neighbors=2,\n",
       "                                                   weights=&#x27;distance&#x27;)),\n",
       "                             (&#x27;mlp_clf&#x27;,\n",
       "                              MLPClassifier(hidden_layer_sizes=350,\n",
       "                                            random_state=42))])</pre></div></div></div><div class=\"sk-parallel\"><div class=\"sk-parallel-item\"><div class=\"sk-item\"><div class=\"sk-label-container\"><div class=\"sk-label sk-toggleable\"><label>random_forest_clf</label></div></div><div class=\"sk-serial\"><div class=\"sk-item\"><div class=\"sk-estimator sk-toggleable\"><input class=\"sk-toggleable__control sk-hidden--visually\" id=\"sk-estimator-id-2\" type=\"checkbox\" ><label for=\"sk-estimator-id-2\" class=\"sk-toggleable__label sk-toggleable__label-arrow\">RandomForestClassifier</label><div class=\"sk-toggleable__content\"><pre>RandomForestClassifier(n_estimators=1200, n_jobs=-1, random_state=42)</pre></div></div></div></div></div></div><div class=\"sk-parallel-item\"><div class=\"sk-item\"><div class=\"sk-label-container\"><div class=\"sk-label sk-toggleable\"><label>extra_trees_clf</label></div></div><div class=\"sk-serial\"><div class=\"sk-item\"><div class=\"sk-estimator sk-toggleable\"><input class=\"sk-toggleable__control sk-hidden--visually\" id=\"sk-estimator-id-3\" type=\"checkbox\" ><label for=\"sk-estimator-id-3\" class=\"sk-toggleable__label sk-toggleable__label-arrow\">ExtraTreesClassifier</label><div class=\"sk-toggleable__content\"><pre>ExtraTreesClassifier(max_depth=100, n_estimators=1500, random_state=42)</pre></div></div></div></div></div></div><div class=\"sk-parallel-item\"><div class=\"sk-item\"><div class=\"sk-label-container\"><div class=\"sk-label sk-toggleable\"><label>knn_clf</label></div></div><div class=\"sk-serial\"><div class=\"sk-item\"><div class=\"sk-estimator sk-toggleable\"><input class=\"sk-toggleable__control sk-hidden--visually\" id=\"sk-estimator-id-4\" type=\"checkbox\" ><label for=\"sk-estimator-id-4\" class=\"sk-toggleable__label sk-toggleable__label-arrow\">KNeighborsClassifier</label><div class=\"sk-toggleable__content\"><pre>KNeighborsClassifier(metric=&#x27;euclidean&#x27;, n_jobs=-1, n_neighbors=2,\n",
       "                     weights=&#x27;distance&#x27;)</pre></div></div></div></div></div></div><div class=\"sk-parallel-item\"><div class=\"sk-item\"><div class=\"sk-label-container\"><div class=\"sk-label sk-toggleable\"><label>mlp_clf</label></div></div><div class=\"sk-serial\"><div class=\"sk-item\"><div class=\"sk-estimator sk-toggleable\"><input class=\"sk-toggleable__control sk-hidden--visually\" id=\"sk-estimator-id-5\" type=\"checkbox\" ><label for=\"sk-estimator-id-5\" class=\"sk-toggleable__label sk-toggleable__label-arrow\">MLPClassifier</label><div class=\"sk-toggleable__content\"><pre>MLPClassifier(hidden_layer_sizes=350, random_state=42)</pre></div></div></div></div></div></div></div></div></div></div>"
      ],
      "text/plain": [
       "VotingClassifier(estimators=[('random_forest_clf',\n",
       "                              RandomForestClassifier(n_estimators=1200,\n",
       "                                                     n_jobs=-1,\n",
       "                                                     random_state=42)),\n",
       "                             ('extra_trees_clf',\n",
       "                              ExtraTreesClassifier(max_depth=100,\n",
       "                                                   n_estimators=1500,\n",
       "                                                   random_state=42)),\n",
       "                             ('knn_clf',\n",
       "                              KNeighborsClassifier(metric='euclidean',\n",
       "                                                   n_jobs=-1, n_neighbors=2,\n",
       "                                                   weights='distance')),\n",
       "                             ('mlp_clf',\n",
       "                              MLPClassifier(hidden_layer_sizes=350,\n",
       "                                            random_state=42))])"
      ]
     },
     "execution_count": 16,
     "metadata": {},
     "output_type": "execute_result"
    }
   ],
   "source": [
    "# Scores of voting classifier and each classifier\n",
    "voting_clf.fit(X_train, y_train)"
   ]
  },
  {
   "cell_type": "code",
   "execution_count": 17,
   "id": "91b96380",
   "metadata": {},
   "outputs": [
    {
     "data": {
      "text/plain": [
       "[('random_forest_clf',\n",
       "  RandomForestClassifier(n_estimators=1200, n_jobs=-1, random_state=42)),\n",
       " ('extra_trees_clf',\n",
       "  ExtraTreesClassifier(max_depth=100, n_estimators=1500, random_state=42)),\n",
       " ('knn_clf',\n",
       "  KNeighborsClassifier(metric='euclidean', n_jobs=-1, n_neighbors=2,\n",
       "                       weights='distance')),\n",
       " ('mlp_clf', MLPClassifier(hidden_layer_sizes=350, random_state=42))]"
      ]
     },
     "execution_count": 17,
     "metadata": {},
     "output_type": "execute_result"
    }
   ],
   "source": [
    "voting_clf.estimators"
   ]
  },
  {
   "cell_type": "code",
   "execution_count": 19,
   "id": "be93a0ff",
   "metadata": {},
   "outputs": [
    {
     "data": {
      "text/plain": [
       "0.9094748626094036"
      ]
     },
     "execution_count": 19,
     "metadata": {},
     "output_type": "execute_result"
    }
   ],
   "source": [
    "# Score of new voting classifier\n",
    "voting_clf.score(X_val, y_val)"
   ]
  },
  {
   "cell_type": "code",
   "execution_count": 21,
   "id": "2e283c13",
   "metadata": {},
   "outputs": [
    {
     "data": {
      "text/plain": [
       "0.89548137594138"
      ]
     },
     "execution_count": 21,
     "metadata": {},
     "output_type": "execute_result"
    }
   ],
   "source": [
    "# Set to hard voting and get score for test sets\n",
    "voting_clf.voting = \"hard\"\n",
    "voting_clf.score(X_test, y_test)"
   ]
  },
  {
   "cell_type": "code",
   "execution_count": 28,
   "id": "1f1d8703",
   "metadata": {},
   "outputs": [
    {
     "name": "stdout",
     "output_type": "stream",
     "text": [
      "soft voting score: 0.901027885202524\n"
     ]
    },
    {
     "ename": "",
     "evalue": "",
     "output_type": "error",
     "traceback": [
      "\u001b[1;31m현재 셀 또는 이전 셀에서 코드를 실행하는 동안 Kernel이 충돌했습니다. 셀의 코드를 검토하여 오류의 가능한 원인을 식별하세요. 자세한 내용을 보려면 <a href='https://aka.ms/vscodeJupyterKernelCrash'> 여기 </a> 를 클릭하세요. 자세한 내용은 Jupyter <a href='command:jupyter.viewOutput'>로그</a>를 참조하세요."
     ]
    }
   ],
   "source": [
    "# Score \n",
    "voting_clf.voting = \"soft\"\n",
    "soft_voting_score = voting_clf.score(X_test, y_test)\n",
    "print(\"soft voting score:\",soft_voting_score)"
   ]
  },
  {
   "cell_type": "markdown",
   "id": "fa14b685",
   "metadata": {},
   "source": []
  }
 ],
 "metadata": {
  "kernelspec": {
   "display_name": "base",
   "language": "python",
   "name": "python3"
  },
  "language_info": {
   "codemirror_mode": {
    "name": "ipython",
    "version": 3
   },
   "file_extension": ".py",
   "mimetype": "text/x-python",
   "name": "python",
   "nbconvert_exporter": "python",
   "pygments_lexer": "ipython3",
   "version": "3.9.12"
  },
  "vscode": {
   "interpreter": {
    "hash": "2ca105a93104d08d207b05991868f47186dc0a806f7cc62155dba79bba6ceb0b"
   }
  }
 },
 "nbformat": 4,
 "nbformat_minor": 5
}
