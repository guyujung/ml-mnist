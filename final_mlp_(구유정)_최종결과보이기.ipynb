{
 "cells": [
  {
   "cell_type": "markdown",
   "id": "Ft8Y9ohVd8pz",
   "metadata": {
    "id": "Ft8Y9ohVd8pz"
   },
   "source": [
    "98260만개 data (교수님+우리+오리지널)"
   ]
  },
  {
   "cell_type": "code",
   "execution_count": 2,
   "id": "QOqui6ABJyyt",
   "metadata": {
    "id": "QOqui6ABJyyt"
   },
   "outputs": [],
   "source": [
    "# Python ≥3.5 is required\n",
    "import sys\n",
    "assert sys.version_info >= (3, 5)\n",
    "\n",
    "# Scikit-Learn ≥0.20 is required\n",
    "import sklearn\n",
    "assert sklearn.__version__ >= \"0.20\"\n",
    "\n",
    "# Common imports\n",
    "import numpy as np\n",
    "import os\n",
    "\n",
    "# to make this notebook's output stable across runs\n",
    "np.random.seed(42)\n",
    "\n",
    "# To plot pretty figures\n",
    "%matplotlib inline\n",
    "import matplotlib as mpl\n",
    "import matplotlib.pyplot as plt\n",
    "mpl.rc('axes', labelsize=14)\n",
    "mpl.rc('xtick', labelsize=12)\n",
    "mpl.rc('ytick', labelsize=12)\n",
    "\n",
    "# Where to save the figures\n",
    "PROJECT_ROOT_DIR = \".\"\n",
    "CHAPTER_ID = \"3_classification\"\n",
    "IMAGES_PATH = os.path.join(PROJECT_ROOT_DIR, \"images\", CHAPTER_ID)\n",
    "os.makedirs(IMAGES_PATH, exist_ok=True)\n",
    "\n",
    "def save_fig(fig_id, tight_layout=True, fig_extension=\"png\", resolution=300):\n",
    "    path = os.path.join(IMAGES_PATH, fig_id + \".\" + fig_extension)\n",
    "    print(\"Saving figure\", fig_id)\n",
    "    if tight_layout:\n",
    "        plt.tight_layout()\n",
    "    plt.savefig(path, format=fig_extension, dpi=resolution)"
   ]
  },
  {
   "cell_type": "code",
   "execution_count": 3,
   "id": "0e3686ee",
   "metadata": {
    "colab": {
     "base_uri": "https://localhost:8080/"
    },
    "id": "0e3686ee",
    "outputId": "b8af1822-356a-4d14-afdd-8285446c1817"
   },
   "outputs": [
    {
     "name": "stdout",
     "output_type": "stream",
     "text": [
      "(1000, 28, 28) float64 (1000,) int64\n",
      "(1000, 28, 28) float64 (1000,) int64\n",
      "(1000, 28, 28) float64 (1000,) int32\n",
      "(1000, 28, 28) float64 (1000,) int32\n",
      "(26720, 28, 28) float64 (26720,) int64\n"
     ]
    },
    {
     "data": {
      "text/plain": [
       "numpy.ndarray"
      ]
     },
     "execution_count": 3,
     "metadata": {},
     "output_type": "execute_result"
    }
   ],
   "source": [
    "%matplotlib inline\n",
    "import numpy as np\n",
    "import matplotlib.pyplot as plt\n",
    "import cv2\n",
    "import os\n",
    "import pandas as pd\n",
    "from sklearn.model_selection import train_test_split\n",
    "nd1=np.load('mnist_20211236_total.npz')#이윤재\n",
    "nd2=np.load('mnist_20201572_1.npz')#구유정\n",
    "nd3=np.load('mnist_20171372.npz')#김석우\n",
    "nd4=np.load('mnist_20170565.npz')#김성년\n",
    "nd6=np.load('H_MNIST_train.npz')\n",
    "print(nd1['img'].shape, nd1['img'].dtype, nd1['label'].shape, nd1['label'].dtype)\n",
    "print(nd2['img'].shape, nd2['img'].dtype, nd2['label'].shape, nd2['label'].dtype)\n",
    "print(nd3['img'].shape, nd3['img'].dtype, nd3['label'].shape, nd3['label'].dtype)\n",
    "print(nd4['img'].shape, nd4['img'].dtype, nd4['label'].shape, nd4['label'].dtype)\n",
    "print(nd6['img'].shape, nd6['img'].dtype, nd6['label'].shape, nd6['label'].dtype)\n",
    "\n",
    "X=np.concatenate((nd1['img'], nd2['img'],nd3['img'],nd4['img'],nd6['img']), axis=0)\n",
    "y=np.concatenate((nd1['label'], nd2['label'],nd3['label'],nd4['label'],nd6['label']), axis=0)\n",
    "np.savez_compressed('mnist_total.npz', X=X, y=y)\n",
    "nd5=np.load('mnist_total.npz')\n",
    "nd5\n",
    "X.shape\n",
    "X=X.reshape(30720,784)\n",
    "#X_new=X[23040:30720]\n",
    "#y_new=y[23040:30720]\n",
    "#X_new.shape\n",
    "#y_new.shape\n",
    "type(X)"
   ]
  },
  {
   "cell_type": "markdown",
   "id": "2rPzy19zbVmo",
   "metadata": {
    "id": "2rPzy19zbVmo"
   },
   "source": [
    "data cleaning 작업"
   ]
  },
  {
   "cell_type": "code",
   "execution_count": 4,
   "id": "0bbbf372",
   "metadata": {
    "colab": {
     "base_uri": "https://localhost:8080/"
    },
    "id": "0bbbf372",
    "outputId": "506dc82b-a03e-4c1e-9c79-e6f3f30341f1"
   },
   "outputs": [
    {
     "data": {
      "text/plain": [
       "(28260,)"
      ]
     },
     "execution_count": 4,
     "metadata": {},
     "output_type": "execute_result"
    }
   ],
   "source": [
    "a_3=y[23110:23120]\n",
    "b_3=y[23230:23340]\n",
    "c_3=y[23420:23450]\n",
    "d_3=y[23520:23720]\n",
    "e_3=y[23770:23780]\n",
    "f_3=y[23900:23920]\n",
    "g_3=y[23970:24110]\n",
    "h_3=y[24140:24270]\n",
    "i_3=y[24780:28410]\n",
    "j_3=y[28460:30720]\n",
    "a_4=y[:2000]\n",
    "b_4=y[2100:2070]\n",
    "c_4=y[2210:2220]\n",
    "d_4=y[2230:2280]\n",
    "e_4=y[2410:2800]\n",
    "f_4=y[2900:6980]\n",
    "g_4=y[6900:7300]\n",
    "h_4=y[7400:7500]\n",
    "i_4=y[7600:7680]\n",
    "a_5=y[15361:18700]\n",
    "b_5=y[19120:19290]\n",
    "c_5=y[19300:19310]\n",
    "d_5=y[19320:21760]\n",
    "e_5=y[21780:21790]\n",
    "f_5=y[21800:21810]\n",
    "g_5=y[21820:21830]\n",
    "h_5=y[21840:21850]\n",
    "i_5=y[21860:21880]\n",
    "j_5=y[21890:23050]\n",
    "a_6=y[7680:8200]\n",
    "b_6=y[8220:8340]\n",
    "c_6=y[8360:9310]\n",
    "d_6=y[9520:11920]\n",
    "e_6=y[11950:12120]\n",
    "f_6=y[12220:15361]\n",
    "y_new=np.concatenate((a_3,b_3,c_3,d_3,e_3,f_3,h_3,g_3,h_3,i_3,j_3,a_4, b_4,c_4,d_4,e_4,f_4,g_4,h_4,i_4,a_5,b_5,c_5,d_5,e_5,f_5,g_5,h_5,i_5\n",
    "                     ,j_5,a_6,b_6,c_6,d_6,e_6,f_6))\n",
    "y_new.shape"
   ]
  },
  {
   "cell_type": "code",
   "execution_count": 5,
   "id": "5e5e5cb9",
   "metadata": {
    "colab": {
     "base_uri": "https://localhost:8080/"
    },
    "id": "5e5e5cb9",
    "outputId": "7260f00c-6747-4f1e-ed8d-e762dda5ea7b"
   },
   "outputs": [
    {
     "data": {
      "text/plain": [
       "(28260, 784)"
      ]
     },
     "execution_count": 5,
     "metadata": {},
     "output_type": "execute_result"
    }
   ],
   "source": [
    "a=X[23110:23120]\n",
    "b=X[23230:23340]\n",
    "c=X[23420:23450]\n",
    "d=X[23520:23720]\n",
    "e=X[23770:23780]\n",
    "f=X[23900:23920]\n",
    "g=X[23970:24110]\n",
    "h=X[24140:24270]\n",
    "i=X[24780:28410]\n",
    "j=X[28460:30720]\n",
    "a_0=X[:2000]\n",
    "b_0=X[2100:2070]\n",
    "c_0=X[2210:2220]\n",
    "d_0=X[2230:2280]\n",
    "e_0=X[2410:2800]\n",
    "f_0=X[2900:6980]\n",
    "g_0=X[6900:7300]\n",
    "h_0=X[7400:7500]\n",
    "i_0=X[7600:7680]\n",
    "a_1=X[15361:18700]\n",
    "b_1=X[19120:19290]\n",
    "c_1=X[19300:19310]\n",
    "d_1=X[19320:21760]\n",
    "e_1=X[21780:21790]\n",
    "f_1=X[21800:21810]\n",
    "g_1=X[21820:21830]\n",
    "h_1=X[21840:21850]\n",
    "i_1=X[21860:21880]\n",
    "j_1= X[21890:23050]\n",
    "a_2=X[7680:8200]\n",
    "b_2=X[8220:8340]\n",
    "c_2=X[8360:9310]\n",
    "d_2=X[9520:11920]\n",
    "e_2=X[11950:12120]\n",
    "f_2=X[12220:15361]\n",
    "\n",
    "X_new=np.concatenate((a,b,c,d,e,f,h,g,h,i,j,a_0, b_0,c_0,d_0,e_0,f_0,g_0,h_0,i_0,a_1,b_1,c_1,d_1,e_1,f_1,g_1,h_1,i_1\n",
    "                     ,j_1,a_2,b_2,c_2,d_2,e_2,f_2))\n",
    "X_new=X_new.reshape(28260,784)\n",
    "X_new.shape\n"
   ]
  },
  {
   "cell_type": "code",
   "execution_count": 6,
   "id": "KX3qHqFedLoZ",
   "metadata": {
    "colab": {
     "base_uri": "https://localhost:8080/"
    },
    "id": "KX3qHqFedLoZ",
    "outputId": "695b335d-7293-4855-9afb-a6d4bc6c7ebe"
   },
   "outputs": [
    {
     "data": {
      "text/plain": [
       "(30720,)"
      ]
     },
     "execution_count": 6,
     "metadata": {},
     "output_type": "execute_result"
    }
   ],
   "source": [
    "from sklearn.datasets import fetch_openml\n",
    "mnist = fetch_openml('mnist_784', version=1)\n",
    "mnist.keys()\n",
    "X_mnist, y_mnist = mnist[\"data\"], mnist[\"target\"] # X, y: pandas DataFrame\n",
    "y_mnist=y_mnist.astype(np.uint8)\n",
    "X.shape\n",
    "y.shape"
   ]
  },
  {
   "cell_type": "code",
   "execution_count": 7,
   "id": "JQZW1FQ7nxQy",
   "metadata": {
    "id": "JQZW1FQ7nxQy"
   },
   "outputs": [],
   "source": [
    "X_final=np.concatenate((X_new,X_mnist))\n",
    "y_final=np.concatenate((y_new,y_mnist))"
   ]
  },
  {
   "cell_type": "markdown",
   "id": "11X5g1YcEFOR",
   "metadata": {
    "id": "11X5g1YcEFOR"
   },
   "source": [
    "mnist를 dataframe 에서 array 로 변환(concatate 하더라도 mnist 변수 따로 쓰면 data frame 이므로.)"
   ]
  },
  {
   "cell_type": "code",
   "execution_count": 9,
   "id": "ZGva8TNFD5Jf",
   "metadata": {
    "colab": {
     "base_uri": "https://localhost:8080/"
    },
    "id": "ZGva8TNFD5Jf",
    "outputId": "05a4868a-bf20-4174-cd24-21f452b58b45"
   },
   "outputs": [
    {
     "name": "stdout",
     "output_type": "stream",
     "text": [
      "(70000, 784)\n",
      "<class 'numpy.ndarray'>\n",
      "(70000,)\n",
      "<class 'numpy.ndarray'>\n"
     ]
    }
   ],
   "source": [
    "X_mnist=np.array(X_mnist)\n",
    "\n",
    "\n",
    "print(X_mnist.shape)\n",
    "print(type(X_mnist))\n",
    "\n",
    "y_mnist=np.array(y_mnist)\n",
    "\n",
    "\n",
    "print(y_mnist.shape)\n",
    "print(type(y_mnist))"
   ]
  },
  {
   "cell_type": "markdown",
   "id": "CYvtJIEjcMtV",
   "metadata": {
    "id": "CYvtJIEjcMtV"
   },
   "source": [
    "3:1:1로 data split"
   ]
  },
  {
   "cell_type": "code",
   "execution_count": 10,
   "id": "517feafa",
   "metadata": {
    "colab": {
     "base_uri": "https://localhost:8080/"
    },
    "id": "517feafa",
    "outputId": "5d298e78-7501-483c-80c5-4b013b700d0c"
   },
   "outputs": [
    {
     "name": "stdout",
     "output_type": "stream",
     "text": [
      "(78608, 784) (9826, 784) (9826, 784)\n",
      "(78608,) (9826,) (9826,)\n"
     ]
    }
   ],
   "source": [
    "from sklearn.model_selection import train_test_split\n",
    "X_train0, X_test, y_train0, y_test = train_test_split(X_final, y_final, test_size=0.1, shuffle =True, random_state = 8)\n",
    "X_train, X_val, y_train, y_val = train_test_split(X_train0, y_train0,test_size=float(1/9), shuffle =True,random_state= 8) # 0.25 x 0.8 = 0.2\n",
    "\n",
    "print(X_train.shape, X_val.shape, X_test.shape)\n",
    "print(y_train.shape, y_val.shape, y_test.shape)"
   ]
  },
  {
   "cell_type": "markdown",
   "id": "AVfhe7u8oIqL",
   "metadata": {
    "id": "AVfhe7u8oIqL"
   },
   "source": [
    "------------------------------------------------------\n",
    "##여기서부터 모델 학습"
   ]
  },
  {
   "cell_type": "markdown",
   "id": "7mVODr1RfM5s",
   "metadata": {
    "id": "7mVODr1RfM5s"
   },
   "source": [
    "scaling\n",
    "\n",
    "mlp fit\n"
   ]
  },
  {
   "cell_type": "code",
   "execution_count": 11,
   "id": "spsd4pjBW5wL",
   "metadata": {
    "colab": {
     "base_uri": "https://localhost:8080/"
    },
    "id": "spsd4pjBW5wL",
    "outputId": "fc5e7ee2-cbc6-46d0-bc9a-cbdd1207a19a"
   },
   "outputs": [
    {
     "name": "stdout",
     "output_type": "stream",
     "text": [
      "Fit time :  198.4263060092926\n"
     ]
    },
    {
     "data": {
      "text/plain": [
       "array([0.85971072, 0.85921459, 0.85856042])"
      ]
     },
     "execution_count": 11,
     "metadata": {},
     "output_type": "execute_result"
    }
   ],
   "source": [
    "#일반적으로 standardscaler로 scaling\n",
    "import time\n",
    "from sklearn.neural_network import MLPClassifier\n",
    "from sklearn.preprocessing import StandardScaler\n",
    "from sklearn.model_selection import cross_val_score\n",
    "\n",
    "mlp_clf=MLPClassifier(random_state=42)\n",
    "\n",
    "start_time=time.time()\n",
    "mlp_clf.fit(X_train,y_train)\n",
    "print('Fit time : ', time.time()-start_time)\n",
    "\n",
    "cross_val_score(mlp_clf, X_train, y_train, cv=3, scoring=\"accuracy\")"
   ]
  },
  {
   "cell_type": "markdown",
   "id": "AdDEhV4QbEzu",
   "metadata": {
    "id": "AdDEhV4QbEzu"
   },
   "source": [
    "accuracy"
   ]
  },
  {
   "cell_type": "code",
   "execution_count": 12,
   "id": "nIhid_ovl-3X",
   "metadata": {
    "colab": {
     "base_uri": "https://localhost:8080/"
    },
    "id": "nIhid_ovl-3X",
    "outputId": "423d5f67-a8f4-4f56-da8d-30ea2a052ab8"
   },
   "outputs": [
    {
     "name": "stdout",
     "output_type": "stream",
     "text": [
      "Fit time :  0.13107872009277344\n",
      "0.862609403623041\n"
     ]
    }
   ],
   "source": [
    "from sklearn.metrics import accuracy_score\n",
    "import time\n",
    "start_time = time.time()\n",
    "pred =mlp_clf.predict(X_val)\n",
    "print('Fit time : ', time.time() - start_time)\n",
    "print(accuracy_score(y_val, pred))"
   ]
  },
  {
   "cell_type": "markdown",
   "id": "eDIqmngtbJ0J",
   "metadata": {
    "id": "eDIqmngtbJ0J"
   },
   "source": [
    "# mlp confusion matrix"
   ]
  },
  {
   "cell_type": "code",
   "execution_count": 13,
   "id": "B42K6ETcllIA",
   "metadata": {
    "colab": {
     "base_uri": "https://localhost:8080/"
    },
    "id": "B42K6ETcllIA",
    "outputId": "c0fcac33-b3be-4e45-d8c7-bedd27aaeba0"
   },
   "outputs": [
    {
     "name": "stdout",
     "output_type": "stream",
     "text": [
      "              precision    recall  f1-score   support\n",
      "\n",
      "           0       0.87      0.90      0.88      1952\n",
      "           1       0.92      0.92      0.92      2076\n",
      "           2       0.88      0.86      0.87      1930\n",
      "           3       0.82      0.83      0.83      1988\n",
      "           4       0.87      0.87      0.87      1915\n",
      "           5       0.81      0.85      0.83      1891\n",
      "           6       0.88      0.88      0.88      1962\n",
      "           7       0.87      0.87      0.87      2043\n",
      "           8       0.84      0.84      0.84      1968\n",
      "           9       0.85      0.81      0.83      1927\n",
      "\n",
      "    accuracy                           0.86     19652\n",
      "   macro avg       0.86      0.86      0.86     19652\n",
      "weighted avg       0.86      0.86      0.86     19652\n",
      "\n",
      "[[1757   24   32   20   20   24   23   13   29   10]\n",
      " [  23 1910   27   24    7   14   30   14   19    8]\n",
      " [  47   24 1654   71   27   19   22   15   42    9]\n",
      " [  25   32   74 1650   15   80   13   26   44   29]\n",
      " [  23    7   23   23 1663   28   38   29   16   65]\n",
      " [  31   19    8   73   30 1609   49   16   43   13]\n",
      " [  39   22   17   19   23   59 1726    8   43    6]\n",
      " [  25   16   19   30   18   43    4 1771   27   90]\n",
      " [  32   11   24   49   28   59   44   28 1651   42]\n",
      " [  18    9    6   41   74   40    6  123   49 1561]]\n"
     ]
    }
   ],
   "source": [
    "from sklearn.metrics import classification_report, confusion_matrix\n",
    "\n",
    "def results(y_val, pred):\n",
    "    print(classification_report(y_val,pred))\n",
    "    print(confusion_matrix(y_val,pred))\n",
    "\n",
    "    return confusion_matrix(y_val,pred)\n",
    "conf_mlp=results(y_val,pred)"
   ]
  },
  {
   "cell_type": "markdown",
   "id": "E3rSVdhQcMWw",
   "metadata": {
    "id": "E3rSVdhQcMWw"
   },
   "source": [
    "confusion matrix error"
   ]
  },
  {
   "cell_type": "code",
   "execution_count": 17,
   "id": "5sEpVNOEYt43",
   "metadata": {
    "colab": {
     "base_uri": "https://localhost:8080/",
     "height": 296
    },
    "id": "5sEpVNOEYt43",
    "outputId": "282d6ccb-c7cc-467f-8e76-bf612c84c775"
   },
   "outputs": [
    {
     "name": "stdout",
     "output_type": "stream",
     "text": [
      "Saving figure confusion_matrix_plot\n"
     ]
    },
    {
     "data": {
      "image/png": "[encoded data removed]",
      "text/plain": [
       "<Figure size 288x288 with 1 Axes>"
      ]
     },
     "metadata": {
      "needs_background": "light"
     },
     "output_type": "display_data"
    }
   ],
   "source": [
    "plt.matshow(conf_mlp, cmap=plt.cm.gray)\n",
    "save_fig(\"confusion_matrix_plot\", tight_layout=False)\n",
    "plt.show()"
   ]
  },
  {
   "cell_type": "code",
   "execution_count": 18,
   "id": "DjI5vaEyYw9_",
   "metadata": {
    "colab": {
     "base_uri": "https://localhost:8080/"
    },
    "id": "DjI5vaEyYw9_",
    "outputId": "7ac9f1fd-e014-406a-dbc0-0e9cd9b133b4"
   },
   "outputs": [
    {
     "data": {
      "text/plain": [
       "array([[0.88831967, 0.01485656, 0.01844262, 0.00870902, 0.00973361,\n",
       "        0.0107582 , 0.01280738, 0.0102459 , 0.01895492, 0.00717213],\n",
       "       [0.00722543, 0.93256262, 0.01589595, 0.011079  , 0.00289017,\n",
       "        0.00674374, 0.00818882, 0.00433526, 0.00722543, 0.00385356],\n",
       "       [0.0253886 , 0.02227979, 0.84663212, 0.03937824, 0.01243523,\n",
       "        0.00777202, 0.01295337, 0.00932642, 0.01709845, 0.00673575],\n",
       "       [0.01257545, 0.01559356, 0.03470825, 0.82444668, 0.00754527,\n",
       "        0.03571429, 0.00704225, 0.01056338, 0.02867203, 0.02313883],\n",
       "       [0.01044386, 0.00939948, 0.01305483, 0.00887728, 0.8694517 ,\n",
       "        0.01096606, 0.01879896, 0.01253264, 0.01253264, 0.03394256],\n",
       "       [0.0126917 , 0.01480698, 0.00687467, 0.04283448, 0.01480698,\n",
       "        0.83024855, 0.02961396, 0.0126917 , 0.02432575, 0.01110524],\n",
       "       [0.01834862, 0.01783894, 0.00917431, 0.00662589, 0.01478084,\n",
       "        0.02038736, 0.88379205, 0.00356779, 0.02089704, 0.00458716],\n",
       "       [0.01272638, 0.01076848, 0.01713167, 0.01419481, 0.01468429,\n",
       "        0.01174743, 0.00342633, 0.86196769, 0.01370534, 0.03964758],\n",
       "       [0.01727642, 0.00914634, 0.01727642, 0.0203252 , 0.0101626 ,\n",
       "        0.02439024, 0.02388211, 0.01117886, 0.84349593, 0.02286585],\n",
       "       [0.01245459, 0.00830306, 0.00207577, 0.01920083, 0.02854177,\n",
       "        0.01453036, 0.00311365, 0.05448884, 0.02023871, 0.83705241]])"
      ]
     },
     "execution_count": 18,
     "metadata": {},
     "output_type": "execute_result"
    }
   ],
   "source": [
    "row_sums = conf_mlp.sum(axis=1, keepdims=True)\n",
    "norm_conf_mlp = conf_mlp / row_sums\n",
    "norm_conf_mlp"
   ]
  },
  {
   "cell_type": "code",
   "execution_count": 19,
   "id": "G-xtn9yRYzhC",
   "metadata": {
    "colab": {
     "base_uri": "https://localhost:8080/",
     "height": 296
    },
    "id": "G-xtn9yRYzhC",
    "outputId": "e085f6b9-7d87-48b3-e702-e7c9210a2b4c"
   },
   "outputs": [
    {
     "name": "stdout",
     "output_type": "stream",
     "text": [
      "Saving figure confusion_matrix_errors_plot\n"
     ]
    },
    {
     "data": {
      "image/png": "[encoded data removed]",
      "text/plain": [
       "<Figure size 288x288 with 1 Axes>"
      ]
     },
     "metadata": {
      "needs_background": "light"
     },
     "output_type": "display_data"
    }
   ],
   "source": [
    "np.fill_diagonal(norm_conf_mlp, 0)\n",
    "plt.matshow(norm_conf_mlp, cmap=plt.cm.gray)\n",
    "save_fig(\"confusion_matrix_errors_plot\", tight_layout=False)\n",
    "plt.show()"
   ]
  },
  {
   "cell_type": "markdown",
   "id": "71XkCnTKXw4e",
   "metadata": {
    "id": "71XkCnTKXw4e"
   },
   "source": [
    "auc 성능"
   ]
  },
  {
   "cell_type": "code",
   "execution_count": 20,
   "id": "gDAwbLi_WXiy",
   "metadata": {
    "colab": {
     "base_uri": "https://localhost:8080/"
    },
    "id": "gDAwbLi_WXiy",
    "outputId": "bb3a6147-7ec7-41eb-8c70-5070878a7579"
   },
   "outputs": [
    {
     "name": "stdout",
     "output_type": "stream",
     "text": [
      "class 0  auc_score 0.9305694154962416\n",
      "class 1  auc_score 0.9587294586791636\n",
      "class 2  auc_score 0.9236943810738811\n",
      "class 3  auc_score 0.8985559485596286\n",
      "class 4  auc_score 0.9237328384118574\n",
      "class 5  auc_score 0.9141257212640578\n",
      "class 6  auc_score 0.9288646589678913\n",
      "class 7  auc_score 0.9236599660966591\n",
      "class 8  auc_score 0.8904413287909139\n",
      "class 9  auc_score 0.8933069258398268\n"
     ]
    }
   ],
   "source": [
    "from sklearn.model_selection import cross_val_predict\n",
    "from sklearn.metrics import roc_auc_score  \n",
    "from sklearn.metrics import roc_curve\n",
    "total=0\n",
    "for i in range(10):\n",
    "      y_train_i=(y_train==i)\n",
    "      y_val_i=(y_test==i)\n",
    "\n",
    "      y_scores = cross_val_predict(mlp_clf, X_train, y_train_i, cv=3) \n",
    "      fpr, tpr, thresholds = roc_curve(y_train_i, y_scores)\n",
    "      print(\"class\",i,\" auc_score\",roc_auc_score(y_train_i, y_scores))\n",
    "      total+=roc_auc_score(y_train_i, y_scores)"
   ]
  },
  {
   "cell_type": "markdown",
   "id": "MpXqWUF0mZaR",
   "metadata": {
    "id": "MpXqWUF0mZaR"
   },
   "source": [
    "grid search: Model Hyperparameter 선정"
   ]
  },
  {
   "cell_type": "code",
   "execution_count": 21,
   "id": "tI4ifz2gsL48",
   "metadata": {
    "id": "tI4ifz2gsL48"
   },
   "outputs": [],
   "source": [
    "#처음에 fit을 X_train과 y_train을 6만개 정도 넘겨줬는데 너무 오래 걸려서 10000개 가지고만 best param 찾음."
   ]
  },
  {
   "cell_type": "code",
   "execution_count": 14,
   "id": "61aEEPjVmNWa",
   "metadata": {
    "colab": {
     "base_uri": "https://localhost:8080/"
    },
    "id": "61aEEPjVmNWa",
    "outputId": "33ecdefb-a1ce-470c-bc94-f2b698ad6643"
   },
   "outputs": [
    {
     "name": "stdout",
     "output_type": "stream",
     "text": [
      "CPU times: user 2min 54s, sys: 28.8 s, total: 3min 23s\n",
      "Wall time: 7min 56s\n"
     ]
    },
    {
     "data": {
      "text/html": [
       "<style>#sk-container-id-1 {color: black;background-color: white;}#sk-container-id-1 pre{padding: 0;}#sk-container-id-1 div.sk-toggleable {background-color: white;}#sk-container-id-1 label.sk-toggleable__label {cursor: pointer;display: block;width: 100%;margin-bottom: 0;padding: 0.3em;box-sizing: border-box;text-align: center;}#sk-container-id-1 label.sk-toggleable__label-arrow:before {content: \"▸\";float: left;margin-right: 0.25em;color: #696969;}#sk-container-id-1 label.sk-toggleable__label-arrow:hover:before {color: black;}#sk-container-id-1 div.sk-estimator:hover label.sk-toggleable__label-arrow:before {color: black;}#sk-container-id-1 div.sk-toggleable__content {max-height: 0;max-width: 0;overflow: hidden;text-align: left;background-color: #f0f8ff;}#sk-container-id-1 div.sk-toggleable__content pre {margin: 0.2em;color: black;border-radius: 0.25em;background-color: #f0f8ff;}#sk-container-id-1 input.sk-toggleable__control:checked~div.sk-toggleable__content {max-height: 200px;max-width: 100%;overflow: auto;}#sk-container-id-1 input.sk-toggleable__control:checked~label.sk-toggleable__label-arrow:before {content: \"▾\";}#sk-container-id-1 div.sk-estimator input.sk-toggleable__control:checked~label.sk-toggleable__label {background-color: #d4ebff;}#sk-container-id-1 div.sk-label input.sk-toggleable__control:checked~label.sk-toggleable__label {background-color: #d4ebff;}#sk-container-id-1 input.sk-hidden--visually {border: 0;clip: rect(1px 1px 1px 1px);clip: rect(1px, 1px, 1px, 1px);height: 1px;margin: -1px;overflow: hidden;padding: 0;position: absolute;width: 1px;}#sk-container-id-1 div.sk-estimator {font-family: monospace;background-color: #f0f8ff;border: 1px dotted black;border-radius: 0.25em;box-sizing: border-box;margin-bottom: 0.5em;}#sk-container-id-1 div.sk-estimator:hover {background-color: #d4ebff;}#sk-container-id-1 div.sk-parallel-item::after {content: \"\";width: 100%;border-bottom: 1px solid gray;flex-grow: 1;}#sk-container-id-1 div.sk-label:hover label.sk-toggleable__label {background-color: #d4ebff;}#sk-container-id-1 div.sk-serial::before {content: \"\";position: absolute;border-left: 1px solid gray;box-sizing: border-box;top: 0;bottom: 0;left: 50%;z-index: 0;}#sk-container-id-1 div.sk-serial {display: flex;flex-direction: column;align-items: center;background-color: white;padding-right: 0.2em;padding-left: 0.2em;position: relative;}#sk-container-id-1 div.sk-item {position: relative;z-index: 1;}#sk-container-id-1 div.sk-parallel {display: flex;align-items: stretch;justify-content: center;background-color: white;position: relative;}#sk-container-id-1 div.sk-item::before, #sk-container-id-1 div.sk-parallel-item::before {content: \"\";position: absolute;border-left: 1px solid gray;box-sizing: border-box;top: 0;bottom: 0;left: 50%;z-index: -1;}#sk-container-id-1 div.sk-parallel-item {display: flex;flex-direction: column;z-index: 1;position: relative;background-color: white;}#sk-container-id-1 div.sk-parallel-item:first-child::after {align-self: flex-end;width: 50%;}#sk-container-id-1 div.sk-parallel-item:last-child::after {align-self: flex-start;width: 50%;}#sk-container-id-1 div.sk-parallel-item:only-child::after {width: 0;}#sk-container-id-1 div.sk-dashed-wrapped {border: 1px dashed gray;margin: 0 0.4em 0.5em 0.4em;box-sizing: border-box;padding-bottom: 0.4em;background-color: white;}#sk-container-id-1 div.sk-label label {font-family: monospace;font-weight: bold;display: inline-block;line-height: 1.2em;}#sk-container-id-1 div.sk-label-container {text-align: center;}#sk-container-id-1 div.sk-container {/* jupyter's `normalize.less` sets `[hidden] { display: none; }` but bootstrap.min.css set `[hidden] { display: none !important; }` so we also need the `!important` here to be able to override the default hidden behavior on the sphinx rendered scikit-learn.org. See: https://github.com/scikit-learn/scikit-learn/issues/21755 */display: inline-block !important;position: relative;}#sk-container-id-1 div.sk-text-repr-fallback {display: none;}</style><div id=\"sk-container-id-1\" class=\"sk-top-container\"><div class=\"sk-text-repr-fallback\"><pre>GridSearchCV(cv=5, estimator=MLPClassifier(random_state=42), n_jobs=-1,\n",
       "             param_grid={&#x27;hidden_layer_sizes&#x27;: [300, 310, 320, 330, 340, 350,\n",
       "                                                360, 370, 380, 390]})</pre><b>In a Jupyter environment, please rerun this cell to show the HTML representation or trust the notebook. <br />On GitHub, the HTML representation is unable to render, please try loading this page with nbviewer.org.</b></div><div class=\"sk-container\" hidden><div class=\"sk-item sk-dashed-wrapped\"><div class=\"sk-label-container\"><div class=\"sk-label sk-toggleable\"><input class=\"sk-toggleable__control sk-hidden--visually\" id=\"sk-estimator-id-1\" type=\"checkbox\" ><label for=\"sk-estimator-id-1\" class=\"sk-toggleable__label sk-toggleable__label-arrow\">GridSearchCV</label><div class=\"sk-toggleable__content\"><pre>GridSearchCV(cv=5, estimator=MLPClassifier(random_state=42), n_jobs=-1,\n",
       "             param_grid={&#x27;hidden_layer_sizes&#x27;: [300, 310, 320, 330, 340, 350,\n",
       "                                                360, 370, 380, 390]})</pre></div></div></div><div class=\"sk-parallel\"><div class=\"sk-parallel-item\"><div class=\"sk-item\"><div class=\"sk-label-container\"><div class=\"sk-label sk-toggleable\"><input class=\"sk-toggleable__control sk-hidden--visually\" id=\"sk-estimator-id-2\" type=\"checkbox\" ><label for=\"sk-estimator-id-2\" class=\"sk-toggleable__label sk-toggleable__label-arrow\">estimator: MLPClassifier</label><div class=\"sk-toggleable__content\"><pre>MLPClassifier(random_state=42)</pre></div></div></div><div class=\"sk-serial\"><div class=\"sk-item\"><div class=\"sk-estimator sk-toggleable\"><input class=\"sk-toggleable__control sk-hidden--visually\" id=\"sk-estimator-id-3\" type=\"checkbox\" ><label for=\"sk-estimator-id-3\" class=\"sk-toggleable__label sk-toggleable__label-arrow\">MLPClassifier</label><div class=\"sk-toggleable__content\"><pre>MLPClassifier(random_state=42)</pre></div></div></div></div></div></div></div></div></div></div>"
      ],
      "text/plain": [
       "GridSearchCV(cv=5, estimator=MLPClassifier(random_state=42), n_jobs=-1,\n",
       "             param_grid={'hidden_layer_sizes': [300, 310, 320, 330, 340, 350,\n",
       "                                                360, 370, 380, 390]})"
      ]
     },
     "execution_count": 14,
     "metadata": {},
     "output_type": "execute_result"
    }
   ],
   "source": [
    "from sklearn.model_selection import GridSearchCV\n",
    "\n",
    "mlp_clf=MLPClassifier(random_state=42)\n",
    "params={'hidden_layer_sizes':list(range(300,400,10))}\n",
    "mlp_grid=GridSearchCV(mlp_clf,param_grid=params,cv=5,n_jobs=-1)\n",
    "%time mlp_grid.fit(X_train[:10000],y_train[:10000])"
   ]
  },
  {
   "cell_type": "code",
   "execution_count": 15,
   "id": "3thxf1eVnAlR",
   "metadata": {
    "colab": {
     "base_uri": "https://localhost:8080/"
    },
    "id": "3thxf1eVnAlR",
    "outputId": "9914a8dc-1d97-4127-c6cf-d613ddd197aa"
   },
   "outputs": [
    {
     "name": "stdout",
     "output_type": "stream",
     "text": [
      "CPU times: user 16min 31s, sys: 3min 9s, total: 19min 41s\n",
      "Wall time: 3min 11s\n",
      "{'hidden_layer_sizes': 350}0.8977\n"
     ]
    }
   ],
   "source": [
    "#best parameter 로 조정 시 89.7 %\n",
    "%time mlp_grid.best_estimator_.fit(X_train,y_train)\n",
    "print(f'{mlp_grid.best_params_}{mlp_grid.best_estimator_.score(X_val,y_val):0.4f}')"
   ]
  },
  {
   "cell_type": "markdown",
   "id": "G8q2FKv9pqZl",
   "metadata": {
    "id": "G8q2FKv9pqZl"
   },
   "source": [
    "좋은 scaling 선정"
   ]
  },
  {
   "cell_type": "code",
   "execution_count": 16,
   "id": "zTutl5lzpn44",
   "metadata": {
    "id": "zTutl5lzpn44"
   },
   "outputs": [],
   "source": [
    "from sklearn.preprocessing import StandardScaler\n",
    "scaler = StandardScaler()\n",
    "scaler.fit(X_train)\n",
    "sX_train_scaled = scaler.transform(X_train)\n",
    "sX_val_scaled = scaler.transform(X_val)\n",
    "\n",
    "\n",
    "from sklearn.preprocessing import RobustScaler\n",
    "rscaler=RobustScaler()\n",
    "rscaler.fit(X_train)\n",
    "rX_train_scaled = rscaler.transform(X_train)\n",
    "rX_val_scaled = rscaler.transform(X_val)\n",
    "\n",
    "\n",
    "from sklearn.preprocessing import MinMaxScaler\n",
    "mscaler=MinMaxScaler()\n",
    "mscaler.fit(X_train)\n",
    "mX_train_scaled = mscaler.transform(X_train)\n",
    "mX_val_scaled = mscaler.transform(X_val)\n",
    "\n",
    "from sklearn.preprocessing import Normalizer\n",
    "nor=Normalizer()\n",
    "nor.fit(X_train)\n",
    "nX_train_scaled = nor.transform(X_train)\n",
    "nX_val_scaled = nor.transform(X_val)"
   ]
  },
  {
   "cell_type": "code",
   "execution_count": 25,
   "id": "TRpQZE7GpwSA",
   "metadata": {
    "id": "TRpQZE7GpwSA"
   },
   "outputs": [],
   "source": [
    "def fit_and_calScoreTime(clf,X_train,X_val,y_train,y_val):\n",
    "\n",
    "  #fit_time\n",
    "  start_time=time.time()\n",
    "  clf.fit(X_train,y_train)\n",
    "  fit_time=(time.time()-start_time)\n",
    "\n",
    "  #pred_time\n",
    "  start_time = time.time()\n",
    "  pred = clf.predict(X_val)\n",
    "  pred_time=(time.time() - start_time)\n",
    "  \n",
    "    #score\n",
    "  score=clf.score(X_val,y_val)\n",
    "  \n",
    "  return score,fit_time,pred_time"
   ]
  },
  {
   "cell_type": "code",
   "execution_count": 26,
   "id": "aNInfq7Xp65P",
   "metadata": {
    "colab": {
     "base_uri": "https://localhost:8080/"
    },
    "id": "aNInfq7Xp65P",
    "outputId": "0e203c11-db01-4985-9a96-c86cb7e447f6"
   },
   "outputs": [
    {
     "name": "stderr",
     "output_type": "stream",
     "text": [
      "/usr/local/lib/python3.8/dist-packages/sklearn/neural_network/_multilayer_perceptron.py:692: ConvergenceWarning: Stochastic Optimizer: Maximum iterations (200) reached and the optimization hasn't converged yet.\n",
      "  warnings.warn(\n",
      "/usr/local/lib/python3.8/dist-packages/sklearn/neural_network/_multilayer_perceptron.py:692: ConvergenceWarning: Stochastic Optimizer: Maximum iterations (200) reached and the optimization hasn't converged yet.\n",
      "  warnings.warn(\n",
      "/usr/local/lib/python3.8/dist-packages/sklearn/neural_network/_multilayer_perceptron.py:692: ConvergenceWarning: Stochastic Optimizer: Maximum iterations (200) reached and the optimization hasn't converged yet.\n",
      "  warnings.warn(\n"
     ]
    }
   ],
   "source": [
    "names=[\"mlp\"]\n",
    "classifiers=[MLPClassifier()]\n",
    "\n",
    "for name,clf in zip(names,classifiers):\n",
    "  scaling_names=['No_scaling','StandardScaler','RobustScalar','MinmaxScalaer','Normalizer']\n",
    "  t_score=[]\n",
    "  t_fit_times=[]\n",
    "  t_pred_times=[]\n",
    "\n",
    "  #no scaling\n",
    "  score,fit_time,pred_time=fit_and_calScoreTime(clf,X_train,X_val,y_train,y_val)\n",
    "  t_score.append(score)\n",
    "  t_fit_times.append(fit_time)\n",
    "  t_pred_times.append(pred_time)\n",
    "\n",
    "\n",
    "  try:\n",
    "    #standardScaler\n",
    "    sscore,sfit_time,spred_time=fit_and_calScoreTime(clf,sX_train_scaled,sX_val_scaled,y_train,y_val)\n",
    "    t_score.append(sscore)\n",
    "    t_fit_times.append(sfit_time)\n",
    "    t_pred_times.append(spred_time)\n",
    "\n",
    "    #RobustScaler\n",
    "    rscore,rfit_time,rpred_time=fit_and_calScoreTime(clf,rX_train_scaled,rX_val_scaled,y_train,y_val)\n",
    "    t_score.append(rscore)\n",
    "    t_fit_times.append(rfit_time)\n",
    "    t_pred_times.append(rpred_time)\n",
    "\n",
    "    #MinmaxScalaer\n",
    "    mscore,mfit_time,mpred_time=fit_and_calScoreTime(clf,mX_train_scaled,mX_val_scaled,y_train,y_val)\n",
    "    t_score.append(mscore)\n",
    "    t_fit_times.append(mfit_time)\n",
    "    t_pred_times.append(mpred_time)\n",
    "\n",
    "    #Normalizer\n",
    "    nscore,nfit_time,npred_time=fit_and_calScoreTime(clf,nX_train_scaled,nX_val_scaled,y_train,y_val)\n",
    "    t_score.append(nscore)\n",
    "    t_fit_times.append(nfit_time)\n",
    "    t_pred_times.append(npred_time)\n",
    "\n",
    "  except ValueError:\n",
    "    continue"
   ]
  },
  {
   "cell_type": "code",
   "execution_count": 27,
   "id": "F9HGp1bSpy38",
   "metadata": {
    "colab": {
     "base_uri": "https://localhost:8080/"
    },
    "id": "F9HGp1bSpy38",
    "outputId": "388a0cff-561a-4701-9ec9-eac9b45a0682"
   },
   "outputs": [
    {
     "name": "stdout",
     "output_type": "stream",
     "text": [
      "[0.8623040911866476, 0.7657744758803176, 0.8091288418481579, 0.8349786281294524, 0.8910034602076125]\n",
      "[315.3192059993744, 354.9483814239502, 272.1486222743988, 354.5510311126709, 323.6833300590515]\n",
      "[0.14001727104187012, 0.14583492279052734, 0.14174270629882812, 0.14577412605285645, 0.14726877212524414]\n"
     ]
    }
   ],
   "source": [
    "print(t_score)\n",
    "print(t_fit_times)     \n",
    "print( t_pred_times)"
   ]
  },
  {
   "cell_type": "code",
   "execution_count": 28,
   "id": "spzDnDDSUdGM",
   "metadata": {
    "id": "spzDnDDSUdGM"
   },
   "outputs": [],
   "source": [
    "def fit_and_calScoreTime(clf,X_train,X_val,y_train,y_val):\n",
    "\n",
    "  #fit_time\n",
    "  start_time=time.time()\n",
    "  %time mlp_grid.best_estimator_.fit(X_train,y_train)\n",
    "  fit_time=(time.time()-start_time)\n",
    "\n",
    "  #pred_time\n",
    "  start_time = time.time()\n",
    "  pred = clf.predict(X_val)\n",
    "  pred_time=(time.time() - start_time)\n",
    "  \n",
    "    #score\n",
    "  score=mlp_grid.best_estimator_.score(X_val,y_val)\n",
    "  \n",
    "  return score,fit_time,pred_time"
   ]
  },
  {
   "cell_type": "code",
   "execution_count": 29,
   "id": "aCYLPTgF2__s",
   "metadata": {
    "colab": {
     "base_uri": "https://localhost:8080/"
    },
    "id": "aCYLPTgF2__s",
    "outputId": "e3974963-2d80-43b0-f844-7a5e35427489"
   },
   "outputs": [
    {
     "name": "stdout",
     "output_type": "stream",
     "text": [
      "CPU times: user 9min 50s, sys: 3min 24s, total: 13min 15s\n",
      "Wall time: 7min 2s\n",
      "0.9126806431915326\n",
      "422.76255798339844\n",
      "0.14510273933410645\n"
     ]
    }
   ],
   "source": [
    "from sklearn.preprocessing import Normalizer\n",
    "nor=Normalizer()\n",
    "nor.fit(X_train)\n",
    "nX_train_scaled = nor.transform(X_train)\n",
    "nX_val_scaled = nor.transform(X_val)\n",
    "\n",
    "nscore,nfit_time,npred_time=fit_and_calScoreTime(clf,nX_train_scaled,nX_val_scaled,y_train,y_val)\n",
    "\n",
    "print(nscore)\n",
    "print(nfit_time)     \n",
    "print( npred_time)"
   ]
  },
  {
   "cell_type": "code",
   "execution_count": null,
   "id": "cbb2dd6f",
   "metadata": {},
   "outputs": [],
   "source": [
    "# Exercise 4.4\n",
    "from sklearn.pipeline import Pipeline\n",
    "from sklearn.preprocessing import PolynomialFeatures\n",
    "from sklearn.linear_model import LinearRegression\n",
    "from sklearn.metrics import mean_squared_error\n",
    "from sklearn.model_selection import train_test_split\n",
    "\n",
    "def plot_learning_curves(model, X, y):\n",
    "    X_train, X_val, y_train, y_val = train_test_split(X, y, test_size=0.2, random_state=10)\n",
    "    train_errors, val_errors = [], []\n",
    "    for m in range(1, len(X_train)):\n",
    "        model.fit(X_train[:m], y_train[:m])\n",
    "        y_train_predict = model.predict(X_train[:m])\n",
    "        y_val_predict = model.predict(X_val)\n",
    "        train_errors.append(mean_squared_error(y_train[:m], y_train_predict))\n",
    "        val_errors.append(mean_squared_error(y_val, y_val_predict))\n",
    "    plt.plot(np.sqrt(train_errors), \"r-+\", linewidth=2, label=\"train\")\n",
    "    plt.plot(np.sqrt(val_errors), \"b-\", linewidth=3, label=\"val\")\n",
    "    plt.legend(loc=\"upper right\", fontsize=14)   # not shown in the book\n",
    "    plt.xlabel(\"Training set size\", fontsize=14) # not shown\n",
    "    plt.ylabel(\"RMSE\", fontsize=14)              # not shown\n",
    "    \n",
    "polynomial_regression = Pipeline([\n",
    "        (\"poly_features\", PolynomialFeatures(degree=2, include_bias=False)),\n",
    "        (\"lin_reg\", LinearRegression()),\n",
    "    ])\n",
    "np.random.seed(42)\n",
    "m = 100\n",
    "X = 6 * np.random.rand(m, 1) - 3\n",
    "y = 0.5 * X**2 + X + 2 + np.random.randn(m, 1)\n",
    "plot_learning_curves(polynomial_regression, X, y)\n",
    "plt.axis([0, 80, 0, 3])           # not shown\n",
    "save_fig(\"Normal_learning_curves_plot\")  # not shown\n",
    "plt.show()                        # not shown"
   ]
  }
 ],
 "metadata": {
  "accelerator": "GPU",
  "colab": {
   "provenance": []
  },
  "gpuClass": "standard",
  "kernelspec": {
   "display_name": "base",
   "language": "python",
   "name": "python3"
  },
  "language_info": {
   "codemirror_mode": {
    "name": "ipython",
    "version": 3
   },
   "file_extension": ".py",
   "mimetype": "text/x-python",
   "name": "python",
   "nbconvert_exporter": "python",
   "pygments_lexer": "ipython3",
   "version": "3.9.12"
  },
  "vscode": {
   "interpreter": {
    "hash": "2ca105a93104d08d207b05991868f47186dc0a806f7cc62155dba79bba6ceb0b"
   }
  }
 },
 "nbformat": 4,
 "nbformat_minor": 5
}
