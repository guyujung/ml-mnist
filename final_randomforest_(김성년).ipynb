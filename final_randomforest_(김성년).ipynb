{
 "cells": [
  {
   "cell_type": "code",
   "execution_count": 1,
   "id": "f7416675",
   "metadata": {},
   "outputs": [],
   "source": [
    "# Python ≥3.5 is required\n",
    "import sys\n",
    "assert sys.version_info >= (3, 5)\n",
    "\n",
    "# Scikit-Learn ≥0.20 is required\n",
    "import sklearn\n",
    "assert sklearn.__version__ >= \"0.20\"\n",
    "\n",
    "# Common imports\n",
    "import numpy as np\n",
    "import os\n",
    "\n",
    "# to make this notebook's output stable across runs\n",
    "np.random.seed(42)\n",
    "\n",
    "# To plot pretty figures\n",
    "%matplotlib inline\n",
    "import matplotlib as mpl\n",
    "import matplotlib.pyplot as plt\n",
    "mpl.rc('axes', labelsize=14)\n",
    "mpl.rc('xtick', labelsize=12)\n",
    "mpl.rc('ytick', labelsize=12)\n",
    "\n",
    "# Where to save the figures\n",
    "PROJECT_ROOT_DIR = \".\"\n",
    "CHAPTER_ID = \"3_classification\"\n",
    "IMAGES_PATH = os.path.join(PROJECT_ROOT_DIR, \"images\", CHAPTER_ID)\n",
    "os.makedirs(IMAGES_PATH, exist_ok=True)\n",
    "\n",
    "def save_fig(fig_id, tight_layout=True, fig_extension=\"png\", resolution=300):\n",
    "    path = os.path.join(IMAGES_PATH, fig_id + \".\" + fig_extension)\n",
    "    print(\"Saving figure\", fig_id)\n",
    "    if tight_layout:\n",
    "        plt.tight_layout()\n",
    "    plt.savefig(path, format=fig_extension, dpi=resolution)"
   ]
  },
  {
   "cell_type": "code",
   "execution_count": 3,
   "id": "2df72cd5",
   "metadata": {},
   "outputs": [
    {
     "name": "stdout",
     "output_type": "stream",
     "text": [
      "(1000, 28, 28) float64 (1000,) int64\n",
      "(1000, 28, 28) float64 (1000,) int64\n",
      "(1000, 28, 28) float64 (1000,) int32\n",
      "(1000, 28, 28) float64 (1000,) int32\n",
      "(26720, 28, 28) float64 (26720,) int64\n"
     ]
    },
    {
     "data": {
      "text/plain": [
       "numpy.ndarray"
      ]
     },
     "execution_count": 3,
     "metadata": {},
     "output_type": "execute_result"
    }
   ],
   "source": [
    "%matplotlib inline\n",
    "import numpy as np\n",
    "import matplotlib.pyplot as plt\n",
    "import cv2\n",
    "import os\n",
    "import pandas as pd\n",
    "from sklearn.model_selection import train_test_split\n",
    "nd1=np.load('mnist_20211236_total.npz')\n",
    "nd2=np.load('mnist_20201572_1.npz')\n",
    "nd3=np.load('mnist_20171372.npz')\n",
    "nd4=np.load('mnist_20170565.npz')\n",
    "nd6=np.load('H_MNIST_train.npz')\n",
    "print(nd1['img'].shape, nd1['img'].dtype, nd1['label'].shape, nd1['label'].dtype)\n",
    "print(nd2['img'].shape, nd2['img'].dtype, nd2['label'].shape, nd2['label'].dtype)\n",
    "print(nd3['img'].shape, nd3['img'].dtype, nd3['label'].shape, nd3['label'].dtype)\n",
    "print(nd4['img'].shape, nd4['img'].dtype, nd4['label'].shape, nd4['label'].dtype)\n",
    "print(nd6['img'].shape, nd6['img'].dtype, nd6['label'].shape, nd6['label'].dtype)\n",
    "\n",
    "X=np.concatenate((nd1['img'], nd2['img'],nd3['img'],nd4['img'],nd6['img']), axis=0)\n",
    "y=np.concatenate((nd1['label'], nd2['label'],nd3['label'],nd4['label'],nd6['label']), axis=0)\n",
    "np.savez_compressed('mnist_total.npz', X=X, y=y)\n",
    "nd5=np.load('mnist_total.npz')\n",
    "nd5\n",
    "X.shape\n",
    "X=X.reshape(30720,784)\n",
    "#X_new=X[23040:30720]\n",
    "#y_new=y[23040:30720]\n",
    "#X_new.shape\n",
    "#y_new.shape\n",
    "type(X)"
   ]
  },
  {
   "cell_type": "code",
   "execution_count": 4,
   "id": "a0c79117",
   "metadata": {},
   "outputs": [
    {
     "data": {
      "text/plain": [
       "(28260,)"
      ]
     },
     "execution_count": 4,
     "metadata": {},
     "output_type": "execute_result"
    }
   ],
   "source": [
    "a_3=y[23110:23120]\n",
    "b_3=y[23230:23340]\n",
    "c_3=y[23420:23450]\n",
    "d_3=y[23520:23720]\n",
    "e_3=y[23770:23780]\n",
    "f_3=y[23900:23920]\n",
    "g_3=y[23970:24110]\n",
    "h_3=y[24140:24270]\n",
    "i_3=y[24780:28410]\n",
    "j_3=y[28460:30720]\n",
    "a_4=y[:2000]\n",
    "b_4=y[2100:2070]\n",
    "c_4=y[2210:2220]\n",
    "d_4=y[2230:2280]\n",
    "e_4=y[2410:2800]\n",
    "f_4=y[2900:6980]\n",
    "g_4=y[6900:7300]\n",
    "h_4=y[7400:7500]\n",
    "i_4=y[7600:7680]\n",
    "a_5=y[15361:18700]\n",
    "b_5=y[19120:19290]\n",
    "c_5=y[19300:19310]\n",
    "d_5=y[19320:21760]\n",
    "e_5=y[21780:21790]\n",
    "f_5=y[21800:21810]\n",
    "g_5=y[21820:21830]\n",
    "h_5=y[21840:21850]\n",
    "i_5=y[21860:21880]\n",
    "j_5=y[21890:23050]\n",
    "a_6=y[7680:8200]\n",
    "b_6=y[8220:8340]\n",
    "c_6=y[8360:9310]\n",
    "d_6=y[9520:11920]\n",
    "e_6=y[11950:12120]\n",
    "f_6=y[12220:15361]\n",
    "y_new=np.concatenate((a_3,b_3,c_3,d_3,e_3,f_3,h_3,g_3,h_3,i_3,j_3,a_4, b_4,c_4,d_4,e_4,f_4,g_4,h_4,i_4,a_5,b_5,c_5,d_5,e_5,f_5,g_5,h_5,i_5\n",
    "                     ,j_5,a_6,b_6,c_6,d_6,e_6,f_6))\n",
    "y_new.shape"
   ]
  },
  {
   "cell_type": "code",
   "execution_count": 5,
   "id": "36b0cb7c",
   "metadata": {},
   "outputs": [
    {
     "data": {
      "text/plain": [
       "(28260, 784)"
      ]
     },
     "execution_count": 5,
     "metadata": {},
     "output_type": "execute_result"
    }
   ],
   "source": [
    "a=X[23110:23120]\n",
    "b=X[23230:23340]\n",
    "c=X[23420:23450]\n",
    "d=X[23520:23720]\n",
    "e=X[23770:23780]\n",
    "f=X[23900:23920]\n",
    "g=X[23970:24110]\n",
    "h=X[24140:24270]\n",
    "i=X[24780:28410]\n",
    "j=X[28460:30720]\n",
    "a_0=X[:2000]\n",
    "b_0=X[2100:2070]\n",
    "c_0=X[2210:2220]\n",
    "d_0=X[2230:2280]\n",
    "e_0=X[2410:2800]\n",
    "f_0=X[2900:6980]\n",
    "g_0=X[6900:7300]\n",
    "h_0=X[7400:7500]\n",
    "i_0=X[7600:7680]\n",
    "a_1=X[15361:18700]\n",
    "b_1=X[19120:19290]\n",
    "c_1=X[19300:19310]\n",
    "d_1=X[19320:21760]\n",
    "e_1=X[21780:21790]\n",
    "f_1=X[21800:21810]\n",
    "g_1=X[21820:21830]\n",
    "h_1=X[21840:21850]\n",
    "i_1=X[21860:21880]\n",
    "j_1= X[21890:23050]\n",
    "a_2=X[7680:8200]\n",
    "b_2=X[8220:8340]\n",
    "c_2=X[8360:9310]\n",
    "d_2=X[9520:11920]\n",
    "e_2=X[11950:12120]\n",
    "f_2=X[12220:15361]\n",
    "\n",
    "X_new=np.concatenate((a,b,c,d,e,f,h,g,h,i,j,a_0, b_0,c_0,d_0,e_0,f_0,g_0,h_0,i_0,a_1,b_1,c_1,d_1,e_1,f_1,g_1,h_1,i_1\n",
    "                     ,j_1,a_2,b_2,c_2,d_2,e_2,f_2))\n",
    "X_new=X_new.reshape(28260,784)\n",
    "X_new.shape\n"
   ]
  },
  {
   "cell_type": "code",
   "execution_count": 6,
   "id": "e362f725",
   "metadata": {},
   "outputs": [
    {
     "data": {
      "text/plain": [
       "(30720,)"
      ]
     },
     "execution_count": 6,
     "metadata": {},
     "output_type": "execute_result"
    }
   ],
   "source": [
    "from sklearn.datasets import fetch_openml\n",
    "mnist = fetch_openml('mnist_784', version=1)\n",
    "mnist.keys()\n",
    "X_mnist, y_mnist = mnist[\"data\"], mnist[\"target\"] # X, y: pandas DataFrame\n",
    "y_mnist=y_mnist.astype(np.uint8)\n",
    "X.shape\n",
    "y.shape"
   ]
  },
  {
   "cell_type": "code",
   "execution_count": 7,
   "id": "1a9a8079",
   "metadata": {},
   "outputs": [],
   "source": [
    "X_final=np.concatenate((X_new,X_mnist))\n",
    "y_final=np.concatenate((y_new,y_mnist))"
   ]
  },
  {
   "cell_type": "code",
   "execution_count": 8,
   "id": "1ebe1b2b",
   "metadata": {},
   "outputs": [
    {
     "name": "stdout",
     "output_type": "stream",
     "text": [
      "(70000, 784)\n",
      "<class 'numpy.ndarray'>\n",
      "(70000,)\n",
      "<class 'numpy.ndarray'>\n"
     ]
    }
   ],
   "source": [
    "X_mnist=np.array(X_mnist)\n",
    "\n",
    "\n",
    "print(X_mnist.shape)\n",
    "print(type(X_mnist))\n",
    "\n",
    "y_mnist=np.array(y_mnist)\n",
    "\n",
    "\n",
    "print(y_mnist.shape)\n",
    "print(type(y_mnist))"
   ]
  },
  {
   "cell_type": "code",
   "execution_count": 9,
   "id": "6e564e39",
   "metadata": {},
   "outputs": [
    {
     "name": "stdout",
     "output_type": "stream",
     "text": [
      "(58956, 784) (19652, 784) (19652, 784)\n",
      "(58956,) (19652,) (19652,)\n"
     ]
    }
   ],
   "source": [
    "from sklearn.model_selection import train_test_split\n",
    "X_train0, X_test, y_train0, y_test = train_test_split(X_final, y_final, test_size=0.2, shuffle = True, random_state = 8)\n",
    "X_train, X_val, y_train, y_val = train_test_split(X_train0, y_train0,test_size=0.25,shuffle = True, random_state= 8) # 0.25 x 0.8 = 0.2\n",
    "\n",
    "print(X_train.shape, X_val.shape, X_test.shape)\n",
    "print(y_train.shape, y_val.shape, y_test.shape)"
   ]
  },
  {
   "cell_type": "code",
   "execution_count": 15,
   "id": "e4aec9c3",
   "metadata": {},
   "outputs": [
    {
     "name": "stdout",
     "output_type": "stream",
     "text": [
      "Fit time :  59.31647729873657\n"
     ]
    },
    {
     "data": {
      "text/plain": [
       "array([0.63901893, 0.64074903, 0.64018929])"
      ]
     },
     "execution_count": 15,
     "metadata": {},
     "output_type": "execute_result"
    }
   ],
   "source": [
    "from sklearn.ensemble import RandomForestClassifier\n",
    "import time\n",
    "from sklearn.preprocessing import StandardScaler\n",
    "from sklearn.model_selection import cross_val_score\n",
    "\n",
    "rnd_clf = RandomForestClassifier(n_estimators=500, max_leaf_nodes=16, random_state=42)\n",
    "start_time = time.time()\n",
    "rnd_clf.fit(X_train, y_train)\n",
    "print('Fit time : ', time.time()-start_time)\n",
    "\n",
    "cross_val_score(rnd_clf, X_train, y_train, cv=3, scoring = \"accuracy\")"
   ]
  },
  {
   "cell_type": "code",
   "execution_count": 16,
   "id": "a0793b31",
   "metadata": {},
   "outputs": [
    {
     "name": "stdout",
     "output_type": "stream",
     "text": [
      "Fit time :  1.3358218669891357\n",
      "0.6370852839405658\n"
     ]
    }
   ],
   "source": [
    "from sklearn.metrics import accuracy_score\n",
    "start_time = time.time()\n",
    "pred = rnd_clf.predict(X_val)\n",
    "print('Fit time : ', time.time()-start_time)\n",
    "print(accuracy_score(y_val, pred))"
   ]
  },
  {
   "cell_type": "code",
   "execution_count": 17,
   "id": "ce791b16",
   "metadata": {},
   "outputs": [
    {
     "name": "stdout",
     "output_type": "stream",
     "text": [
      "              precision    recall  f1-score   support\n",
      "\n",
      "           0       0.72      0.75      0.74      1952\n",
      "           1       0.78      0.71      0.75      2076\n",
      "           2       0.69      0.64      0.66      1930\n",
      "           3       0.69      0.59      0.63      1988\n",
      "           4       0.70      0.69      0.69      1915\n",
      "           5       0.39      0.37      0.38      1891\n",
      "           6       0.84      0.63      0.72      1962\n",
      "           7       0.41      0.85      0.55      2043\n",
      "           8       0.84      0.54      0.66      1968\n",
      "           9       0.71      0.57      0.64      1927\n",
      "\n",
      "    accuracy                           0.64     19652\n",
      "   macro avg       0.68      0.63      0.64     19652\n",
      "weighted avg       0.68      0.64      0.64     19652\n",
      "\n",
      "[[1469    9   87    2   37  158   15  132   40    3]\n",
      " [ 127 1476   35    4    1  146    1  280    4    2]\n",
      " [  92   74 1238   21   92  145   54  186   17   11]\n",
      " [  62   61  112 1165   41  221    8  228   32   58]\n",
      " [  35   16   53    1 1319   96   56  198   11  130]\n",
      " [  90   65   62  381   84  706   57  289   55  102]\n",
      " [  80   29   68    5  101  146 1234  270   14   15]\n",
      " [  28   43   45    0   40   66    1 1742   10   68]\n",
      " [  32   92   77   85   46   81   34  396 1064   61]\n",
      " [  17   20   27   25  132   59    8  515   17 1107]]\n"
     ]
    }
   ],
   "source": [
    "from sklearn.metrics import classification_report, confusion_matrix\n",
    "\n",
    "def results(y_val, pred):\n",
    "    print(classification_report(y_val,pred))\n",
    "    print(confusion_matrix(y_val,pred))\n",
    "\n",
    "    return confusion_matrix(y_val,pred)\n",
    "conf_rnd=results(y_val,pred)"
   ]
  },
  {
   "cell_type": "code",
   "execution_count": 18,
   "id": "5ba1162b",
   "metadata": {},
   "outputs": [
    {
     "name": "stdout",
     "output_type": "stream",
     "text": [
      "              precision    recall  f1-score   support\n",
      "\n",
      "           0       0.72      0.75      0.74      1952\n",
      "           1       0.78      0.71      0.75      2076\n",
      "           2       0.69      0.64      0.66      1930\n",
      "           3       0.69      0.59      0.63      1988\n",
      "           4       0.70      0.69      0.69      1915\n",
      "           5       0.39      0.37      0.38      1891\n",
      "           6       0.84      0.63      0.72      1962\n",
      "           7       0.41      0.85      0.55      2043\n",
      "           8       0.84      0.54      0.66      1968\n",
      "           9       0.71      0.57      0.64      1927\n",
      "\n",
      "    accuracy                           0.64     19652\n",
      "   macro avg       0.68      0.63      0.64     19652\n",
      "weighted avg       0.68      0.64      0.64     19652\n",
      "\n",
      "[[1469    9   87    2   37  158   15  132   40    3]\n",
      " [ 127 1476   35    4    1  146    1  280    4    2]\n",
      " [  92   74 1238   21   92  145   54  186   17   11]\n",
      " [  62   61  112 1165   41  221    8  228   32   58]\n",
      " [  35   16   53    1 1319   96   56  198   11  130]\n",
      " [  90   65   62  381   84  706   57  289   55  102]\n",
      " [  80   29   68    5  101  146 1234  270   14   15]\n",
      " [  28   43   45    0   40   66    1 1742   10   68]\n",
      " [  32   92   77   85   46   81   34  396 1064   61]\n",
      " [  17   20   27   25  132   59    8  515   17 1107]]\n"
     ]
    }
   ],
   "source": [
    "from sklearn.metrics import classification_report, confusion_matrix\n",
    "\n",
    "def results(y_val, pred):\n",
    "    print(classification_report(y_val,pred))\n",
    "    print(confusion_matrix(y_val,pred))\n",
    "\n",
    "    return confusion_matrix(y_val,pred)\n",
    "conf_rnd=results(y_val,pred)"
   ]
  },
  {
   "cell_type": "code",
   "execution_count": 19,
   "id": "b55f545b",
   "metadata": {},
   "outputs": [
    {
     "name": "stdout",
     "output_type": "stream",
     "text": [
      "Saving figure confusion_matrix_plot\n"
     ]
    },
    {
     "data": {
      "image/png": "[encoded data removed]",
      "text/plain": [
       "<Figure size 480x480 with 1 Axes>"
      ]
     },
     "metadata": {},
     "output_type": "display_data"
    }
   ],
   "source": [
    "plt.matshow(conf_rnd, cmap=plt.cm.gray)\n",
    "save_fig(\"confusion_matrix_plot\", tight_layout=False)\n",
    "plt.show()"
   ]
  },
  {
   "cell_type": "code",
   "execution_count": 22,
   "id": "7f2b35ba",
   "metadata": {},
   "outputs": [
    {
     "data": {
      "text/plain": [
       "array([[7.52561475e-01, 4.61065574e-03, 4.45696721e-02, 1.02459016e-03,\n",
       "        1.89549180e-02, 8.09426230e-02, 7.68442623e-03, 6.76229508e-02,\n",
       "        2.04918033e-02, 1.53688525e-03],\n",
       "       [6.11753372e-02, 7.10982659e-01, 1.68593449e-02, 1.92678227e-03,\n",
       "        4.81695568e-04, 7.03275530e-02, 4.81695568e-04, 1.34874759e-01,\n",
       "        1.92678227e-03, 9.63391137e-04],\n",
       "       [4.76683938e-02, 3.83419689e-02, 6.41450777e-01, 1.08808290e-02,\n",
       "        4.76683938e-02, 7.51295337e-02, 2.79792746e-02, 9.63730570e-02,\n",
       "        8.80829016e-03, 5.69948187e-03],\n",
       "       [3.11871227e-02, 3.06841046e-02, 5.63380282e-02, 5.86016097e-01,\n",
       "        2.06237425e-02, 1.11167002e-01, 4.02414487e-03, 1.14688129e-01,\n",
       "        1.60965795e-02, 2.91750503e-02],\n",
       "       [1.82767624e-02, 8.35509138e-03, 2.76762402e-02, 5.22193211e-04,\n",
       "        6.88772846e-01, 5.01305483e-02, 2.92428198e-02, 1.03394256e-01,\n",
       "        5.74412533e-03, 6.78851175e-02],\n",
       "       [4.75938657e-02, 3.43733474e-02, 3.27868852e-02, 2.01480698e-01,\n",
       "        4.44209413e-02, 3.73347435e-01, 3.01427816e-02, 1.52829191e-01,\n",
       "        2.90851401e-02, 5.39397144e-02],\n",
       "       [4.07747197e-02, 1.47808359e-02, 3.46585117e-02, 2.54841998e-03,\n",
       "        5.14780836e-02, 7.44138634e-02, 6.28950051e-01, 1.37614679e-01,\n",
       "        7.13557594e-03, 7.64525994e-03],\n",
       "       [1.37053353e-02, 2.10474792e-02, 2.20264317e-02, 0.00000000e+00,\n",
       "        1.95790504e-02, 3.23054332e-02, 4.89476260e-04, 8.52667646e-01,\n",
       "        4.89476260e-03, 3.32843857e-02],\n",
       "       [1.62601626e-02, 4.67479675e-02, 3.91260163e-02, 4.31910569e-02,\n",
       "        2.33739837e-02, 4.11585366e-02, 1.72764228e-02, 2.01219512e-01,\n",
       "        5.40650407e-01, 3.09959350e-02],\n",
       "       [8.82200311e-03, 1.03788272e-02, 1.40114167e-02, 1.29735340e-02,\n",
       "        6.85002595e-02, 3.06175402e-02, 4.15153088e-03, 2.67254800e-01,\n",
       "        8.82200311e-03, 5.74468085e-01]])"
      ]
     },
     "execution_count": 22,
     "metadata": {},
     "output_type": "execute_result"
    }
   ],
   "source": [
    "row_sums = conf_rnd.sum(axis=1, keepdims=True)\n",
    "norm_conf_rnd = conf_rnd / row_sums\n",
    "norm_conf_rnd"
   ]
  },
  {
   "cell_type": "code",
   "execution_count": 24,
   "id": "55a2f96c",
   "metadata": {},
   "outputs": [
    {
     "name": "stdout",
     "output_type": "stream",
     "text": [
      "Saving figure confusion_matrix_errors_plot\n"
     ]
    },
    {
     "data": {
      "image/png": "[encoded data removed]",
      "text/plain": [
       "<Figure size 480x480 with 1 Axes>"
      ]
     },
     "metadata": {},
     "output_type": "display_data"
    }
   ],
   "source": [
    "np.fill_diagonal(norm_conf_rnd, 0)\n",
    "plt.matshow(norm_conf_rnd, cmap=plt.cm.gray)\n",
    "save_fig(\"confusion_matrix_errors_plot\", tight_layout=False)\n",
    "plt.show()"
   ]
  },
  {
   "cell_type": "code",
   "execution_count": 25,
   "id": "8ef3572c",
   "metadata": {
    "scrolled": false
   },
   "outputs": [
    {
     "name": "stdout",
     "output_type": "stream",
     "text": [
      "class 0  auc_score 0.7880850629154241\n",
      "class 1  auc_score 0.8285323112010848\n",
      "class 2  auc_score 0.7053097783938025\n",
      "class 3  auc_score 0.6690771503342806\n",
      "class 4  auc_score 0.6778087528964842\n",
      "class 5  auc_score 0.6450303733426483\n",
      "class 6  auc_score 0.7781653930206985\n",
      "class 7  auc_score 0.7607351881190698\n",
      "class 8  auc_score 0.6271731082972561\n",
      "class 9  auc_score 0.6546732075886198\n"
     ]
    }
   ],
   "source": [
    "from sklearn.model_selection import cross_val_predict\n",
    "from sklearn.metrics import roc_auc_score  \n",
    "from sklearn.metrics import roc_curve\n",
    "total=0\n",
    "for i in range(10):\n",
    "      y_train_i=(y_train==i)\n",
    "      y_val_i=(y_test==i)\n",
    "\n",
    "      y_scores = cross_val_predict(rnd_clf, X_train, y_train_i, cv=3) \n",
    "      fpr, tpr, thresholds = roc_curve(y_train_i, y_scores)\n",
    "      print(\"class\",i,\" auc_score\",roc_auc_score(y_train_i, y_scores))\n",
    "      total+=roc_auc_score(y_train_i, y_scores)"
   ]
  },
  {
   "cell_type": "code",
   "execution_count": 49,
   "id": "35c7822f",
   "metadata": {},
   "outputs": [
    {
     "name": "stdout",
     "output_type": "stream",
     "text": [
      "최적 하이퍼 파라미터:  {'max_depth': None, 'n_estimators': 1200}\n",
      "최고 예측 정확도: 0.8887\n"
     ]
    },
    {
     "ename": "NameError",
     "evalue": "name 'rd_grid' is not defined",
     "output_type": "error",
     "traceback": [
      "\u001b[1;31m---------------------------------------------------------------------------\u001b[0m",
      "\u001b[1;31mNameError\u001b[0m                                 Traceback (most recent call last)",
      "\u001b[1;32m<timed eval>\u001b[0m in \u001b[0;36m<module>\u001b[1;34m\u001b[0m\n",
      "\u001b[1;31mNameError\u001b[0m: name 'rd_grid' is not defined"
     ]
    }
   ],
   "source": [
    "from sklearn.model_selection import GridSearchCV\n",
    "\n",
    "params = { 'n_estimators' : [800,1000,1200],\n",
    "           'max_depth' : [None, 14,15,16,17,18]\n",
    "            }\n",
    "rd_clf = RandomForestClassifier(random_state = 42, n_jobs = -1)\n",
    "grid_cv = GridSearchCV(rd_clf, param_grid = params, cv = 5, n_jobs = -1)\n",
    "grid_cv.fit(X_train, y_train)\n",
    "\n",
    "print('최적 하이퍼 파라미터: ', grid_cv.best_params_)\n",
    "print('최고 예측 정확도: {:.4f}'.format(grid_cv.best_score_))\n",
    "%time  grid_cv.fit(X_train, y_train)"
   ]
  },
  {
   "cell_type": "code",
   "execution_count": 50,
   "id": "3e8a4e12",
   "metadata": {},
   "outputs": [],
   "source": [
    "from sklearn.preprocessing import StandardScaler\n",
    "scaler = StandardScaler()\n",
    "scaler.fit(X_train)\n",
    "sX_train_scaled = scaler.transform(X_train)\n",
    "sX_val_scaled = scaler.transform(X_val)\n",
    "\n",
    "\n",
    "from sklearn.preprocessing import RobustScaler\n",
    "rscaler=RobustScaler()\n",
    "rscaler.fit(X_train)\n",
    "rX_train_scaled = rscaler.transform(X_train)\n",
    "rX_val_scaled = rscaler.transform(X_val)\n",
    "\n",
    "\n",
    "from sklearn.preprocessing import MinMaxScaler\n",
    "mscaler=MinMaxScaler()\n",
    "mscaler.fit(X_train)\n",
    "mX_train_scaled = mscaler.transform(X_train)\n",
    "mX_val_scaled = mscaler.transform(X_val)\n",
    "\n",
    "from sklearn.preprocessing import Normalizer\n",
    "nor=Normalizer()\n",
    "nor.fit(X_train)\n",
    "nX_train_scaled = nor.transform(X_train)\n",
    "nX_val_scaled = nor.transform(X_val)\n"
   ]
  },
  {
   "cell_type": "code",
   "execution_count": 51,
   "id": "4453a5e3",
   "metadata": {},
   "outputs": [],
   "source": [
    "def fit_and_calScoreTime(clf,X_train,X_val,y_train,y_val):\n",
    "\n",
    "  #fit_time\n",
    "  start_time=time.time()\n",
    "  clf.fit(X_train,y_train)\n",
    "  fit_time=(time.time()-start_time)\n",
    "\n",
    "  #pred_time\n",
    "  start_time = time.time()\n",
    "  pred = clf.predict(X_val)\n",
    "  pred_time=(time.time() - start_time)\n",
    "  \n",
    "    #score\n",
    "  score=clf.score(X_val,y_val)\n",
    "  \n",
    "  return score,fit_time,pred_time"
   ]
  },
  {
   "cell_type": "code",
   "execution_count": 53,
   "id": "a3e29b29",
   "metadata": {},
   "outputs": [],
   "source": [
    "names=[\"Random Forest\"]\n",
    "classifiers=[RandomForestClassifier()]\n",
    "\n",
    "for name,clf in zip(names,classifiers):\n",
    "  scaling_names=['No_scaling','StandardScaler','RobustScalar','MinmaxScalaer','Normalizer']\n",
    "  t_score=[]\n",
    "  t_fit_times=[]\n",
    "  t_pred_times=[]\n",
    "\n",
    "  #no scaling\n",
    "  score,fit_time,pred_time=fit_and_calScoreTime(clf,X_train,X_val,y_train,y_val)\n",
    "  t_score.append(score)\n",
    "  t_fit_times.append(fit_time)\n",
    "  t_pred_times.append(pred_time)\n",
    "\n",
    "  try:\n",
    "    #standardScaler\n",
    "    sscore,sfit_time,spred_time=fit_and_calScoreTime(clf,sX_train_scaled,sX_val_scaled,y_train,y_val)\n",
    "    t_score.append(sscore)\n",
    "    t_fit_times.append(sfit_time)\n",
    "    t_pred_times.append(spred_time)\n",
    "\n",
    "    #RobustScaler\n",
    "    rscore,rfit_time,rpred_time=fit_and_calScoreTime(clf,rX_train_scaled,rX_val_scaled,y_train,y_val)\n",
    "    t_score.append(rscore)\n",
    "    t_fit_times.append(rfit_time)\n",
    "    t_pred_times.append(rpred_time)\n",
    "\n",
    "    #MinmaxScalaer\n",
    "    mscore,mfit_time,mpred_time=fit_and_calScoreTime(clf,mX_train_scaled,mX_val_scaled,y_train,y_val)\n",
    "    t_score.append(mscore)\n",
    "    t_fit_times.append(mfit_time)\n",
    "    t_pred_times.append(mpred_time)\n",
    "\n",
    "    #Normalizer\n",
    "    nscore,nfit_time,npred_time=fit_and_calScoreTime(clf,nX_train_scaled,nX_val_scaled,y_train,y_val)\n",
    "    t_score.append(nscore)\n",
    "    t_fit_times.append(nfit_time)\n",
    "    t_pred_times.append(npred_time)\n",
    "\n",
    "  except ValueError:\n",
    "    continue"
   ]
  },
  {
   "cell_type": "code",
   "execution_count": 54,
   "id": "7ad771d6",
   "metadata": {},
   "outputs": [
    {
     "name": "stdout",
     "output_type": "stream",
     "text": [
      "[0.8909525748015469, 0.8914105434561368, 0.8917667412985956, 0.8895786688377774, 0.8817932017097496]\n",
      "[32.16947793960571, 31.25476050376892, 31.20665144920349, 31.276694774627686, 42.27453351020813]\n",
      "[0.7177491188049316, 0.7155683040618896, 0.7211253643035889, 0.716538667678833, 0.7379035949707031]\n"
     ]
    }
   ],
   "source": [
    "print(t_score)\n",
    "print(t_fit_times)     \n",
    "print( t_pred_times)"
   ]
  },
  {
   "cell_type": "code",
   "execution_count": 61,
   "id": "34829443",
   "metadata": {},
   "outputs": [],
   "source": [
    "def fit_and_calScoreTime(clf,X_train,X_val,y_train,y_val):\n",
    "\n",
    "  #fit_time\n",
    "  start_time=time.time()\n",
    "  %time grid_cv.best_estimator_.fit(X_train,y_train)\n",
    "  fit_time=(time.time()-start_time)\n",
    "\n",
    "  #pred_time\n",
    "  start_time = time.time()\n",
    "  pred = clf.predict(X_val)\n",
    "  pred_time=(time.time() - start_time)\n",
    "  \n",
    "    #score\n",
    "  score=grid_cv.best_estimator_.score(X_val,y_val)\n",
    "  \n",
    "  return score,fit_time,pred_time"
   ]
  },
  {
   "cell_type": "code",
   "execution_count": 62,
   "id": "79a7da1d",
   "metadata": {
    "scrolled": true
   },
   "outputs": [
    {
     "name": "stdout",
     "output_type": "stream",
     "text": [
      "Wall time: 1min 50s\n",
      "0.8909016893954814\n",
      "110.43212652206421\n",
      "0.756645917892456\n"
     ]
    }
   ],
   "source": [
    "from sklearn.preprocessing import Normalizer\n",
    "nor=Normalizer()\n",
    "nor.fit(X_train)\n",
    "nX_train_scaled = nor.transform(X_train)\n",
    "nX_val_scaled = nor.transform(X_val)\n",
    "\n",
    "nscore,nfit_time,npred_time=fit_and_calScoreTime(clf,nX_train_scaled,nX_val_scaled,y_train,y_val)\n",
    "\n",
    "print(nscore)\n",
    "print(nfit_time)     \n",
    "print( npred_time)"
   ]
  },
  {
   "cell_type": "code",
   "execution_count": null,
   "id": "cf1405f2",
   "metadata": {},
   "outputs": [],
   "source": []
  }
 ],
 "metadata": {
  "kernelspec": {
   "display_name": "Python 3 (ipykernel)",
   "language": "python",
   "name": "python3"
  },
  "language_info": {
   "codemirror_mode": {
    "name": "ipython",
    "version": 3
   },
   "file_extension": ".py",
   "mimetype": "text/x-python",
   "name": "python",
   "nbconvert_exporter": "python",
   "pygments_lexer": "ipython3",
   "version": "3.9.13"
  }
 },
 "nbformat": 4,
 "nbformat_minor": 5
}
