{
  "cells": [
    {
      "cell_type": "code",
      "execution_count": 6,
      "id": "SQnawjM85y-b",
      "metadata": {
        "id": "SQnawjM85y-b"
      },
      "outputs": [],
      "source": [
        "# Python ≥3.5 is required\n",
        "import sys\n",
        "assert sys.version_info >= (3, 5)\n",
        "\n",
        "# Scikit-Learn ≥0.20 is required\n",
        "import sklearn\n",
        "assert sklearn.__version__ >= \"0.20\"\n",
        "\n",
        "# Common imports\n",
        "import numpy as np\n",
        "import os\n",
        "\n",
        "# to make this notebook's output stable across runs\n",
        "np.random.seed(42)\n",
        "\n",
        "# To plot pretty figures\n",
        "%matplotlib inline\n",
        "import matplotlib as mpl\n",
        "import matplotlib.pyplot as plt\n",
        "mpl.rc('axes', labelsize=14)\n",
        "mpl.rc('xtick', labelsize=12)\n",
        "mpl.rc('ytick', labelsize=12)\n",
        "\n",
        "# Where to save the figures\n",
        "PROJECT_ROOT_DIR = \".\"\n",
        "CHAPTER_ID = \"3_classification\"\n",
        "IMAGES_PATH = os.path.join(PROJECT_ROOT_DIR, \"images\", CHAPTER_ID)\n",
        "os.makedirs(IMAGES_PATH, exist_ok=True)\n",
        "\n",
        "def save_fig(fig_id, tight_layout=True, fig_extension=\"png\", resolution=300):\n",
        "    path = os.path.join(IMAGES_PATH, fig_id + \".\" + fig_extension)\n",
        "    print(\"Saving figure\", fig_id)\n",
        "    if tight_layout:\n",
        "        plt.tight_layout()\n",
        "    plt.savefig(path, format=fig_extension, dpi=resolution)"
      ]
    },
    {
      "cell_type": "code",
      "execution_count": 7,
      "id": "83324e11",
      "metadata": {
        "colab": {
          "base_uri": "https://localhost:8080/"
        },
        "id": "83324e11",
        "outputId": "af9fd893-8a2b-4d2d-86f8-5f415268674b"
      },
      "outputs": [
        {
          "name": "stdout",
          "output_type": "stream",
          "text": [
            "(1000, 28, 28) float64 (1000,) int64\n",
            "(1000, 28, 28) float64 (1000,) int64\n",
            "(1000, 28, 28) float64 (1000,) int32\n",
            "(1000, 28, 28) float64 (1000,) int32\n",
            "(26720, 28, 28) float64 (26720,) int64\n"
          ]
        },
        {
          "data": {
            "text/plain": [
              "<numpy.lib.npyio.NpzFile at 0x7fc4194ba070>"
            ]
          },
          "execution_count": 7,
          "metadata": {},
          "output_type": "execute_result"
        }
      ],
      "source": [
        "%matplotlib inline\n",
        "import numpy as np\n",
        "import matplotlib.pyplot as plt\n",
        "import cv2\n",
        "import os\n",
        "import pandas as pd\n",
        "from sklearn.model_selection import train_test_split\n",
        "nd1=np.load('mnist_20211236_total.npz')#이윤재\n",
        "nd2=np.load('mnist_20201572_1.npz')#구유정\n",
        "nd3=np.load('mnist_20171372.npz')#김석우\n",
        "nd4=np.load('mnist_20170565.npz')#김성년\n",
        "nd6=np.load('H_MNIST_train.npz')\n",
        "print(nd1['img'].shape, nd1['img'].dtype, nd1['label'].shape, nd1['label'].dtype)\n",
        "print(nd2['img'].shape, nd2['img'].dtype, nd2['label'].shape, nd2['label'].dtype)\n",
        "print(nd3['img'].shape, nd3['img'].dtype, nd3['label'].shape, nd3['label'].dtype)\n",
        "print(nd4['img'].shape, nd4['img'].dtype, nd4['label'].shape, nd4['label'].dtype)\n",
        "print(nd6['img'].shape, nd6['img'].dtype, nd6['label'].shape, nd6['label'].dtype)\n",
        "\n",
        "X=np.concatenate((nd1['img'], nd2['img'],nd3['img'],nd4['img'],nd6['img']), axis=0)\n",
        "y=np.concatenate((nd1['label'], nd2['label'],nd3['label'],nd4['label'],nd6['label']), axis=0)\n",
        "np.savez_compressed('mnist_total.npz', X=X, y=y)\n",
        "nd5=np.load('mnist_total.npz')\n",
        "nd5"
      ]
    },
    {
      "cell_type": "code",
      "execution_count": 8,
      "id": "dc47e8c0",
      "metadata": {
        "colab": {
          "base_uri": "https://localhost:8080/"
        },
        "id": "dc47e8c0",
        "outputId": "43d9dc2f-7ad9-4539-98ab-d82198f16233"
      },
      "outputs": [
        {
          "data": {
            "text/plain": [
              "(30720, 784)"
            ]
          },
          "execution_count": 8,
          "metadata": {},
          "output_type": "execute_result"
        }
      ],
      "source": [
        "X=X.reshape(30720,784)\n",
        "X.shape"
      ]
    },
    {
      "cell_type": "code",
      "execution_count": 9,
      "id": "d282ad8d",
      "metadata": {
        "id": "d282ad8d"
      },
      "outputs": [],
      "source": [
        "def plot_digit(data):\n",
        "    image = data.reshape(28, 28)\n",
        "    plt.imshow(image, cmap = mpl.cm.binary,\n",
        "               interpolation=\"nearest\")\n",
        "    plt.axis(\"off\")\n",
        "\n",
        "def plot_digits(instances, images_per_row=10, **options):\n",
        "    size = 28\n",
        "    images_per_row = min(len(instances), images_per_row)\n",
        "    # This is equivalent to n_rows = ceil(len(instances) / images_per_row):\n",
        "    n_rows = (len(instances) - 1) // images_per_row + 1\n",
        "\n",
        "    # Append empty images to fill the end of the grid, if needed:\n",
        "    n_empty = n_rows * images_per_row - len(instances)\n",
        "    padded_instances = np.concatenate([instances, np.zeros((n_empty, size * size))], axis=0)\n",
        "\n",
        "    # Reshape the array so it's organized as a grid containing 28×28 images:\n",
        "    image_grid = padded_instances.reshape((n_rows, images_per_row, size, size))\n",
        "\n",
        "    # Combine axes 0 and 2 (vertical image grid axis, and vertical image axis),\n",
        "    # and axes 1 and 3 (horizontal axes). We first need to move the axes that we\n",
        "    # want to combine next to each other, using transpose(), and only then we\n",
        "    # can reshape:\n",
        "    big_image = image_grid.transpose(0, 2, 1, 3).reshape(n_rows * size,\n",
        "                                                         images_per_row * size)\n",
        "    # Now that we have a big image, we just need to show it:\n",
        "    plt.imshow(big_image, cmap = mpl.cm.binary, **options)\n",
        "    plt.axis(\"off\")"
      ]
    },
    {
      "cell_type": "code",
      "execution_count": 11,
      "id": "317ae967",
      "metadata": {
        "colab": {
          "base_uri": "https://localhost:8080/",
          "height": 520
        },
        "id": "317ae967",
        "outputId": "291d076d-3d2e-48d4-f66a-96e47fa08065"
      },
      "outputs": [
        {
          "data": {
            "image/png": "[encoded data removed]",
            "text/plain": [
              "<Figure size 648x648 with 1 Axes>"
            ]
          },
          "metadata": {
            "needs_background": "light"
          },
          "output_type": "display_data"
        }
      ],
      "source": [
        "#글씨 확인용\n",
        "import matplotlib as mpl\n",
        "\n",
        "plt.figure(figsize=(9,9))\n",
        "example_images = X[30620:30720]\n",
        "plot_digits(example_images, images_per_row=10)"
      ]
    },
    {
      "cell_type": "code",
      "execution_count": 12,
      "id": "51650442",
      "metadata": {
        "id": "51650442"
      },
      "outputs": [],
      "source": [
        "#data cleaning : 질 안좋은 애들 다 빼 버렸다"
      ]
    },
    {
      "cell_type": "code",
      "execution_count": 12,
      "id": "f6804fb9",
      "metadata": {
        "colab": {
          "base_uri": "https://localhost:8080/"
        },
        "id": "f6804fb9",
        "outputId": "fef67ee5-f01b-4fb0-e5db-6fa3c25ffdfd"
      },
      "outputs": [
        {
          "data": {
            "text/plain": [
              "(28260, 784)"
            ]
          },
          "execution_count": 12,
          "metadata": {},
          "output_type": "execute_result"
        }
      ],
      "source": [
        "a=X[23110:23120]\n",
        "b=X[23230:23340]\n",
        "c=X[23420:23450]\n",
        "d=X[23520:23720]\n",
        "e=X[23770:23780]\n",
        "f=X[23900:23920]\n",
        "g=X[23970:24110]\n",
        "h=X[24140:24270]\n",
        "i=X[24780:28410]\n",
        "j=X[28460:30720]\n",
        "a_0=X[:2000]\n",
        "b_0=X[2100:2070]\n",
        "c_0=X[2210:2220]\n",
        "d_0=X[2230:2280]\n",
        "e_0=X[2410:2800]\n",
        "f_0=X[2900:6980]\n",
        "g_0=X[6900:7300]\n",
        "h_0=X[7400:7500]\n",
        "i_0=X[7600:7680]\n",
        "a_1=X[15361:18700]\n",
        "b_1=X[19120:19290]\n",
        "c_1=X[19300:19310]\n",
        "d_1=X[19320:21760]\n",
        "e_1=X[21780:21790]\n",
        "f_1=X[21800:21810]\n",
        "g_1=X[21820:21830]\n",
        "h_1=X[21840:21850]\n",
        "i_1=X[21860:21880]\n",
        "j_1= X[21890:23050]\n",
        "a_2=X[7680:8200]\n",
        "b_2=X[8220:8340]\n",
        "c_2=X[8360:9310]\n",
        "d_2=X[9520:11920]\n",
        "e_2=X[11950:12120]\n",
        "f_2=X[12220:15361]\n",
        "\n",
        "X_new=np.concatenate((a,b,c,d,e,f,h,g,h,i,j,a_0, b_0,c_0,d_0,e_0,f_0,g_0,h_0,i_0,a_1,b_1,c_1,d_1,e_1,f_1,g_1,h_1,i_1\n",
        "                     ,j_1,a_2,b_2,c_2,d_2,e_2,f_2))\n",
        "X_new=X_new.reshape(28260,784)\n",
        "X_new.shape"
      ]
    },
    {
      "cell_type": "code",
      "execution_count": 13,
      "id": "1d5ca8cf",
      "metadata": {
        "colab": {
          "base_uri": "https://localhost:8080/"
        },
        "id": "1d5ca8cf",
        "outputId": "c871b6b4-c6fd-49eb-f607-9ec15b4a8c90"
      },
      "outputs": [
        {
          "data": {
            "text/plain": [
              "(28260,)"
            ]
          },
          "execution_count": 13,
          "metadata": {},
          "output_type": "execute_result"
        }
      ],
      "source": [
        "a_3=y[23110:23120]\n",
        "b_3=y[23230:23340]\n",
        "c_3=y[23420:23450]\n",
        "d_3=y[23520:23720]\n",
        "e_3=y[23770:23780]\n",
        "f_3=y[23900:23920]\n",
        "g_3=y[23970:24110]\n",
        "h_3=y[24140:24270]\n",
        "i_3=y[24780:28410]\n",
        "j_3=y[28460:30720]\n",
        "a_4=y[:2000]\n",
        "b_4=y[2100:2070]\n",
        "c_4=y[2210:2220]\n",
        "d_4=y[2230:2280]\n",
        "e_4=y[2410:2800]\n",
        "f_4=y[2900:6980]\n",
        "g_4=y[6900:7300]\n",
        "h_4=y[7400:7500]\n",
        "i_4=y[7600:7680]\n",
        "a_5=y[15361:18700]\n",
        "b_5=y[19120:19290]\n",
        "c_5=y[19300:19310]\n",
        "d_5=y[19320:21760]\n",
        "e_5=y[21780:21790]\n",
        "f_5=y[21800:21810]\n",
        "g_5=y[21820:21830]\n",
        "h_5=y[21840:21850]\n",
        "i_5=y[21860:21880]\n",
        "j_5=y[21890:23050]\n",
        "a_6=y[7680:8200]\n",
        "b_6=y[8220:8340]\n",
        "c_6=y[8360:9310]\n",
        "d_6=y[9520:11920]\n",
        "e_6=y[11950:12120]\n",
        "f_6=y[12220:15361]\n",
        "y_new=np.concatenate((a_3,b_3,c_3,d_3,e_3,f_3,h_3,g_3,h_3,i_3,j_3,a_4, b_4,c_4,d_4,e_4,f_4,g_4,h_4,i_4,a_5,b_5,c_5,d_5,e_5,f_5,g_5,h_5,i_5\n",
        "                     ,j_5,a_6,b_6,c_6,d_6,e_6,f_6))\n",
        "y_new.shape"
      ]
    },
    {
      "cell_type": "code",
      "execution_count": 15,
      "id": "239fa81b",
      "metadata": {
        "id": "239fa81b"
      },
      "outputs": [],
      "source": [
        "#original MNIST data 불러오기"
      ]
    },
    {
      "cell_type": "code",
      "execution_count": 14,
      "id": "9d1b4406",
      "metadata": {
        "colab": {
          "base_uri": "https://localhost:8080/"
        },
        "id": "9d1b4406",
        "outputId": "e78ae238-e902-4a4b-ef3e-b7a5a34066d6"
      },
      "outputs": [
        {
          "data": {
            "text/plain": [
              "dict_keys(['data', 'target', 'frame', 'categories', 'feature_names', 'target_names', 'DESCR', 'details', 'url'])"
            ]
          },
          "execution_count": 14,
          "metadata": {},
          "output_type": "execute_result"
        }
      ],
      "source": [
        "from sklearn.datasets import fetch_openml\n",
        "mnist = fetch_openml('mnist_784',version=1)\n",
        "mnist.keys()"
      ]
    },
    {
      "cell_type": "code",
      "execution_count": 17,
      "id": "f56bac57",
      "metadata": {
        "id": "f56bac57"
      },
      "outputs": [],
      "source": [
        "X_mnist, y_mnist = mnist[\"data\"], mnist[\"target\"] # X, y: pandas DataFrame"
      ]
    },
    {
      "cell_type": "code",
      "execution_count": 18,
      "id": "dbd7a87d",
      "metadata": {
        "id": "dbd7a87d"
      },
      "outputs": [],
      "source": [
        "y_mnist=y_mnist.astype(np.uint8)"
      ]
    },
    {
      "cell_type": "code",
      "execution_count": 19,
      "id": "1eea013a",
      "metadata": {
        "id": "1eea013a"
      },
      "outputs": [],
      "source": [
        "X_final=np.concatenate((X_new, X_mnist), axis=0)\n",
        "y_final=np.concatenate((y_new , y_mnist), axis=0)"
      ]
    },
    {
      "cell_type": "code",
      "execution_count": 20,
      "id": "6ca5b9ac",
      "metadata": {
        "id": "6ca5b9ac"
      },
      "outputs": [],
      "source": [
        "#mnist를 dataframe 에서 array 로 변환(concatate 하더라도 mnist 변수 따로 쓰면 data frame 이므로.)"
      ]
    },
    {
      "cell_type": "code",
      "execution_count": 21,
      "id": "8de4ea5b",
      "metadata": {
        "colab": {
          "base_uri": "https://localhost:8080/"
        },
        "id": "8de4ea5b",
        "outputId": "eaf7382b-2a0f-4843-e68e-1f46451e763b"
      },
      "outputs": [
        {
          "name": "stdout",
          "output_type": "stream",
          "text": [
            "(70000, 784)\n",
            "<class 'numpy.ndarray'>\n",
            "(70000,)\n",
            "<class 'numpy.ndarray'>\n"
          ]
        }
      ],
      "source": [
        "X_mnist=np.array(X_mnist)\n",
        "\n",
        "\n",
        "print(X_mnist.shape)\n",
        "print(type(X_mnist))\n",
        "\n",
        "y_mnist=np.array(y_mnist)\n",
        "\n",
        "\n",
        "print(y_mnist.shape)\n",
        "print(type(y_mnist))"
      ]
    },
    {
      "cell_type": "code",
      "execution_count": 22,
      "id": "79138606",
      "metadata": {
        "id": "79138606"
      },
      "outputs": [],
      "source": [
        "#학생 데이터 만 따로 합침 (이미 npz로 저장한걸 합치는 거라 array 형태이다)"
      ]
    },
    {
      "cell_type": "code",
      "execution_count": 23,
      "id": "fc02fc70",
      "metadata": {
        "colab": {
          "base_uri": "https://localhost:8080/"
        },
        "id": "fc02fc70",
        "outputId": "d25869b2-4360-47a7-e433-178c6ca45946"
      },
      "outputs": [
        {
          "name": "stdout",
          "output_type": "stream",
          "text": [
            "(1000, 28, 28) float64 (1000,) int64\n",
            "(1000, 28, 28) float64 (1000,) int64\n",
            "(1000, 28, 28) float64 (1000,) int32\n",
            "(1000, 28, 28) float64 (1000,) int32\n"
          ]
        }
      ],
      "source": [
        "print(nd1['img'].shape, nd1['img'].dtype, nd1['label'].shape, nd1['label'].dtype)\n",
        "print(nd2['img'].shape, nd2['img'].dtype, nd2['label'].shape, nd2['label'].dtype)\n",
        "print(nd3['img'].shape, nd3['img'].dtype, nd3['label'].shape, nd3['label'].dtype)\n",
        "print(nd4['img'].shape, nd4['img'].dtype, nd4['label'].shape, nd4['label'].dtype)\n",
        "\n",
        "X_student=np.concatenate((nd1['img'], nd2['img'],nd3['img'],nd4['img']), axis=0)\n",
        "y_student=np.concatenate((nd1['label'], nd2['label'],nd3['label'],nd4['label']), axis=0)\n"
      ]
    },
    {
      "cell_type": "code",
      "execution_count": 24,
      "id": "e3ac32f2",
      "metadata": {
        "id": "e3ac32f2"
      },
      "outputs": [],
      "source": [
        "#400개 추출"
      ]
    },
    {
      "cell_type": "code",
      "execution_count": 25,
      "id": "12e4a2bf",
      "metadata": {
        "colab": {
          "base_uri": "https://localhost:8080/"
        },
        "id": "12e4a2bf",
        "outputId": "618d9baa-c2eb-43fd-f455-d2fbd223cf1a"
      },
      "outputs": [
        {
          "name": "stdout",
          "output_type": "stream",
          "text": [
            "(400, 784)\n",
            "<class 'numpy.ndarray'>\n"
          ]
        }
      ],
      "source": [
        "X_student=X_student.reshape(4000,784)\n",
        "type(X_student)\n",
        "X_s_0=X_student[0:100]\n",
        "X_s_1=X_student[1000:1100]\n",
        "X_s_2=X_student[2000:2100]\n",
        "X_s_3=X_student[3000:3100]\n",
        "\n",
        "y_s_0=y_student[0:100]\n",
        "y_s_1=y_student[1000:1100]\n",
        "y_s_2=y_student[2000:2100]\n",
        "y_s_3=y_student[3000:3100]\n",
        "\n",
        "X_student_400=np.concatenate((X_s_0,X_s_1,X_s_2,X_s_3))\n",
        "y_student_400=np.concatenate((y_s_0,y_s_1,y_s_2,y_s_3))\n",
        "print(X_student_400.shape)\n",
        "print(type(X_student_400))"
      ]
    },
    {
      "cell_type": "code",
      "execution_count": 26,
      "id": "f378b0c5",
      "metadata": {
        "id": "f378b0c5"
      },
      "outputs": [],
      "source": [
        "#handmade data"
      ]
    },
    {
      "cell_type": "code",
      "execution_count": 27,
      "id": "f4ef1e3d",
      "metadata": {
        "colab": {
          "base_uri": "https://localhost:8080/"
        },
        "id": "f4ef1e3d",
        "outputId": "4ee3281f-ebba-48d9-fa7d-6595ea224aa0"
      },
      "outputs": [
        {
          "name": "stdout",
          "output_type": "stream",
          "text": [
            "(26720, 784)\n",
            "<class 'numpy.ndarray'>\n"
          ]
        }
      ],
      "source": [
        "X_hand=nd6['img']\n",
        "y_hand=nd6['label']\n",
        "\n",
        "X_hand=X_hand.reshape(26720, 784)\n",
        "\n",
        "print(X_hand.shape)\n",
        "print(type(X_hand))"
      ]
    },
    {
      "cell_type": "code",
      "execution_count": 28,
      "id": "2c777e47",
      "metadata": {
        "id": "2c777e47"
      },
      "outputs": [],
      "source": [
        "#train : mnist / test : student data 400개"
      ]
    },
    {
      "cell_type": "code",
      "execution_count": 45,
      "id": "o9foOjf8F4N_",
      "metadata": {
        "id": "o9foOjf8F4N_"
      },
      "outputs": [],
      "source": [
        "#train : handmade / test : student data 400개\n",
        "from sklearn.model_selection import train_test_split\n",
        "X_mnist_train, X_mnist_test, y_mnist_train, y_mnist_test = train_test_split(X_mnist, y_mnist, test_size=0.1, shuffle = True, random_state = 8)"
      ]
    },
    {
      "cell_type": "code",
      "execution_count": 46,
      "id": "a837e14c",
      "metadata": {
        "id": "a837e14c"
      },
      "outputs": [],
      "source": [
        "#train : handmade / test : student data 400개\n",
        "from sklearn.model_selection import train_test_split\n",
        "X_hand_train, X_hand_test, y_hand_train, y_hand_test = train_test_split(X_hand, y_hand, test_size=0.1, shuffle = True, random_state = 8)"
      ]
    },
    {
      "cell_type": "code",
      "execution_count": 47,
      "id": "m0juoTJnEd-S",
      "metadata": {
        "id": "m0juoTJnEd-S"
      },
      "outputs": [],
      "source": [
        "from sklearn.model_selection import train_test_split\n",
        "X_student_train, X_student_400_test, y_student_train, y_student_400_test = train_test_split(X_student, y_student, test_size=0.1, shuffle = True, random_state = 8)"
      ]
    },
    {
      "cell_type": "code",
      "execution_count": 55,
      "id": "ZUCuvbSWIjyQ",
      "metadata": {
        "id": "ZUCuvbSWIjyQ"
      },
      "outputs": [],
      "source": [
        "from sklearn.model_selection import train_test_split\n",
        "X_final_train, X_final_test, y_final_train, y_final_test = train_test_split(X_final, y_final, test_size=0.1, shuffle = True, random_state = 8)"
      ]
    },
    {
      "cell_type": "markdown",
      "id": "ZtMEock1LE-J",
      "metadata": {
        "id": "ZtMEock1LE-J"
      },
      "source": [
        "original로 train"
      ]
    },
    {
      "cell_type": "code",
      "execution_count": 58,
      "id": "26da9fa5",
      "metadata": {
        "colab": {
          "base_uri": "https://localhost:8080/"
        },
        "id": "26da9fa5",
        "outputId": "3f4bd163-3427-4a8b-dbf5-0100b8f32035"
      },
      "outputs": [
        {
          "name": "stdout",
          "output_type": "stream",
          "text": [
            "mnist/mnist  0.9701428571428572\n",
            "mnist/hand  0.11452095808383234\n",
            "mnist/student400  0.095\n"
          ]
        }
      ],
      "source": [
        "from sklearn.ensemble import RandomForestClassifier\n",
        "from sklearn.model_selection import cross_val_score\n",
        "from sklearn.metrics import accuracy_score\n",
        "rnf_clf = RandomForestClassifier()\n",
        "rnf_clf.fit(X_mnist_train, y_mnist_train)\n",
        "\n",
        "print(\"mnist/mnist \",rnf_clf.score(X_mnist_test, y_mnist_test))\n",
        "print(\"mnist/hand \",rnf_clf.score(X_hand_test,y_hand_test))\n",
        "print(\"mnist/student400 \",rnf_clf.score(X_student_400_test,y_student_400_test))"
      ]
    },
    {
      "cell_type": "markdown",
      "id": "Vl0K2DVeLCVP",
      "metadata": {
        "id": "Vl0K2DVeLCVP"
      },
      "source": [
        "final로 train"
      ]
    },
    {
      "cell_type": "code",
      "execution_count": 59,
      "id": "VSRb7J70IPXy",
      "metadata": {
        "colab": {
          "base_uri": "https://localhost:8080/"
        },
        "id": "VSRb7J70IPXy",
        "outputId": "baababa8-7b64-422d-b605-940b4ba7db7c"
      },
      "outputs": [
        {
          "name": "stdout",
          "output_type": "stream",
          "text": [
            "mnist/mnist  0.9968571428571429\n",
            "mnist/hand  0.9240269461077845\n",
            "mnist/student400  0.9125\n"
          ]
        }
      ],
      "source": [
        "from sklearn.ensemble import RandomForestClassifier\n",
        "from sklearn.model_selection import cross_val_score\n",
        "\n",
        "rnf_clf = RandomForestClassifier()\n",
        "rnf_clf.fit(X_final_train, y_final_train)\n",
        "\n",
        "print(\"mnist/mnist \",rnf_clf.score(X_mnist_test, y_mnist_test))\n",
        "print(\"mnist/hand \",rnf_clf.score(X_hand_test,y_hand_test))\n",
        "print(\"mnist/student400 \",rnf_clf.score(X_student_400_test,y_student_400_test))"
      ]
    },
    {
      "cell_type": "markdown",
      "id": "XD1Rlke4K_eR",
      "metadata": {
        "id": "XD1Rlke4K_eR"
      },
      "source": [
        "hand로 train"
      ]
    },
    {
      "cell_type": "code",
      "execution_count": 60,
      "id": "ae435c9b",
      "metadata": {
        "colab": {
          "base_uri": "https://localhost:8080/"
        },
        "id": "ae435c9b",
        "outputId": "216df66b-11c8-40bd-d0b4-822c9908a011"
      },
      "outputs": [
        {
          "name": "stdout",
          "output_type": "stream",
          "text": [
            "hand/student400  0.9325\n",
            "hand/hand  0.6601796407185628\n",
            "hand/student400  0.845\n"
          ]
        }
      ],
      "source": [
        "from sklearn.ensemble import RandomForestClassifier\n",
        "from sklearn.model_selection import cross_val_score\n",
        "from sklearn.metrics import accuracy_score\n",
        "rnf_clf = RandomForestClassifier()\n",
        "rnf_clf.fit(X_hand_train, y_hand_train)\n",
        "\n",
        "print(\"hand/student400 \",rnf_clf.score(X_student_400,y_student_400))\n",
        "print(\"hand/hand \",rnf_clf.score(X_hand_test,y_hand_test))\n",
        "print(\"hand/student400 \",rnf_clf.score(X_student_400_test,y_student_400_test))"
      ]
    },
    {
      "cell_type": "code",
      "execution_count": null,
      "id": "7ClkUpBBFSJa",
      "metadata": {
        "id": "7ClkUpBBFSJa"
      },
      "outputs": [],
      "source": []
    }
  ],
  "metadata": {
    "colab": {
      "provenance": []
    },
    "kernelspec": {
      "display_name": "base",
      "language": "python",
      "name": "python3"
    },
    "language_info": {
      "codemirror_mode": {
        "name": "ipython",
        "version": 3
      },
      "file_extension": ".py",
      "mimetype": "text/x-python",
      "name": "python",
      "nbconvert_exporter": "python",
      "pygments_lexer": "ipython3",
      "version": "3.9.12"
    },
    "vscode": {
      "interpreter": {
        "hash": "2ca105a93104d08d207b05991868f47186dc0a806f7cc62155dba79bba6ceb0b"
      }
    }
  },
  "nbformat": 4,
  "nbformat_minor": 5
}
