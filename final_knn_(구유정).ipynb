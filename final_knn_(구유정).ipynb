{
  "cells": [
    {
      "cell_type": "markdown",
      "id": "Ft8Y9ohVd8pz",
      "metadata": {
        "id": "Ft8Y9ohVd8pz"
      },
      "source": [
        "98260만개 data (교수님+우리+오리지널)"
      ]
    },
    {
      "cell_type": "code",
      "execution_count": 1,
      "id": "hRnHIv_ZKD1F",
      "metadata": {
        "id": "hRnHIv_ZKD1F"
      },
      "outputs": [],
      "source": [
        "# Python ≥3.5 is required\n",
        "import sys\n",
        "assert sys.version_info >= (3, 5)\n",
        "\n",
        "# Scikit-Learn ≥0.20 is required\n",
        "import sklearn\n",
        "assert sklearn.__version__ >= \"0.20\"\n",
        "\n",
        "# Common imports\n",
        "import numpy as np\n",
        "import os\n",
        "\n",
        "# to make this notebook's output stable across runs\n",
        "np.random.seed(42)\n",
        "\n",
        "# To plot pretty figures\n",
        "%matplotlib inline\n",
        "import matplotlib as mpl\n",
        "import matplotlib.pyplot as plt\n",
        "mpl.rc('axes', labelsize=14)\n",
        "mpl.rc('xtick', labelsize=12)\n",
        "mpl.rc('ytick', labelsize=12)\n",
        "\n",
        "# Where to save the figures\n",
        "PROJECT_ROOT_DIR = \".\"\n",
        "CHAPTER_ID = \"3_classification\"\n",
        "IMAGES_PATH = os.path.join(PROJECT_ROOT_DIR, \"images\", CHAPTER_ID)\n",
        "os.makedirs(IMAGES_PATH, exist_ok=True)\n",
        "\n",
        "def save_fig(fig_id, tight_layout=True, fig_extension=\"png\", resolution=300):\n",
        "    path = os.path.join(IMAGES_PATH, fig_id + \".\" + fig_extension)\n",
        "    print(\"Saving figure\", fig_id)\n",
        "    if tight_layout:\n",
        "        plt.tight_layout()\n",
        "    plt.savefig(path, format=fig_extension, dpi=resolution)"
      ]
    },
    {
      "cell_type": "code",
      "execution_count": 2,
      "id": "0e3686ee",
      "metadata": {
        "colab": {
          "base_uri": "https://localhost:8080/"
        },
        "id": "0e3686ee",
        "outputId": "2a524469-08b4-4b22-f2a1-cac02191664c"
      },
      "outputs": [
        {
          "name": "stdout",
          "output_type": "stream",
          "text": [
            "(1000, 28, 28) float64 (1000,) int64\n",
            "(1000, 28, 28) float64 (1000,) int64\n",
            "(1000, 28, 28) float64 (1000,) int32\n",
            "(1000, 28, 28) float64 (1000,) int32\n",
            "(26720, 28, 28) float64 (26720,) int64\n"
          ]
        },
        {
          "data": {
            "text/plain": [
              "numpy.ndarray"
            ]
          },
          "execution_count": 2,
          "metadata": {},
          "output_type": "execute_result"
        }
      ],
      "source": [
        "%matplotlib inline\n",
        "import numpy as np\n",
        "import matplotlib.pyplot as plt\n",
        "import cv2\n",
        "import os\n",
        "import pandas as pd \n",
        "nd1=np.load('mnist_20211236_total.npz')#이윤재\n",
        "nd2=np.load('mnist_20201572_1.npz')#구유정\n",
        "nd3=np.load('mnist_20171372.npz')#김석우\n",
        "nd4=np.load('mnist_20170565.npz')#김성년\n",
        "nd6=np.load('H_MNIST_train.npz')\n",
        "print(nd1['img'].shape, nd1['img'].dtype, nd1['label'].shape, nd1['label'].dtype)\n",
        "print(nd2['img'].shape, nd2['img'].dtype, nd2['label'].shape, nd2['label'].dtype)\n",
        "print(nd3['img'].shape, nd3['img'].dtype, nd3['label'].shape, nd3['label'].dtype)\n",
        "print(nd4['img'].shape, nd4['img'].dtype, nd4['label'].shape, nd4['label'].dtype)\n",
        "print(nd6['img'].shape, nd6['img'].dtype, nd6['label'].shape, nd6['label'].dtype)\n",
        "\n",
        "X=np.concatenate((nd1['img'], nd2['img'],nd3['img'],nd4['img'],nd6['img']), axis=0)\n",
        "y=np.concatenate((nd1['label'], nd2['label'],nd3['label'],nd4['label'],nd6['label']), axis=0)\n",
        "np.savez_compressed('mnist_all.npz', X=X, y=y)\n",
        "nd5=np.load('mnist_all.npz')\n",
        "nd5\n",
        "X.shape\n",
        "X=X.reshape(30720,784)\n",
        "#X_new=X[23040:30720]\n",
        "#y_new=y[23040:30720]\n",
        "#X_new.shape\n",
        "#y_new.shape\n",
        "type(X)"
      ]
    },
    {
      "cell_type": "markdown",
      "id": "2rPzy19zbVmo",
      "metadata": {
        "id": "2rPzy19zbVmo"
      },
      "source": [
        "data cleaning 작업"
      ]
    },
    {
      "cell_type": "code",
      "execution_count": 3,
      "id": "0bbbf372",
      "metadata": {
        "colab": {
          "base_uri": "https://localhost:8080/"
        },
        "id": "0bbbf372",
        "outputId": "a2bdd0e9-9a26-45dd-9151-935009c62ee5"
      },
      "outputs": [
        {
          "data": {
            "text/plain": [
              "(28260,)"
            ]
          },
          "execution_count": 3,
          "metadata": {},
          "output_type": "execute_result"
        }
      ],
      "source": [
        "a_3=y[23110:23120]\n",
        "b_3=y[23230:23340]\n",
        "c_3=y[23420:23450]\n",
        "d_3=y[23520:23720]\n",
        "e_3=y[23770:23780]\n",
        "f_3=y[23900:23920]\n",
        "g_3=y[23970:24110]\n",
        "h_3=y[24140:24270]\n",
        "i_3=y[24780:28410]\n",
        "j_3=y[28460:30720]\n",
        "a_4=y[:2000]\n",
        "b_4=y[2100:2070]\n",
        "c_4=y[2210:2220]\n",
        "d_4=y[2230:2280]\n",
        "e_4=y[2410:2800]\n",
        "f_4=y[2900:6980]\n",
        "g_4=y[6900:7300]\n",
        "h_4=y[7400:7500]\n",
        "i_4=y[7600:7680]\n",
        "a_5=y[15361:18700]\n",
        "b_5=y[19120:19290]\n",
        "c_5=y[19300:19310]\n",
        "d_5=y[19320:21760]\n",
        "e_5=y[21780:21790]\n",
        "f_5=y[21800:21810]\n",
        "g_5=y[21820:21830]\n",
        "h_5=y[21840:21850]\n",
        "i_5=y[21860:21880]\n",
        "j_5=y[21890:23050]\n",
        "a_6=y[7680:8200]\n",
        "b_6=y[8220:8340]\n",
        "c_6=y[8360:9310]\n",
        "d_6=y[9520:11920]\n",
        "e_6=y[11950:12120]\n",
        "f_6=y[12220:15361]\n",
        "y_new=np.concatenate((a_3,b_3,c_3,d_3,e_3,f_3,h_3,g_3,h_3,i_3,j_3,a_4, b_4,c_4,d_4,e_4,f_4,g_4,h_4,i_4,a_5,b_5,c_5,d_5,e_5,f_5,g_5,h_5,i_5\n",
        "                     ,j_5,a_6,b_6,c_6,d_6,e_6,f_6))\n",
        "y_new.shape"
      ]
    },
    {
      "cell_type": "code",
      "execution_count": 4,
      "id": "5e5e5cb9",
      "metadata": {
        "colab": {
          "base_uri": "https://localhost:8080/"
        },
        "id": "5e5e5cb9",
        "outputId": "69402fcd-c774-4e07-aa50-520f75ec8de0"
      },
      "outputs": [
        {
          "data": {
            "text/plain": [
              "(28260, 784)"
            ]
          },
          "execution_count": 4,
          "metadata": {},
          "output_type": "execute_result"
        }
      ],
      "source": [
        "a=X[23110:23120]\n",
        "b=X[23230:23340]\n",
        "c=X[23420:23450]\n",
        "d=X[23520:23720]\n",
        "e=X[23770:23780]\n",
        "f=X[23900:23920]\n",
        "g=X[23970:24110]\n",
        "h=X[24140:24270]\n",
        "i=X[24780:28410]\n",
        "j=X[28460:30720]\n",
        "a_0=X[:2000]\n",
        "b_0=X[2100:2070]\n",
        "c_0=X[2210:2220]\n",
        "d_0=X[2230:2280]\n",
        "e_0=X[2410:2800]\n",
        "f_0=X[2900:6980]\n",
        "g_0=X[6900:7300]\n",
        "h_0=X[7400:7500]\n",
        "i_0=X[7600:7680]\n",
        "a_1=X[15361:18700]\n",
        "b_1=X[19120:19290]\n",
        "c_1=X[19300:19310]\n",
        "d_1=X[19320:21760]\n",
        "e_1=X[21780:21790]\n",
        "f_1=X[21800:21810]\n",
        "g_1=X[21820:21830]\n",
        "h_1=X[21840:21850]\n",
        "i_1=X[21860:21880]\n",
        "j_1= X[21890:23050]\n",
        "a_2=X[7680:8200]\n",
        "b_2=X[8220:8340]\n",
        "c_2=X[8360:9310]\n",
        "d_2=X[9520:11920]\n",
        "e_2=X[11950:12120]\n",
        "f_2=X[12220:15361]\n",
        "\n",
        "X_new=np.concatenate((a,b,c,d,e,f,h,g,h,i,j,a_0, b_0,c_0,d_0,e_0,f_0,g_0,h_0,i_0,a_1,b_1,c_1,d_1,e_1,f_1,g_1,h_1,i_1\n",
        "                     ,j_1,a_2,b_2,c_2,d_2,e_2,f_2))\n",
        "X_new=X_new.reshape(28260,784)\n",
        "X_new.shape\n"
      ]
    },
    {
      "cell_type": "code",
      "execution_count": 6,
      "id": "KX3qHqFedLoZ",
      "metadata": {
        "colab": {
          "base_uri": "https://localhost:8080/"
        },
        "id": "KX3qHqFedLoZ",
        "outputId": "33158f4f-9255-4c86-855a-baa1f966af6d"
      },
      "outputs": [
        {
          "data": {
            "text/plain": [
              "(30720,)"
            ]
          },
          "execution_count": 6,
          "metadata": {},
          "output_type": "execute_result"
        }
      ],
      "source": [
        "from sklearn.datasets import fetch_openml\n",
        "mnist = fetch_openml('mnist_784', version=1)\n",
        "mnist.keys()\n",
        "X_mnist, y_mnist = mnist[\"data\"], mnist[\"target\"] # X, y: pandas DataFrame\n",
        "y_mnist=y_mnist.astype(np.uint8)\n",
        "X.shape\n",
        "y.shape"
      ]
    },
    {
      "cell_type": "code",
      "execution_count": null,
      "id": "JQZW1FQ7nxQy",
      "metadata": {
        "id": "JQZW1FQ7nxQy"
      },
      "outputs": [],
      "source": [
        "X_final=np.concatenate((X_new,X_mnist))\n",
        "y_final=np.concatenate((y_new,y_mnist))"
      ]
    },
    {
      "cell_type": "markdown",
      "id": "11X5g1YcEFOR",
      "metadata": {
        "id": "11X5g1YcEFOR"
      },
      "source": [
        "mnist를 dataframe 에서 array 로 변환(concatate 하더라도 mnist 변수 따로 쓰면 data frame 이므로.)"
      ]
    },
    {
      "cell_type": "code",
      "execution_count": null,
      "id": "ZGva8TNFD5Jf",
      "metadata": {
        "colab": {
          "base_uri": "https://localhost:8080/"
        },
        "id": "ZGva8TNFD5Jf",
        "outputId": "6a91e94d-5e4b-43b8-ff19-ca759cdc5a0b"
      },
      "outputs": [
        {
          "name": "stdout",
          "output_type": "stream",
          "text": [
            "(70000, 784)\n",
            "<class 'numpy.ndarray'>\n",
            "(70000,)\n",
            "<class 'numpy.ndarray'>\n"
          ]
        }
      ],
      "source": [
        "X_mnist=np.array(X_mnist)\n",
        "\n",
        "\n",
        "print(X_mnist.shape)\n",
        "print(type(X_mnist))\n",
        "\n",
        "y_mnist=np.array(y_mnist)\n",
        "\n",
        "\n",
        "print(y_mnist.shape)\n",
        "print(type(y_mnist))"
      ]
    },
    {
      "cell_type": "markdown",
      "id": "CYvtJIEjcMtV",
      "metadata": {
        "id": "CYvtJIEjcMtV"
      },
      "source": [
        "3:1:1로 data split"
      ]
    },
    {
      "cell_type": "code",
      "execution_count": null,
      "id": "517feafa",
      "metadata": {
        "colab": {
          "base_uri": "https://localhost:8080/"
        },
        "id": "517feafa",
        "outputId": "58f17578-3a5a-4547-c295-1f1239f620e7"
      },
      "outputs": [
        {
          "name": "stdout",
          "output_type": "stream",
          "text": [
            "(58956, 784) (19652, 784) (19652, 784)\n",
            "(58956,) (19652,) (19652,)\n"
          ]
        }
      ],
      "source": [
        "from sklearn.model_selection import train_test_split\n",
        "X_train0, X_test, y_train0, y_test = train_test_split(X_final, y_final, test_size=0.2, shuffle = True, random_state = 8)\n",
        "X_train, X_val, y_train, y_val = train_test_split(X_train0, y_train0,test_size=0.25,shuffle = True, random_state= 8) # 0.25 x 0.8 = 0.2\n",
        "\n",
        "print(X_train.shape, X_val.shape, X_test.shape)\n",
        "print(y_train.shape, y_val.shape, y_test.shape)"
      ]
    },
    {
      "cell_type": "markdown",
      "id": "AVfhe7u8oIqL",
      "metadata": {
        "id": "AVfhe7u8oIqL"
      },
      "source": [
        "------------------------------------------------------\n",
        "##여기서부터 모델 학습"
      ]
    },
    {
      "cell_type": "markdown",
      "id": "f4vuWOU2jgfh",
      "metadata": {
        "id": "f4vuWOU2jgfh"
      },
      "source": [
        "fit+scaling"
      ]
    },
    {
      "cell_type": "code",
      "execution_count": null,
      "id": "2OaeaYc0i8Sm",
      "metadata": {
        "colab": {
          "base_uri": "https://localhost:8080/"
        },
        "id": "2OaeaYc0i8Sm",
        "outputId": "210cccc0-ad0e-4e29-de70-6f4073a4c5e6"
      },
      "outputs": [
        {
          "name": "stdout",
          "output_type": "stream",
          "text": [
            "Fit time :  0.04448580741882324\n"
          ]
        },
        {
          "data": {
            "text/plain": [
              "array([0.83528394, 0.83981274, 0.84144107])"
            ]
          },
          "execution_count": 54,
          "metadata": {},
          "output_type": "execute_result"
        }
      ],
      "source": [
        "#일반적으로 standardscaler로 scaling\n",
        "import time\n",
        "from sklearn.neighbors import KNeighborsClassifier\n",
        "from sklearn.preprocessing import StandardScaler\n",
        "from sklearn.model_selection import cross_val_score\n",
        "\n",
        "knn_clf=KNeighborsClassifier(n_jobs=-1,n_neighbors=3)\n",
        "\n",
        "start_time=time.time()\n",
        "knn_clf.fit(X_train,y_train)\n",
        "print('Fit time : ', time.time()-start_time)\n",
        "\n",
        "cross_val_score(knn_clf, X_train, y_train, cv=3, scoring=\"accuracy\")"
      ]
    },
    {
      "cell_type": "markdown",
      "id": "zv7l0pn-T86p",
      "metadata": {
        "id": "zv7l0pn-T86p"
      },
      "source": [
        " 성능 확인 accuracy"
      ]
    },
    {
      "cell_type": "code",
      "execution_count": null,
      "id": "dlzZVCA8Jvx1",
      "metadata": {
        "colab": {
          "base_uri": "https://localhost:8080/"
        },
        "id": "dlzZVCA8Jvx1",
        "outputId": "ec2bf0c0-23e8-4a27-fbad-64c010258de5"
      },
      "outputs": [
        {
          "name": "stdout",
          "output_type": "stream",
          "text": [
            "Fit time :  115.83886933326721\n",
            "0.8483614899246896\n"
          ]
        }
      ],
      "source": [
        "from sklearn.metrics import accuracy_score\n",
        "\n",
        "start_time = time.time()\n",
        "pred = knn_clf.predict(X_val)\n",
        "print('Fit time : ', time.time() - start_time)\n",
        "print(accuracy_score(y_val, pred))"
      ]
    },
    {
      "cell_type": "markdown",
      "id": "8JgTxHuXOEjC",
      "metadata": {
        "id": "8JgTxHuXOEjC"
      },
      "source": [
        "knn confusion matrix"
      ]
    },
    {
      "cell_type": "code",
      "execution_count": null,
      "id": "aaG978nSU--d",
      "metadata": {
        "colab": {
          "base_uri": "https://localhost:8080/"
        },
        "id": "aaG978nSU--d",
        "outputId": "e99cc717-97bd-4a6c-b8eb-0a36f3c18333"
      },
      "outputs": [
        {
          "name": "stdout",
          "output_type": "stream",
          "text": [
            "              precision    recall  f1-score   support\n",
            "\n",
            "           0       0.85      0.88      0.87      1952\n",
            "           1       0.59      0.99      0.74      2076\n",
            "           2       0.90      0.85      0.87      1930\n",
            "           3       0.90      0.82      0.86      1988\n",
            "           4       0.94      0.83      0.88      1915\n",
            "           5       0.91      0.81      0.86      1891\n",
            "           6       0.92      0.86      0.89      1962\n",
            "           7       0.87      0.86      0.87      2043\n",
            "           8       0.97      0.76      0.85      1968\n",
            "           9       0.91      0.82      0.86      1927\n",
            "\n",
            "    accuracy                           0.85     19652\n",
            "   macro avg       0.88      0.85      0.85     19652\n",
            "weighted avg       0.87      0.85      0.85     19652\n",
            "\n",
            "[[1721  179   12    9    3    2    7   15    2    2]\n",
            " [   2 2054    4    3    0    0    3    7    1    2]\n",
            " [  49  173 1636   22    6    4    3   28    5    4]\n",
            " [  39  129   79 1631    6   33    6   34   14   17]\n",
            " [  37  185   18    4 1585    5   11   18    0   52]\n",
            " [  37  170   21   49   14 1530   41   11   10    8]\n",
            " [  44  188    4    5   11   19 1678    6    5    2]\n",
            " [  10  184    9    6   11    6    4 1767    3   43]\n",
            " [  52  117   32   53   19   71   55   40 1495   34]\n",
            " [  23  113    8   28   38   11    7  116    8 1575]]\n"
          ]
        }
      ],
      "source": [
        "from sklearn.metrics import classification_report, confusion_matrix\n",
        "\n",
        "def results(y_val, pred):\n",
        "    print(classification_report(y_val,pred))\n",
        "    print(confusion_matrix(y_val,pred))\n",
        "\n",
        "    return confusion_matrix(y_val,pred)\n",
        "conf_knn=results(y_val,pred)"
      ]
    },
    {
      "cell_type": "markdown",
      "id": "D9aqsPgyJmeK",
      "metadata": {
        "id": "D9aqsPgyJmeK"
      },
      "source": [
        "knn confusion matrix"
      ]
    },
    {
      "cell_type": "code",
      "execution_count": null,
      "id": "Tx8Bar5YJmeL",
      "metadata": {
        "colab": {
          "base_uri": "https://localhost:8080/"
        },
        "id": "Tx8Bar5YJmeL",
        "outputId": "f46d77d1-b6fb-4716-e7c7-3bc4fffb8eb3"
      },
      "outputs": [
        {
          "name": "stdout",
          "output_type": "stream",
          "text": [
            "              precision    recall  f1-score   support\n",
            "\n",
            "           0       0.85      0.88      0.87      1952\n",
            "           1       0.59      0.99      0.74      2076\n",
            "           2       0.90      0.85      0.87      1930\n",
            "           3       0.90      0.82      0.86      1988\n",
            "           4       0.94      0.83      0.88      1915\n",
            "           5       0.91      0.81      0.86      1891\n",
            "           6       0.92      0.86      0.89      1962\n",
            "           7       0.87      0.86      0.87      2043\n",
            "           8       0.97      0.76      0.85      1968\n",
            "           9       0.91      0.82      0.86      1927\n",
            "\n",
            "    accuracy                           0.85     19652\n",
            "   macro avg       0.88      0.85      0.85     19652\n",
            "weighted avg       0.87      0.85      0.85     19652\n",
            "\n",
            "[[1721  179   12    9    3    2    7   15    2    2]\n",
            " [   2 2054    4    3    0    0    3    7    1    2]\n",
            " [  49  173 1636   22    6    4    3   28    5    4]\n",
            " [  39  129   79 1631    6   33    6   34   14   17]\n",
            " [  37  185   18    4 1585    5   11   18    0   52]\n",
            " [  37  170   21   49   14 1530   41   11   10    8]\n",
            " [  44  188    4    5   11   19 1678    6    5    2]\n",
            " [  10  184    9    6   11    6    4 1767    3   43]\n",
            " [  52  117   32   53   19   71   55   40 1495   34]\n",
            " [  23  113    8   28   38   11    7  116    8 1575]]\n"
          ]
        }
      ],
      "source": [
        "from sklearn.metrics import classification_report, confusion_matrix\n",
        "\n",
        "def results(y_val, pred):\n",
        "    print(classification_report(y_val,pred))\n",
        "    print(confusion_matrix(y_val,pred))\n",
        "\n",
        "    return confusion_matrix(y_val,pred)\n",
        "conf_knn=results(y_val,pred)"
      ]
    },
    {
      "cell_type": "markdown",
      "id": "FlVHwbU7hkW6",
      "metadata": {
        "id": "FlVHwbU7hkW6"
      },
      "source": [
        "confusion matrix error"
      ]
    },
    {
      "cell_type": "code",
      "execution_count": null,
      "id": "ppCUMntkg-aG",
      "metadata": {
        "colab": {
          "base_uri": "https://localhost:8080/",
          "height": 296
        },
        "id": "ppCUMntkg-aG",
        "outputId": "c64f9a5e-d83b-4775-d431-e2c7a786b223"
      },
      "outputs": [
        {
          "name": "stdout",
          "output_type": "stream",
          "text": [
            "Saving figure confusion_matrix_plot\n"
          ]
        },
        {
          "data": {
            "image/png": "[encoded data removed]",
            "text/plain": [
              "<Figure size 288x288 with 1 Axes>"
            ]
          },
          "metadata": {
            "needs_background": "light"
          },
          "output_type": "display_data"
        }
      ],
      "source": [
        "plt.matshow(conf_knn, cmap=plt.cm.gray)\n",
        "save_fig(\"confusion_matrix_plot\", tight_layout=False)\n",
        "plt.show()"
      ]
    },
    {
      "cell_type": "code",
      "execution_count": null,
      "id": "-1-fztNRhE8W",
      "metadata": {
        "colab": {
          "base_uri": "https://localhost:8080/"
        },
        "id": "-1-fztNRhE8W",
        "outputId": "eb434ef4-ef38-4050-a55c-8be9ea2aba89"
      },
      "outputs": [
        {
          "data": {
            "text/plain": [
              "array([[8.81659836e-01, 9.17008197e-02, 6.14754098e-03, 4.61065574e-03,\n",
              "        1.53688525e-03, 1.02459016e-03, 3.58606557e-03, 7.68442623e-03,\n",
              "        1.02459016e-03, 1.02459016e-03],\n",
              "       [9.63391137e-04, 9.89402697e-01, 1.92678227e-03, 1.44508671e-03,\n",
              "        0.00000000e+00, 0.00000000e+00, 1.44508671e-03, 3.37186898e-03,\n",
              "        4.81695568e-04, 9.63391137e-04],\n",
              "       [2.53886010e-02, 8.96373057e-02, 8.47668394e-01, 1.13989637e-02,\n",
              "        3.10880829e-03, 2.07253886e-03, 1.55440415e-03, 1.45077720e-02,\n",
              "        2.59067358e-03, 2.07253886e-03],\n",
              "       [1.96177062e-02, 6.48893360e-02, 3.97384306e-02, 8.20422535e-01,\n",
              "        3.01810865e-03, 1.65995976e-02, 3.01810865e-03, 1.71026157e-02,\n",
              "        7.04225352e-03, 8.55130785e-03],\n",
              "       [1.93211488e-02, 9.66057441e-02, 9.39947781e-03, 2.08877285e-03,\n",
              "        8.27676240e-01, 2.61096606e-03, 5.74412533e-03, 9.39947781e-03,\n",
              "        0.00000000e+00, 2.71540470e-02],\n",
              "       [1.95663670e-02, 8.98995241e-02, 1.11052353e-02, 2.59122158e-02,\n",
              "        7.40349022e-03, 8.09095717e-01, 2.16816499e-02, 5.81702803e-03,\n",
              "        5.28820730e-03, 4.23056584e-03],\n",
              "       [2.24260958e-02, 9.58205912e-02, 2.03873598e-03, 2.54841998e-03,\n",
              "        5.60652396e-03, 9.68399592e-03, 8.55249745e-01, 3.05810398e-03,\n",
              "        2.54841998e-03, 1.01936799e-03],\n",
              "       [4.89476260e-03, 9.00636319e-02, 4.40528634e-03, 2.93685756e-03,\n",
              "        5.38423886e-03, 2.93685756e-03, 1.95790504e-03, 8.64904552e-01,\n",
              "        1.46842878e-03, 2.10474792e-02],\n",
              "       [2.64227642e-02, 5.94512195e-02, 1.62601626e-02, 2.69308943e-02,\n",
              "        9.65447154e-03, 3.60772358e-02, 2.79471545e-02, 2.03252033e-02,\n",
              "        7.59654472e-01, 1.72764228e-02],\n",
              "       [1.19356513e-02, 5.86403736e-02, 4.15153088e-03, 1.45303581e-02,\n",
              "        1.97197717e-02, 5.70835496e-03, 3.63258952e-03, 6.01971977e-02,\n",
              "        4.15153088e-03, 8.17332641e-01]])"
            ]
          },
          "execution_count": 59,
          "metadata": {},
          "output_type": "execute_result"
        }
      ],
      "source": [
        "row_sums = conf_knn.sum(axis=1, keepdims=True)\n",
        "norm_conf_knn = conf_knn / row_sums\n",
        "norm_conf_knn"
      ]
    },
    {
      "cell_type": "markdown",
      "id": "dqxDZgMAnYJm",
      "metadata": {
        "id": "dqxDZgMAnYJm"
      },
      "source": [
        "4를 9로 잘못 인식한 것이 유난히 많음"
      ]
    },
    {
      "cell_type": "code",
      "execution_count": null,
      "id": "5eV1JaNLhMJL",
      "metadata": {
        "colab": {
          "base_uri": "https://localhost:8080/",
          "height": 296
        },
        "id": "5eV1JaNLhMJL",
        "outputId": "e141629d-78ad-4a2f-f68e-e88c111ce37f"
      },
      "outputs": [
        {
          "name": "stdout",
          "output_type": "stream",
          "text": [
            "Saving figure confusion_matrix_errors_plot\n"
          ]
        },
        {
          "data": {
            "image/png": "[encoded data removed]",
            "text/plain": [
              "<Figure size 288x288 with 1 Axes>"
            ]
          },
          "metadata": {
            "needs_background": "light"
          },
          "output_type": "display_data"
        }
      ],
      "source": [
        "np.fill_diagonal(norm_conf_knn, 0)\n",
        "plt.matshow(norm_conf_knn, cmap=plt.cm.gray)\n",
        "save_fig(\"confusion_matrix_errors_plot\", tight_layout=False)\n",
        "plt.show()"
      ]
    },
    {
      "cell_type": "markdown",
      "id": "ow5bu705mBCh",
      "metadata": {
        "id": "ow5bu705mBCh"
      },
      "source": [
        "auc 성능"
      ]
    },
    {
      "cell_type": "code",
      "execution_count": null,
      "id": "k5_FKSa5l_UE",
      "metadata": {
        "colab": {
          "base_uri": "https://localhost:8080/"
        },
        "id": "k5_FKSa5l_UE",
        "outputId": "8cdb7f10-e2ef-45c4-9683-95942590b07c"
      },
      "outputs": [
        {
          "name": "stdout",
          "output_type": "stream",
          "text": [
            "class 0  auc_score 0.9233516730850027\n",
            "class 1  auc_score 0.9585566049939278\n",
            "class 2  auc_score 0.913421381710614\n",
            "class 3  auc_score 0.89266235483838\n",
            "class 4  auc_score 0.9054071555162295\n",
            "class 5  auc_score 0.8890670885459443\n",
            "class 6  auc_score 0.920189810001961\n",
            "class 7  auc_score 0.918172350952699\n",
            "class 8  auc_score 0.8659692197030279\n",
            "class 9  auc_score 0.888657083123978\n"
          ]
        }
      ],
      "source": [
        "from sklearn.model_selection import cross_val_predict\n",
        "from sklearn.metrics import roc_auc_score  \n",
        "from sklearn.metrics import roc_curve\n",
        "total=0\n",
        "for i in range(10):\n",
        "      y_train_i=(y_train==i)\n",
        "      y_val_i=(y_test==i)\n",
        "\n",
        "      y_scores = cross_val_predict(knn_clf, X_train, y_train_i, cv=3) \n",
        "      fpr, tpr, thresholds = roc_curve(y_train_i, y_scores)\n",
        "      print(\"class\",i,\" auc_score\",roc_auc_score(y_train_i, y_scores))\n",
        "      total+=roc_auc_score(y_train_i, y_scores)"
      ]
    },
    {
      "cell_type": "markdown",
      "id": "GOiOp5PpZchb",
      "metadata": {
        "id": "GOiOp5PpZchb"
      },
      "source": [
        "Grid Search로 최적의 하이퍼파라미터 선정\n",
        "\n",
        "시간이 너무 오래 걸림"
      ]
    },
    {
      "cell_type": "code",
      "execution_count": null,
      "id": "vEU030YTY9qv",
      "metadata": {
        "colab": {
          "base_uri": "https://localhost:8080/"
        },
        "id": "vEU030YTY9qv",
        "outputId": "5f37bd3e-e934-48d5-b50b-deb76bc4204c"
      },
      "outputs": [
        {
          "name": "stdout",
          "output_type": "stream",
          "text": [
            "CPU times: user 2.42 s, sys: 693 ms, total: 3.11 s\n",
            "Wall time: 4min 49s\n"
          ]
        },
        {
          "data": {
            "text/plain": [
              "GridSearchCV(cv=5, estimator=KNeighborsClassifier(n_jobs=-1), n_jobs=-1,\n",
              "             param_grid={'metric': ['euclidean', 'minkowski'],\n",
              "                         'n_neighbors': [2, 3, 4, 5, 6, 7, 8, 9, 10, 11, 12],\n",
              "                         'weights': ['uniform', 'distance']})"
            ]
          },
          "execution_count": 67,
          "metadata": {},
          "output_type": "execute_result"
        }
      ],
      "source": [
        "from sklearn.model_selection import GridSearchCV\n",
        "\n",
        "knn_clf=KNeighborsClassifier(n_jobs=-1)\n",
        "params={'n_neighbors':list(range(2,13)),\n",
        "        'weights': [\"uniform\",'distance'],\n",
        "        'metric':['euclidean','minkowski']}\n",
        "knn_grid=GridSearchCV(knn_clf,param_grid=params,cv=5, n_jobs=-1)\n",
        "%time knn_grid.fit(X_train[:10000],y_train[:10000])"
      ]
    },
    {
      "cell_type": "markdown",
      "id": "wsD5vBMOcSsf",
      "metadata": {
        "id": "wsD5vBMOcSsf"
      },
      "source": [
        "0.84->0.868"
      ]
    },
    {
      "cell_type": "code",
      "execution_count": null,
      "id": "NR8imjTdZkgx",
      "metadata": {
        "colab": {
          "base_uri": "https://localhost:8080/"
        },
        "id": "NR8imjTdZkgx",
        "outputId": "c02ef5e2-f862-493e-f56b-0d4562e54142"
      },
      "outputs": [
        {
          "name": "stdout",
          "output_type": "stream",
          "text": [
            "CPU times: user 79.7 ms, sys: 4.96 ms, total: 84.7 ms\n",
            "Wall time: 107 ms\n",
            "{'metric': 'euclidean', 'n_neighbors': 2, 'weights': 'distance'}0.8683\n"
          ]
        }
      ],
      "source": [
        "%time knn_grid.best_estimator_.fit(X_train,y_train)\n",
        "print(f'{knn_grid.best_params_}{knn_grid.best_estimator_.score(X_val,y_val):0.4f}')"
      ]
    },
    {
      "cell_type": "markdown",
      "id": "r4BVRtwek1Hf",
      "metadata": {
        "id": "r4BVRtwek1Hf"
      },
      "source": [
        "-------------------------------------------------------------------------------------------------------"
      ]
    },
    {
      "cell_type": "markdown",
      "id": "BWD6bDZhPoWZ",
      "metadata": {
        "id": "BWD6bDZhPoWZ"
      },
      "source": [
        "scaling에 따른 분석"
      ]
    },
    {
      "cell_type": "code",
      "execution_count": null,
      "id": "Dq__iK7oC2G0",
      "metadata": {
        "id": "Dq__iK7oC2G0"
      },
      "outputs": [],
      "source": [
        "from sklearn.preprocessing import StandardScaler\n",
        "scaler = StandardScaler()\n",
        "scaler.fit(X_train)\n",
        "sX_train_scaled = scaler.transform(X_train)\n",
        "sX_val_scaled = scaler.transform(X_val)\n",
        "\n",
        "\n",
        "from sklearn.preprocessing import RobustScaler\n",
        "rscaler=RobustScaler()\n",
        "rscaler.fit(X_train)\n",
        "rX_train_scaled = rscaler.transform(X_train)\n",
        "rX_val_scaled = rscaler.transform(X_val)\n",
        "\n",
        "\n",
        "from sklearn.preprocessing import MinMaxScaler\n",
        "mscaler=MinMaxScaler()\n",
        "mscaler.fit(X_train)\n",
        "mX_train_scaled = mscaler.transform(X_train)\n",
        "mX_val_scaled = mscaler.transform(X_val)\n",
        "\n",
        "from sklearn.preprocessing import Normalizer\n",
        "nor=Normalizer()\n",
        "nor.fit(X_train)\n",
        "nX_train_scaled = nor.transform(X_train)\n",
        "nX_val_scaled = nor.transform(X_val)\n"
      ]
    },
    {
      "cell_type": "code",
      "execution_count": null,
      "id": "VMbswZyNNdQ3",
      "metadata": {
        "id": "VMbswZyNNdQ3"
      },
      "outputs": [],
      "source": [
        "def fit_and_calScoreTime(clf,X_train,X_val,y_train,y_val):\n",
        "\n",
        "  #fit_time\n",
        "  start_time=time.time()\n",
        "  clf.fit(X_train,y_train)\n",
        "  fit_time=(time.time()-start_time)\n",
        "\n",
        "  #pred_time\n",
        "  start_time = time.time()\n",
        "  pred = clf.predict(X_val)\n",
        "  pred_time=(time.time() - start_time)\n",
        "  \n",
        "    #score\n",
        "  score=clf.score(X_val,y_val)\n",
        "  \n",
        "  return score,fit_time,pred_time"
      ]
    },
    {
      "cell_type": "code",
      "execution_count": null,
      "id": "oCXIN1QWBDaF",
      "metadata": {
        "id": "oCXIN1QWBDaF"
      },
      "outputs": [],
      "source": [
        "names=[\"KNearest Neighbors\"]\n",
        "classifiers=[KNeighborsClassifier()]\n",
        "\n",
        "for name,clf in zip(names,classifiers):\n",
        "  scaling_names=['No_scaling','StandardScaler','RobustScalar','MinmaxScalaer','Normalizer']\n",
        "  t_score=[]\n",
        "  t_fit_times=[]\n",
        "  t_pred_times=[]\n",
        "\n",
        "  #no scaling\n",
        "  score,fit_time,pred_time=fit_and_calScoreTime(clf,X_train,X_val,y_train,y_val)\n",
        "  t_score.append(score)\n",
        "  t_fit_times.append(fit_time)\n",
        "  t_pred_times.append(pred_time)\n",
        "\n",
        "  try:\n",
        "    #standardScaler\n",
        "    sscore,sfit_time,spred_time=fit_and_calScoreTime(clf,sX_train_scaled,sX_val_scaled,y_train,y_val)\n",
        "    t_score.append(sscore)\n",
        "    t_fit_times.append(sfit_time)\n",
        "    t_pred_times.append(spred_time)\n",
        "\n",
        "    #RobustScaler\n",
        "    rscore,rfit_time,rpred_time=fit_and_calScoreTime(clf,rX_train_scaled,rX_val_scaled,y_train,y_val)\n",
        "    t_score.append(rscore)\n",
        "    t_fit_times.append(rfit_time)\n",
        "    t_pred_times.append(rpred_time)\n",
        "\n",
        "    #MinmaxScalaer\n",
        "    mscore,mfit_time,mpred_time=fit_and_calScoreTime(clf,mX_train_scaled,mX_val_scaled,y_train,y_val)\n",
        "    t_score.append(mscore)\n",
        "    t_fit_times.append(mfit_time)\n",
        "    t_pred_times.append(mpred_time)\n",
        "\n",
        "    #Normalizer\n",
        "    nscore,nfit_time,npred_time=fit_and_calScoreTime(clf,nX_train_scaled,nX_val_scaled,y_train,y_val)\n",
        "    t_score.append(nscore)\n",
        "    t_fit_times.append(nfit_time)\n",
        "    t_pred_times.append(npred_time)\n",
        "\n",
        "  except ValueError:\n",
        "    continue\n"
      ]
    },
    {
      "cell_type": "code",
      "execution_count": null,
      "id": "U9-FOvziLEKb",
      "metadata": {
        "colab": {
          "base_uri": "https://localhost:8080/"
        },
        "id": "U9-FOvziLEKb",
        "outputId": "a25f3b84-d511-4603-ddbc-f81ab0fb1e7f"
      },
      "outputs": [
        {
          "name": "stdout",
          "output_type": "stream",
          "text": [
            "[0.84698758396092, 0.8038367596173418, 0.7104620394870751, 0.8447486260940362, 0.8851516385100753]\n",
            "[0.04277181625366211, 0.12164759635925293, 0.06987667083740234, 0.07705187797546387, 0.09653902053833008]\n",
            "[85.06662583351135, 78.87884831428528, 74.84957718849182, 76.36448812484741, 79.72033071517944]\n"
          ]
        }
      ],
      "source": [
        "print(t_score)\n",
        "print(t_fit_times)     \n",
        "print( t_pred_times)"
      ]
    },
    {
      "cell_type": "markdown",
      "id": "HrSYdCacf9TW",
      "metadata": {
        "id": "HrSYdCacf9TW"
      },
      "source": [
        "normal이 제일 높음\n",
        "0.9"
      ]
    },
    {
      "cell_type": "code",
      "execution_count": null,
      "id": "ixq7eZNSgH9U",
      "metadata": {
        "id": "ixq7eZNSgH9U"
      },
      "outputs": [],
      "source": [
        "def fit_and_calScoreTime(clf,X_train,X_val,y_train,y_val):\n",
        "\n",
        "  #fit_time\n",
        "  start_time=time.time()\n",
        "  %time knn_grid.best_estimator_.fit(X_train,y_train)\n",
        "  fit_time=(time.time()-start_time)\n",
        "\n",
        "  #pred_time\n",
        "  start_time = time.time()\n",
        "  pred = clf.predict(X_val)\n",
        "  pred_time=(time.time() - start_time)\n",
        "  \n",
        "    #score\n",
        "  score=knn_grid.best_estimator_.score(X_val,y_val)\n",
        "  \n",
        "  return score,fit_time,pred_time"
      ]
    },
    {
      "cell_type": "code",
      "execution_count": null,
      "id": "J87WK3Eaf7lc",
      "metadata": {
        "colab": {
          "base_uri": "https://localhost:8080/"
        },
        "id": "J87WK3Eaf7lc",
        "outputId": "c2c936ae-09b5-4712-c5ea-e67127d39a39"
      },
      "outputs": [
        {
          "name": "stdout",
          "output_type": "stream",
          "text": [
            "CPU times: user 182 ms, sys: 23.9 ms, total: 206 ms\n",
            "Wall time: 202 ms\n",
            "0.9002137187054753\n",
            "0.20531702041625977\n",
            "80.99704265594482\n"
          ]
        }
      ],
      "source": [
        "from sklearn.preprocessing import Normalizer\n",
        "nor=Normalizer()\n",
        "nor.fit(X_train)\n",
        "nX_train_scaled = nor.transform(X_train)\n",
        "nX_val_scaled = nor.transform(X_val)\n",
        "\n",
        "nscore,nfit_time,npred_time=fit_and_calScoreTime(clf,nX_train_scaled,nX_val_scaled,y_train,y_val)\n",
        "\n",
        "print(nscore)\n",
        "print(nfit_time)     \n",
        "print( npred_time)"
      ]
    },
    {
      "cell_type": "code",
      "execution_count": null,
      "id": "XELJijPAhhDF",
      "metadata": {
        "id": "XELJijPAhhDF"
      },
      "outputs": [],
      "source": []
    }
  ],
  "metadata": {
    "colab": {
      "provenance": []
    },
    "kernelspec": {
      "display_name": "base",
      "language": "python",
      "name": "python3"
    },
    "language_info": {
      "codemirror_mode": {
        "name": "ipython",
        "version": 3
      },
      "file_extension": ".py",
      "mimetype": "text/x-python",
      "name": "python",
      "nbconvert_exporter": "python",
      "pygments_lexer": "ipython3",
      "version": "3.9.12"
    },
    "vscode": {
      "interpreter": {
        "hash": "2ca105a93104d08d207b05991868f47186dc0a806f7cc62155dba79bba6ceb0b"
      }
    }
  },
  "nbformat": 4,
  "nbformat_minor": 5
}
