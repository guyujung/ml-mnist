{
 "cells": [
  {
   "cell_type": "code",
   "execution_count": 1,
   "id": "83324e11",
   "metadata": {},
   "outputs": [
    {
     "name": "stdout",
     "output_type": "stream",
     "text": [
      "(1000, 28, 28) float64 (1000,) int64\n",
      "(1000, 28, 28) float64 (1000,) int64\n",
      "(1000, 28, 28) float64 (1000,) int32\n",
      "(1000, 28, 28) float64 (1000,) int32\n",
      "(26720, 28, 28) float64 (26720,) int64\n"
     ]
    },
    {
     "data": {
      "text/plain": [
       "<numpy.lib.npyio.NpzFile at 0x7f8fe8b06730>"
      ]
     },
     "execution_count": 1,
     "metadata": {},
     "output_type": "execute_result"
    }
   ],
   "source": [
    "%matplotlib inline\n",
    "import numpy as np\n",
    "import matplotlib.pyplot as plt\n",
    "import cv2\n",
    "import os\n",
    "import pandas as pd \n",
    "nd1=np.load('mnist_20211236_total.npz')#이윤재\n",
    "nd2=np.load('mnist_20201572_1.npz')#구유정\n",
    "nd3=np.load('mnist_20171372.npz')#김석우\n",
    "nd4=np.load('mnist_20170565.npz')#김성년\n",
    "nd6=np.load('H_MNIST_train.npz')\n",
    "print(nd1['img'].shape, nd1['img'].dtype, nd1['label'].shape, nd1['label'].dtype)\n",
    "print(nd2['img'].shape, nd2['img'].dtype, nd2['label'].shape, nd2['label'].dtype)\n",
    "print(nd3['img'].shape, nd3['img'].dtype, nd3['label'].shape, nd3['label'].dtype)\n",
    "print(nd4['img'].shape, nd4['img'].dtype, nd4['label'].shape, nd4['label'].dtype)\n",
    "print(nd6['img'].shape, nd6['img'].dtype, nd6['label'].shape, nd6['label'].dtype)\n",
    "\n",
    "X=np.concatenate((nd1['img'], nd2['img'],nd3['img'],nd4['img'],nd6['img']), axis=0)\n",
    "y=np.concatenate((nd1['label'], nd2['label'],nd3['label'],nd4['label'],nd6['label']), axis=0)\n",
    "np.savez_compressed('mnist_all.npz', X=X, y=y)\n",
    "nd5=np.load('mnist_all.npz')\n",
    "nd5"
   ]
  },
  {
   "cell_type": "code",
   "execution_count": 2,
   "id": "dc47e8c0",
   "metadata": {},
   "outputs": [
    {
     "data": {
      "text/plain": [
       "(30720, 784)"
      ]
     },
     "execution_count": 2,
     "metadata": {},
     "output_type": "execute_result"
    }
   ],
   "source": [
    "X=X.reshape(30720,784)\n",
    "X.shape"
   ]
  },
  {
   "cell_type": "code",
   "execution_count": 3,
   "id": "51650442",
   "metadata": {},
   "outputs": [],
   "source": [
    "#data cleaning : 질 안좋은 애들 다 빼 버렸다"
   ]
  },
  {
   "cell_type": "code",
   "execution_count": 4,
   "id": "f6804fb9",
   "metadata": {},
   "outputs": [
    {
     "data": {
      "text/plain": [
       "(28260, 784)"
      ]
     },
     "execution_count": 4,
     "metadata": {},
     "output_type": "execute_result"
    }
   ],
   "source": [
    "a=X[23110:23120]\n",
    "b=X[23230:23340]\n",
    "c=X[23420:23450]\n",
    "d=X[23520:23720]\n",
    "e=X[23770:23780]\n",
    "f=X[23900:23920]\n",
    "g=X[23970:24110]\n",
    "h=X[24140:24270]\n",
    "i=X[24780:28410]\n",
    "j=X[28460:30720]\n",
    "a_0=X[:2000]\n",
    "b_0=X[2100:2070]\n",
    "c_0=X[2210:2220]\n",
    "d_0=X[2230:2280]\n",
    "e_0=X[2410:2800]\n",
    "f_0=X[2900:6980]\n",
    "g_0=X[6900:7300]\n",
    "h_0=X[7400:7500]\n",
    "i_0=X[7600:7680]\n",
    "a_1=X[15361:18700]\n",
    "b_1=X[19120:19290]\n",
    "c_1=X[19300:19310]\n",
    "d_1=X[19320:21760]\n",
    "e_1=X[21780:21790]\n",
    "f_1=X[21800:21810]\n",
    "g_1=X[21820:21830]\n",
    "h_1=X[21840:21850]\n",
    "i_1=X[21860:21880]\n",
    "j_1= X[21890:23050]\n",
    "a_2=X[7680:8200]\n",
    "b_2=X[8220:8340]\n",
    "c_2=X[8360:9310]\n",
    "d_2=X[9520:11920]\n",
    "e_2=X[11950:12120]\n",
    "f_2=X[12220:15361]\n",
    "\n",
    "X_new=np.concatenate((a,b,c,d,e,f,h,g,h,i,j,a_0, b_0,c_0,d_0,e_0,f_0,g_0,h_0,i_0,a_1,b_1,c_1,d_1,e_1,f_1,g_1,h_1,i_1\n",
    "                     ,j_1,a_2,b_2,c_2,d_2,e_2,f_2))\n",
    "X_new=X_new.reshape(28260,784)\n",
    "X_new.shape"
   ]
  },
  {
   "cell_type": "code",
   "execution_count": 5,
   "id": "1d5ca8cf",
   "metadata": {},
   "outputs": [
    {
     "data": {
      "text/plain": [
       "(28260,)"
      ]
     },
     "execution_count": 5,
     "metadata": {},
     "output_type": "execute_result"
    }
   ],
   "source": [
    "a_3=y[23110:23120]\n",
    "b_3=y[23230:23340]\n",
    "c_3=y[23420:23450]\n",
    "d_3=y[23520:23720]\n",
    "e_3=y[23770:23780]\n",
    "f_3=y[23900:23920]\n",
    "g_3=y[23970:24110]\n",
    "h_3=y[24140:24270]\n",
    "i_3=y[24780:28410]\n",
    "j_3=y[28460:30720]\n",
    "a_4=y[:2000]\n",
    "b_4=y[2100:2070]\n",
    "c_4=y[2210:2220]\n",
    "d_4=y[2230:2280]\n",
    "e_4=y[2410:2800]\n",
    "f_4=y[2900:6980]\n",
    "g_4=y[6900:7300]\n",
    "h_4=y[7400:7500]\n",
    "i_4=y[7600:7680]\n",
    "a_5=y[15361:18700]\n",
    "b_5=y[19120:19290]\n",
    "c_5=y[19300:19310]\n",
    "d_5=y[19320:21760]\n",
    "e_5=y[21780:21790]\n",
    "f_5=y[21800:21810]\n",
    "g_5=y[21820:21830]\n",
    "h_5=y[21840:21850]\n",
    "i_5=y[21860:21880]\n",
    "j_5=y[21890:23050]\n",
    "a_6=y[7680:8200]\n",
    "b_6=y[8220:8340]\n",
    "c_6=y[8360:9310]\n",
    "d_6=y[9520:11920]\n",
    "e_6=y[11950:12120]\n",
    "f_6=y[12220:15361]\n",
    "y_new=np.concatenate((a_3,b_3,c_3,d_3,e_3,f_3,h_3,g_3,h_3,i_3,j_3,a_4, b_4,c_4,d_4,e_4,f_4,g_4,h_4,i_4,a_5,b_5,c_5,d_5,e_5,f_5,g_5,h_5,i_5\n",
    "                     ,j_5,a_6,b_6,c_6,d_6,e_6,f_6))\n",
    "y_new.shape"
   ]
  },
  {
   "cell_type": "code",
   "execution_count": 6,
   "id": "239fa81b",
   "metadata": {},
   "outputs": [],
   "source": [
    "#original MNIST data 불러오기"
   ]
  },
  {
   "cell_type": "code",
   "execution_count": 7,
   "id": "9d1b4406",
   "metadata": {},
   "outputs": [
    {
     "data": {
      "text/plain": [
       "dict_keys(['data', 'target', 'frame', 'categories', 'feature_names', 'target_names', 'DESCR', 'details', 'url'])"
      ]
     },
     "execution_count": 7,
     "metadata": {},
     "output_type": "execute_result"
    }
   ],
   "source": [
    "from sklearn.datasets import fetch_openml\n",
    "mnist = fetch_openml('mnist_784',version=1)\n",
    "mnist.keys()"
   ]
  },
  {
   "cell_type": "code",
   "execution_count": 8,
   "id": "f56bac57",
   "metadata": {},
   "outputs": [],
   "source": [
    "X_mnist, y_mnist = mnist[\"data\"], mnist[\"target\"] # X, y: pandas DataFrame"
   ]
  },
  {
   "cell_type": "code",
   "execution_count": 9,
   "id": "dbd7a87d",
   "metadata": {},
   "outputs": [],
   "source": [
    "y_mnist=y_mnist.astype(np.uint8)"
   ]
  },
  {
   "cell_type": "code",
   "execution_count": 10,
   "id": "e2f0a686",
   "metadata": {},
   "outputs": [],
   "source": [
    "#최종 데이터셋"
   ]
  },
  {
   "cell_type": "code",
   "execution_count": 11,
   "id": "1eea013a",
   "metadata": {},
   "outputs": [],
   "source": [
    "X_final=np.concatenate((X_new, X_mnist), axis=0)\n",
    "y_final=np.concatenate((y_new , y_mnist), axis=0)"
   ]
  },
  {
   "cell_type": "code",
   "execution_count": 12,
   "id": "eed14b8a",
   "metadata": {},
   "outputs": [],
   "source": [
    "#데이터셋 분할\n",
    "#6:2:2"
   ]
  },
  {
   "cell_type": "code",
   "execution_count": 13,
   "id": "2c777e47",
   "metadata": {},
   "outputs": [
    {
     "name": "stdout",
     "output_type": "stream",
     "text": [
      "(58956, 784) (19652, 784) (19652, 784)\n",
      "(58956,) (19652,) (19652,)\n"
     ]
    }
   ],
   "source": [
    "from sklearn.model_selection import train_test_split\n",
    "X_train0, X_test, y_train0, y_test = train_test_split(X_final, y_final, test_size=0.2, shuffle =True, random_state = 8)\n",
    "X_train, X_val, y_train, y_val = train_test_split(X_train0, y_train0,test_size=0.25, shuffle =True,random_state= 8) # 0.25 x 0.8 = 0.2\n",
    "\n",
    "print(X_train.shape, X_val.shape, X_test.shape)\n",
    "print(y_train.shape, y_val.shape, y_test.shape)"
   ]
  },
  {
   "cell_type": "code",
   "execution_count": 14,
   "id": "a837e14c",
   "metadata": {},
   "outputs": [],
   "source": [
    "# 각자 맡은 모델에 대하여 성능 테스트 (extra tree)"
   ]
  },
  {
   "cell_type": "code",
   "execution_count": 15,
   "id": "9dd1bd54",
   "metadata": {},
   "outputs": [
    {
     "name": "stdout",
     "output_type": "stream",
     "text": [
      "Fit time :  28.749264001846313\n",
      "cross_val_score [0.88316711 0.88733971 0.88988398]\n",
      "accuracy score: 0.9018929371056381\n"
     ]
    }
   ],
   "source": [
    "#extra tree 디폴트\n",
    "import time\n",
    "from sklearn.model_selection import cross_val_score\n",
    "from sklearn.metrics import accuracy_score\n",
    "\n",
    "from sklearn.ensemble import ExtraTreesClassifier\n",
    "start_time=time.time()\n",
    "extra_clf = ExtraTreesClassifier()\n",
    "extra_clf.fit(X_train,y_train)\n",
    "print('Fit time : ', time.time()- start_time)\n",
    "print('cross_val_score',cross_val_score(extra_clf, X_train, y_train, cv=3, scoring=\"accuracy\"))\n",
    "pred =extra_clf.predict(X_val)\n",
    "print('accuracy score:', accuracy_score(y_val, pred))"
   ]
  },
  {
   "cell_type": "code",
   "execution_count": 16,
   "id": "419f1f85",
   "metadata": {},
   "outputs": [
    {
     "name": "stdout",
     "output_type": "stream",
     "text": [
      "              precision    recall  f1-score   support\n",
      "\n",
      "           0       0.89      0.93      0.91      1952\n",
      "           1       0.90      0.97      0.94      2076\n",
      "           2       0.89      0.89      0.89      1930\n",
      "           3       0.88      0.87      0.87      1988\n",
      "           4       0.92      0.90      0.91      1915\n",
      "           5       0.91      0.89      0.90      1891\n",
      "           6       0.91      0.92      0.92      1962\n",
      "           7       0.88      0.92      0.90      2043\n",
      "           8       0.91      0.86      0.88      1968\n",
      "           9       0.91      0.86      0.89      1927\n",
      "\n",
      "    accuracy                           0.90     19652\n",
      "   macro avg       0.90      0.90      0.90     19652\n",
      "weighted avg       0.90      0.90      0.90     19652\n",
      "\n",
      "[[1823   30   20    4   13    6   20   20   11    5]\n",
      " [   3 2009   26   15    3    0    6   10    3    1]\n",
      " [  47   23 1725   48   24    4   18   14   21    6]\n",
      " [  27   30   58 1723    9   38   17   30   39   17]\n",
      " [  25   17   25    3 1732   13   22   22   11   45]\n",
      " [  23   24   15   58   15 1681   36   14   19    6]\n",
      " [  32   30   12    6   11   29 1810   10   18    4]\n",
      " [  19   31   20   13   17   13    6 1870   11   43]\n",
      " [  20   11   23   57   11   44   52   28 1688   34]\n",
      " [  18   16    6   34   49   11    6   97   27 1663]]\n"
     ]
    }
   ],
   "source": [
    "#Extra Classifier Confusion Matrix\n",
    "from sklearn.metrics import classification_report, confusion_matrix\n",
    "\n",
    "def results(y_val, pred):\n",
    "    print(classification_report(y_val,pred))\n",
    "    print(confusion_matrix(y_val,pred))\n",
    "\n",
    "    return confusion_matrix(y_val,pred)\n",
    "conf_extra=results(y_val,pred)"
   ]
  },
  {
   "cell_type": "code",
   "execution_count": 17,
   "id": "4796c404",
   "metadata": {},
   "outputs": [
    {
     "data": {
      "image/png": "[encoded data removed]",
      "text/plain": [
       "<Figure size 288x288 with 1 Axes>"
      ]
     },
     "metadata": {
      "needs_background": "light"
     },
     "output_type": "display_data"
    }
   ],
   "source": [
    "plt.matshow(conf_extra, cmap=plt.cm.gray)\n",
    "#save_fig(\"confusion_matrix_plot\", tight_layout=False)\n",
    "plt.show()"
   ]
  },
  {
   "cell_type": "code",
   "execution_count": 18,
   "id": "ca1b1f26",
   "metadata": {},
   "outputs": [
    {
     "data": {
      "text/plain": [
       "array([[9.33913934e-01, 1.53688525e-02, 1.02459016e-02, 2.04918033e-03,\n",
       "        6.65983607e-03, 3.07377049e-03, 1.02459016e-02, 1.02459016e-02,\n",
       "        5.63524590e-03, 2.56147541e-03],\n",
       "       [1.44508671e-03, 9.67726397e-01, 1.25240848e-02, 7.22543353e-03,\n",
       "        1.44508671e-03, 0.00000000e+00, 2.89017341e-03, 4.81695568e-03,\n",
       "        1.44508671e-03, 4.81695568e-04],\n",
       "       [2.43523316e-02, 1.19170984e-02, 8.93782383e-01, 2.48704663e-02,\n",
       "        1.24352332e-02, 2.07253886e-03, 9.32642487e-03, 7.25388601e-03,\n",
       "        1.08808290e-02, 3.10880829e-03],\n",
       "       [1.35814889e-02, 1.50905433e-02, 2.91750503e-02, 8.66700201e-01,\n",
       "        4.52716298e-03, 1.91146881e-02, 8.55130785e-03, 1.50905433e-02,\n",
       "        1.96177062e-02, 8.55130785e-03],\n",
       "       [1.30548303e-02, 8.87728460e-03, 1.30548303e-02, 1.56657963e-03,\n",
       "        9.04438642e-01, 6.78851175e-03, 1.14882507e-02, 1.14882507e-02,\n",
       "        5.74412533e-03, 2.34986945e-02],\n",
       "       [1.21628768e-02, 1.26916975e-02, 7.93231095e-03, 3.06716023e-02,\n",
       "        7.93231095e-03, 8.88947647e-01, 1.90375463e-02, 7.40349022e-03,\n",
       "        1.00475939e-02, 3.17292438e-03],\n",
       "       [1.63098879e-02, 1.52905199e-02, 6.11620795e-03, 3.05810398e-03,\n",
       "        5.60652396e-03, 1.47808359e-02, 9.22528033e-01, 5.09683996e-03,\n",
       "        9.17431193e-03, 2.03873598e-03],\n",
       "       [9.30004895e-03, 1.51737641e-02, 9.78952521e-03, 6.36319139e-03,\n",
       "        8.32109643e-03, 6.36319139e-03, 2.93685756e-03, 9.15320607e-01,\n",
       "        5.38423886e-03, 2.10474792e-02],\n",
       "       [1.01626016e-02, 5.58943089e-03, 1.16869919e-02, 2.89634146e-02,\n",
       "        5.58943089e-03, 2.23577236e-02, 2.64227642e-02, 1.42276423e-02,\n",
       "        8.57723577e-01, 1.72764228e-02],\n",
       "       [9.34094447e-03, 8.30306175e-03, 3.11364816e-03, 1.76440062e-02,\n",
       "        2.54281266e-02, 5.70835496e-03, 3.11364816e-03, 5.03373119e-02,\n",
       "        1.40114167e-02, 8.62999481e-01]])"
      ]
     },
     "execution_count": 18,
     "metadata": {},
     "output_type": "execute_result"
    }
   ],
   "source": [
    "row_sums = conf_extra.sum(axis=1, keepdims=True)\n",
    "norm_conf_extra = conf_extra / row_sums\n",
    "norm_conf_extra"
   ]
  },
  {
   "cell_type": "code",
   "execution_count": 19,
   "id": "b080b837",
   "metadata": {},
   "outputs": [
    {
     "data": {
      "image/png": "[encoded data removed]",
      "text/plain": [
       "<Figure size 288x288 with 1 Axes>"
      ]
     },
     "metadata": {
      "needs_background": "light"
     },
     "output_type": "display_data"
    }
   ],
   "source": [
    "np.fill_diagonal(norm_conf_extra, 0)\n",
    "plt.matshow(norm_conf_extra, cmap=plt.cm.gray)\n",
    "#save_fig(\"confusion_matrix_errors_plot\", tight_layout=False)\n",
    "plt.show()"
   ]
  },
  {
   "cell_type": "code",
   "execution_count": 20,
   "id": "739a5a0d",
   "metadata": {},
   "outputs": [
    {
     "name": "stdout",
     "output_type": "stream",
     "text": [
      "class 0  auc_score 0.9085770774863379\n",
      "class 1  auc_score 0.9539094426228194\n",
      "class 2  auc_score 0.8608877897165326\n",
      "class 3  auc_score 0.8299243268385434\n",
      "class 4  auc_score 0.8662428674480578\n",
      "class 5  auc_score 0.8431395601490104\n",
      "class 6  auc_score 0.8783064208313828\n",
      "class 7  auc_score 0.875176485244761\n",
      "class 8  auc_score 0.823023653473558\n",
      "class 9  auc_score 0.8308588547960125\n"
     ]
    }
   ],
   "source": [
    "from sklearn.model_selection import cross_val_predict\n",
    "from sklearn.metrics import roc_auc_score  \n",
    "from sklearn.metrics import roc_curve\n",
    "total=0\n",
    "for i in range(10):\n",
    "      y_train_i=(y_train==i)\n",
    "      y_val_i=(y_test==i)\n",
    "\n",
    "      y_scores = cross_val_predict(extra_clf, X_train, y_train_i, cv=3) \n",
    "      fpr, tpr, thresholds = roc_curve(y_train_i, y_scores)\n",
    "      print(\"class\",i,\" auc_score\",roc_auc_score(y_train_i, y_scores))\n",
    "      total+=roc_auc_score(y_train_i, y_scores)"
   ]
  },
  {
   "cell_type": "code",
   "execution_count": 21,
   "id": "ec425010",
   "metadata": {},
   "outputs": [
    {
     "name": "stderr",
     "output_type": "stream",
     "text": [
      "/Users/yoon-jaelee/opt/anaconda3/lib/python3.9/site-packages/joblib/externals/loky/process_executor.py:702: UserWarning: A worker stopped while some jobs were given to the executor. This can be caused by a too short worker timeout or by a memory leak.\n",
      "  warnings.warn(\n"
     ]
    },
    {
     "name": "stdout",
     "output_type": "stream",
     "text": [
      "{'max_depth': None, 'n_estimators': 1500}\n",
      "0.8423\n"
     ]
    }
   ],
   "source": [
    "#Grid Search\n",
    "from sklearn.model_selection import GridSearchCV\n",
    "\n",
    "\n",
    "params={'max_depth':[None,10,50,100],'n_estimators':[100,500,1000,1500]}\n",
    "extra_grid=GridSearchCV(extra_clf,param_grid=params, cv=5,n_jobs=-1)\n",
    "extra_grid.fit(X_train[:10000],y_train[:10000])\n",
    "\n",
    "print(extra_grid.best_params_)\n",
    "print(extra_grid.best_score_)"
   ]
  },
  {
   "cell_type": "code",
   "execution_count": 22,
   "id": "d7400f17",
   "metadata": {},
   "outputs": [
    {
     "name": "stdout",
     "output_type": "stream",
     "text": [
      "CPU times: user 6min 41s, sys: 3.55 s, total: 6min 45s\n",
      "Wall time: 6min 46s\n",
      "{'max_depth': None, 'n_estimators': 1500}0.9102\n"
     ]
    }
   ],
   "source": [
    "%time extra_grid.best_estimator_.fit(X_train,y_train)\n",
    "print(f'{extra_grid.best_params_}{extra_grid.best_estimator_.score(X_val,y_val):0.4f}')"
   ]
  },
  {
   "cell_type": "code",
   "execution_count": 23,
   "id": "a9f8108b",
   "metadata": {},
   "outputs": [],
   "source": [
    "from sklearn.preprocessing import StandardScaler\n",
    "scaler = StandardScaler()\n",
    "scaler.fit(X_train)\n",
    "sX_train_scaled = scaler.transform(X_train)\n",
    "sX_val_scaled = scaler.transform(X_val)\n",
    "\n",
    "\n",
    "from sklearn.preprocessing import RobustScaler\n",
    "rscaler=RobustScaler()\n",
    "rscaler.fit(X_train)\n",
    "rX_train_scaled = rscaler.transform(X_train)\n",
    "rX_val_scaled = rscaler.transform(X_val)\n",
    "\n",
    "\n",
    "from sklearn.preprocessing import MinMaxScaler\n",
    "mscaler=MinMaxScaler()\n",
    "mscaler.fit(X_train)\n",
    "mX_train_scaled = mscaler.transform(X_train)\n",
    "mX_val_scaled = mscaler.transform(X_val)\n",
    "\n",
    "from sklearn.preprocessing import Normalizer\n",
    "nor=Normalizer()\n",
    "nor.fit(X_train)\n",
    "nX_train_scaled = nor.transform(X_train)\n",
    "nX_val_scaled = nor.transform(X_val)"
   ]
  },
  {
   "cell_type": "code",
   "execution_count": 24,
   "id": "00e2a25f",
   "metadata": {},
   "outputs": [],
   "source": [
    "def fit_and_calScoreTime(clf,X_train,X_val,y_train,y_val):\n",
    "\n",
    "  #fit_time\n",
    "  start_time=time.time()\n",
    "  clf.fit(X_train,y_train)\n",
    "  fit_time=(time.time()-start_time)\n",
    "\n",
    "  #pred_time\n",
    "  start_time = time.time()\n",
    "  pred = clf.predict(X_val)\n",
    "  pred_time=(time.time() - start_time)\n",
    "  \n",
    "    #score\n",
    "  score=clf.score(X_val,y_val)\n",
    "  \n",
    "  return score,fit_time,pred_time"
   ]
  },
  {
   "cell_type": "code",
   "execution_count": 25,
   "id": "7b0088a9",
   "metadata": {},
   "outputs": [],
   "source": [
    "names=[\"extra\"]\n",
    "classifiers=[ExtraTreesClassifier()]\n",
    "\n",
    "for name,clf in zip(names,classifiers):\n",
    "  scaling_names=['No_scaling','StandardScaler','RobustScalar','MinmaxScalaer','Normalizer']\n",
    "  t_score=[]\n",
    "  t_fit_times=[]\n",
    "  t_pred_times=[]\n",
    "\n",
    "  #no scaling\n",
    "  score,fit_time,pred_time=fit_and_calScoreTime(clf,X_train,X_val,y_train,y_val)\n",
    "  t_score.append(score)\n",
    "  t_fit_times.append(fit_time)\n",
    "  t_pred_times.append(pred_time)\n",
    "\n",
    "\n",
    "  try:\n",
    "    #standardScaler\n",
    "    sscore,sfit_time,spred_time=fit_and_calScoreTime(clf,sX_train_scaled,sX_val_scaled,y_train,y_val)\n",
    "    t_score.append(sscore)\n",
    "    t_fit_times.append(sfit_time)\n",
    "    t_pred_times.append(spred_time)\n",
    "\n",
    "    #RobustScaler\n",
    "    rscore,rfit_time,rpred_time=fit_and_calScoreTime(clf,rX_train_scaled,rX_val_scaled,y_train,y_val)\n",
    "    t_score.append(rscore)\n",
    "    t_fit_times.append(rfit_time)\n",
    "    t_pred_times.append(rpred_time)\n",
    "\n",
    "    #MinmaxScalaer\n",
    "    mscore,mfit_time,mpred_time=fit_and_calScoreTime(clf,mX_train_scaled,mX_val_scaled,y_train,y_val)\n",
    "    t_score.append(mscore)\n",
    "    t_fit_times.append(mfit_time)\n",
    "    t_pred_times.append(mpred_time)\n",
    "\n",
    "    #Normalizer\n",
    "    nscore,nfit_time,npred_time=fit_and_calScoreTime(clf,nX_train_scaled,nX_val_scaled,y_train,y_val)\n",
    "    t_score.append(nscore)\n",
    "    t_fit_times.append(nfit_time)\n",
    "    t_pred_times.append(npred_time)\n",
    "\n",
    "  except ValueError:\n",
    "    continue"
   ]
  },
  {
   "cell_type": "code",
   "execution_count": 26,
   "id": "e3023e05",
   "metadata": {},
   "outputs": [
    {
     "name": "stdout",
     "output_type": "stream",
     "text": [
      "[0.9026053327905557, 0.9009769997964584, 0.9008243435782618, 0.9005699165479341, 0.8961937716262975]\n",
      "[27.176713943481445, 27.04082989692688, 28.050233125686646, 27.46719002723694, 18.592222929000854]\n",
      "[0.6453938484191895, 0.6232030391693115, 0.6862359046936035, 0.6279222965240479, 0.605633020401001]\n"
     ]
    }
   ],
   "source": [
    "print(t_score)\n",
    "print(t_fit_times)     \n",
    "print( t_pred_times)"
   ]
  },
  {
   "cell_type": "code",
   "execution_count": 27,
   "id": "cb60a5c6",
   "metadata": {},
   "outputs": [],
   "source": [
    "def fit_and_calScoreTime(clf,X_train,X_val,y_train,y_val):\n",
    "\n",
    "  #fit_time\n",
    "  start_time=time.time()\n",
    "  %time extra_grid.best_estimator_.fit(X_train,y_train)\n",
    "  fit_time=(time.time()-start_time)\n",
    "\n",
    "  #pred_time\n",
    "  start_time = time.time()\n",
    "  pred = clf.predict(X_val)\n",
    "  pred_time=(time.time() - start_time)\n",
    "  \n",
    "    #score\n",
    "  score=extra_grid.best_estimator_.score(X_val,y_val)\n",
    "  \n",
    "  return score,fit_time,pred_time"
   ]
  },
  {
   "cell_type": "code",
   "execution_count": 28,
   "id": "22329236",
   "metadata": {},
   "outputs": [
    {
     "name": "stdout",
     "output_type": "stream",
     "text": [
      "CPU times: user 6min 49s, sys: 4.28 s, total: 6min 53s\n",
      "Wall time: 6min 55s\n",
      "0.909220435579076\n",
      "415.18769693374634\n",
      "0.8893890380859375\n"
     ]
    }
   ],
   "source": [
    "from sklearn.preprocessing import RobustScaler\n",
    "rob=RobustScaler()\n",
    "rob.fit(X_train)\n",
    "nX_train_scaled = rob.transform(X_train)\n",
    "nX_val_scaled = rob.transform(X_val)\n",
    "\n",
    "rscore,rfit_time,rpred_time=fit_and_calScoreTime(clf,rX_train_scaled,rX_val_scaled,y_train,y_val)\n",
    "\n",
    "print(rscore)\n",
    "print(rfit_time)     \n",
    "print(rpred_time)"
   ]
  },
  {
   "cell_type": "code",
   "execution_count": 29,
   "id": "b96bf252",
   "metadata": {},
   "outputs": [
    {
     "data": {
      "text/plain": [
       "0.8981783024628537"
      ]
     },
     "execution_count": 29,
     "metadata": {},
     "output_type": "execute_result"
    }
   ],
   "source": [
    "extra_clf.score(X_test,y_test)"
   ]
  },
  {
   "cell_type": "code",
   "execution_count": null,
   "id": "19785d58",
   "metadata": {},
   "outputs": [],
   "source": []
  }
 ],
 "metadata": {
  "kernelspec": {
   "display_name": "base",
   "language": "python",
   "name": "python3"
  },
  "language_info": {
   "codemirror_mode": {
    "name": "ipython",
    "version": 3
   },
   "file_extension": ".py",
   "mimetype": "text/x-python",
   "name": "python",
   "nbconvert_exporter": "python",
   "pygments_lexer": "ipython3",
   "version": "3.9.12"
  },
  "vscode": {
   "interpreter": {
    "hash": "2ca105a93104d08d207b05991868f47186dc0a806f7cc62155dba79bba6ceb0b"
   }
  }
 },
 "nbformat": 4,
 "nbformat_minor": 5
}
